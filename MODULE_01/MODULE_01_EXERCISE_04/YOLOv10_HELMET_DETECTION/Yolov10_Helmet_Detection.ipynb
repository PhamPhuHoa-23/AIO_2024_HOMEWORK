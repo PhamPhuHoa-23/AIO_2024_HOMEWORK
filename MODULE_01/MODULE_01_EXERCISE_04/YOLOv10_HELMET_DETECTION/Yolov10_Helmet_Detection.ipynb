{
 "cells": [
  {
   "metadata": {},
   "cell_type": "markdown",
   "source": "# HELMET DETECTION PROJECT - YOLOv10",
   "id": "e0cea8da3784320c"
  },
  {
   "metadata": {},
   "cell_type": "markdown",
   "source": "## Cloning Yolov10",
   "id": "c9a06c215dd3f3ec"
  },
  {
   "cell_type": "code",
   "id": "initial_id",
   "metadata": {
    "collapsed": true
   },
   "source": "!git clone https://github.com/THU-MIG/yolov10.git",
   "outputs": [],
   "execution_count": null
  },
  {
   "metadata": {
    "jupyter": {
     "is_executing": true
    }
   },
   "cell_type": "code",
   "source": "%cd yolov10",
   "id": "c310acdcf66a45ae",
   "outputs": [],
   "execution_count": null
  },
  {
   "metadata": {
    "jupyter": {
     "is_executing": true
    }
   },
   "cell_type": "code",
   "source": "%ls",
   "id": "c1afd2fa4138ac7f",
   "outputs": [],
   "execution_count": null
  },
  {
   "metadata": {},
   "cell_type": "markdown",
   "source": "# Install necessary packages",
   "id": "e2a3c613fba2343a"
  },
  {
   "metadata": {},
   "cell_type": "code",
   "source": [
    "!pip install -r requirements.txt\n",
    "!pip install -e ."
   ],
   "id": "b333fc5583d74603",
   "outputs": [],
   "execution_count": null
  },
  {
   "metadata": {},
   "cell_type": "markdown",
   "source": "# Load pre-trained model",
   "id": "19276c99c9dca420"
  },
  {
   "metadata": {},
   "cell_type": "code",
   "source": [
    "from ultralytics import YOLOv10\n",
    "\n",
    "MODEL_PATH = 'yolov10n.pt'\n",
    "model = YOLOv10(MODEL_PATH)"
   ],
   "id": "5c2fa554fc869cad",
   "outputs": [],
   "execution_count": null
  },
  {
   "metadata": {},
   "cell_type": "markdown",
   "source": "# Dowload some image and test with pre-trained model",
   "id": "9f47e6789fce5675"
  },
  {
   "metadata": {},
   "cell_type": "code",
   "outputs": [],
   "execution_count": null,
   "source": "!gdown '1tr9PSRRdlC2pNir7jsYugpSMG-7v32VJ' -O './images/'",
   "id": "9474a36b14c12e51"
  },
  {
   "metadata": {},
   "cell_type": "code",
   "outputs": [],
   "execution_count": null,
   "source": [
    "IMG_PATH = r'images/HCMC_Street.jpg'\n",
    "result = model(source=IMG_PATH)[0]"
   ],
   "id": "43833af551d97928"
  },
  {
   "metadata": {},
   "cell_type": "code",
   "outputs": [],
   "execution_count": null,
   "source": "result.save('./images/HCMC_Street_predict.png')",
   "id": "4946cc18aeaef472"
  },
  {
   "metadata": {},
   "cell_type": "code",
   "outputs": [],
   "execution_count": null,
   "source": "# Test with youtube video",
   "id": "f0d2eb7c9ce0c0e1"
  },
  {
   "metadata": {},
   "cell_type": "code",
   "outputs": [],
   "execution_count": null,
   "source": [
    "YOUTUBE_VIDEO_PATH = 'https://youtu.be/wqPSsu7XQ74'\n",
    "video_result = model(source=YOUTUBE_VIDEO_PATH)"
   ],
   "id": "63621cff9474a00a"
  },
  {
   "metadata": {},
   "cell_type": "markdown",
   "source": "# Dowload Dataset",
   "id": "46c1ad464dd9de32"
  },
  {
   "metadata": {},
   "cell_type": "code",
   "outputs": [],
   "execution_count": null,
   "source": " !gdown '1twdtZEfcw4ghSZIiPDypJurZnNXzMO7R'",
   "id": "38f4791978c3abcd"
  },
  {
   "metadata": {},
   "cell_type": "code",
   "outputs": [],
   "execution_count": null,
   "source": [
    "!gdown '1twdtZEfcw4ghSZIiPDypJurZnNXzMO7R'\n",
    "!mkdir safety_helmet_dataset\n",
    "!unzip -q 'Safety_Helmet_Dataset.zip' -d 'safety_helmet_dataset'"
   ],
   "id": "1f497d46c049c04d"
  },
  {
   "metadata": {},
   "cell_type": "code",
   "outputs": [],
   "execution_count": null,
   "source": "# Fine-tuning model to fit with dataset",
   "id": "6171b93f0367aace"
  },
  {
   "metadata": {},
   "cell_type": "code",
   "outputs": [],
   "execution_count": null,
   "source": [
    "YAML_PATH = '../safety_helmet_dataset/data.yaml'\n",
    "EPOCHS = 50\n",
    "IMG_SIZE = 640 # 640\n",
    "BATCH_SIZE = 64 # 256\n",
    "\n",
    "model.train(data=YAML_PATH,\n",
    "            epochs=EPOCHS,\n",
    "            batch=BATCH_SIZE,\n",
    "            imgsz=IMG_SIZE)"
   ],
   "id": "73bd28a36c7f7eff"
  },
  {
   "metadata": {},
   "cell_type": "markdown",
   "source": "# Evaluate model",
   "id": "43b0c78c08e30c18"
  },
  {
   "metadata": {},
   "cell_type": "code",
   "outputs": [],
   "execution_count": null,
   "source": [
    "TRAINED_MODEL_PATH = 'runs/detect/train4/weights/best.pt'\n",
    "model = YOLOv10(TRAINED_MODEL_PATH)\n",
    "\n",
    "model.val(data=YAML_PATH,\n",
    "          imgsz=IMG_SIZE,\n",
    "          split='test')"
   ],
   "id": "a4d380e95c2cdea5"
  }
 ],
 "metadata": {
  "kernelspec": {
   "display_name": "Python 3",
   "language": "python",
   "name": "python3"
  },
  "language_info": {
   "codemirror_mode": {
    "name": "ipython",
    "version": 2
   },
   "file_extension": ".py",
   "mimetype": "text/x-python",
   "name": "python",
   "nbconvert_exporter": "python",
   "pygments_lexer": "ipython2",
   "version": "2.7.6"
  }
 },
 "nbformat": 4,
 "nbformat_minor": 5
}
