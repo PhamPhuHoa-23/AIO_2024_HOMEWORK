{
  "nbformat": 4,
  "nbformat_minor": 0,
  "metadata": {
    "colab": {
      "provenance": []
    },
    "kernelspec": {
      "name": "python3",
      "display_name": "Python 3"
    },
    "language_info": {
      "name": "python"
    },
    "widgets": {
      "application/vnd.jupyter.widget-state+json": {
        "07679efd7b7a4c89848a330f965f11dc": {
          "model_module": "@jupyter-widgets/controls",
          "model_name": "HBoxModel",
          "model_module_version": "1.5.0",
          "state": {
            "_dom_classes": [],
            "_model_module": "@jupyter-widgets/controls",
            "_model_module_version": "1.5.0",
            "_model_name": "HBoxModel",
            "_view_count": null,
            "_view_module": "@jupyter-widgets/controls",
            "_view_module_version": "1.5.0",
            "_view_name": "HBoxView",
            "box_style": "",
            "children": [
              "IPY_MODEL_58e7834075b5405986770c261fb9b5da",
              "IPY_MODEL_247d4092c5ff4205a31523cf808cd266",
              "IPY_MODEL_64456432bfdf4e13bc063c014c376ed1"
            ],
            "layout": "IPY_MODEL_34e195b16372422890c17d277255439d"
          }
        },
        "58e7834075b5405986770c261fb9b5da": {
          "model_module": "@jupyter-widgets/controls",
          "model_name": "HTMLModel",
          "model_module_version": "1.5.0",
          "state": {
            "_dom_classes": [],
            "_model_module": "@jupyter-widgets/controls",
            "_model_module_version": "1.5.0",
            "_model_name": "HTMLModel",
            "_view_count": null,
            "_view_module": "@jupyter-widgets/controls",
            "_view_module_version": "1.5.0",
            "_view_name": "HTMLView",
            "description": "",
            "description_tooltip": null,
            "layout": "IPY_MODEL_dec9f991f5a947a39bc9c33c2200aed5",
            "placeholder": "​",
            "style": "IPY_MODEL_333a100b1e2b4d1db2f9913b3fd025fd",
            "value": "open_clip_pytorch_model.bin: 100%"
          }
        },
        "247d4092c5ff4205a31523cf808cd266": {
          "model_module": "@jupyter-widgets/controls",
          "model_name": "FloatProgressModel",
          "model_module_version": "1.5.0",
          "state": {
            "_dom_classes": [],
            "_model_module": "@jupyter-widgets/controls",
            "_model_module_version": "1.5.0",
            "_model_name": "FloatProgressModel",
            "_view_count": null,
            "_view_module": "@jupyter-widgets/controls",
            "_view_module_version": "1.5.0",
            "_view_name": "ProgressView",
            "bar_style": "success",
            "description": "",
            "description_tooltip": null,
            "layout": "IPY_MODEL_27a7a721832f474f8f9696969e4d08d5",
            "max": 605219813,
            "min": 0,
            "orientation": "horizontal",
            "style": "IPY_MODEL_b2332673e931480db7b6f727c7fd9313",
            "value": 605219813
          }
        },
        "64456432bfdf4e13bc063c014c376ed1": {
          "model_module": "@jupyter-widgets/controls",
          "model_name": "HTMLModel",
          "model_module_version": "1.5.0",
          "state": {
            "_dom_classes": [],
            "_model_module": "@jupyter-widgets/controls",
            "_model_module_version": "1.5.0",
            "_model_name": "HTMLModel",
            "_view_count": null,
            "_view_module": "@jupyter-widgets/controls",
            "_view_module_version": "1.5.0",
            "_view_name": "HTMLView",
            "description": "",
            "description_tooltip": null,
            "layout": "IPY_MODEL_7eca05f214f24b6ab062e9db51d6e087",
            "placeholder": "​",
            "style": "IPY_MODEL_d0ce1fcf73024c72a52c7634f31579fc",
            "value": " 605M/605M [00:07&lt;00:00, 181MB/s]"
          }
        },
        "34e195b16372422890c17d277255439d": {
          "model_module": "@jupyter-widgets/base",
          "model_name": "LayoutModel",
          "model_module_version": "1.2.0",
          "state": {
            "_model_module": "@jupyter-widgets/base",
            "_model_module_version": "1.2.0",
            "_model_name": "LayoutModel",
            "_view_count": null,
            "_view_module": "@jupyter-widgets/base",
            "_view_module_version": "1.2.0",
            "_view_name": "LayoutView",
            "align_content": null,
            "align_items": null,
            "align_self": null,
            "border": null,
            "bottom": null,
            "display": null,
            "flex": null,
            "flex_flow": null,
            "grid_area": null,
            "grid_auto_columns": null,
            "grid_auto_flow": null,
            "grid_auto_rows": null,
            "grid_column": null,
            "grid_gap": null,
            "grid_row": null,
            "grid_template_areas": null,
            "grid_template_columns": null,
            "grid_template_rows": null,
            "height": null,
            "justify_content": null,
            "justify_items": null,
            "left": null,
            "margin": null,
            "max_height": null,
            "max_width": null,
            "min_height": null,
            "min_width": null,
            "object_fit": null,
            "object_position": null,
            "order": null,
            "overflow": null,
            "overflow_x": null,
            "overflow_y": null,
            "padding": null,
            "right": null,
            "top": null,
            "visibility": null,
            "width": null
          }
        },
        "dec9f991f5a947a39bc9c33c2200aed5": {
          "model_module": "@jupyter-widgets/base",
          "model_name": "LayoutModel",
          "model_module_version": "1.2.0",
          "state": {
            "_model_module": "@jupyter-widgets/base",
            "_model_module_version": "1.2.0",
            "_model_name": "LayoutModel",
            "_view_count": null,
            "_view_module": "@jupyter-widgets/base",
            "_view_module_version": "1.2.0",
            "_view_name": "LayoutView",
            "align_content": null,
            "align_items": null,
            "align_self": null,
            "border": null,
            "bottom": null,
            "display": null,
            "flex": null,
            "flex_flow": null,
            "grid_area": null,
            "grid_auto_columns": null,
            "grid_auto_flow": null,
            "grid_auto_rows": null,
            "grid_column": null,
            "grid_gap": null,
            "grid_row": null,
            "grid_template_areas": null,
            "grid_template_columns": null,
            "grid_template_rows": null,
            "height": null,
            "justify_content": null,
            "justify_items": null,
            "left": null,
            "margin": null,
            "max_height": null,
            "max_width": null,
            "min_height": null,
            "min_width": null,
            "object_fit": null,
            "object_position": null,
            "order": null,
            "overflow": null,
            "overflow_x": null,
            "overflow_y": null,
            "padding": null,
            "right": null,
            "top": null,
            "visibility": null,
            "width": null
          }
        },
        "333a100b1e2b4d1db2f9913b3fd025fd": {
          "model_module": "@jupyter-widgets/controls",
          "model_name": "DescriptionStyleModel",
          "model_module_version": "1.5.0",
          "state": {
            "_model_module": "@jupyter-widgets/controls",
            "_model_module_version": "1.5.0",
            "_model_name": "DescriptionStyleModel",
            "_view_count": null,
            "_view_module": "@jupyter-widgets/base",
            "_view_module_version": "1.2.0",
            "_view_name": "StyleView",
            "description_width": ""
          }
        },
        "27a7a721832f474f8f9696969e4d08d5": {
          "model_module": "@jupyter-widgets/base",
          "model_name": "LayoutModel",
          "model_module_version": "1.2.0",
          "state": {
            "_model_module": "@jupyter-widgets/base",
            "_model_module_version": "1.2.0",
            "_model_name": "LayoutModel",
            "_view_count": null,
            "_view_module": "@jupyter-widgets/base",
            "_view_module_version": "1.2.0",
            "_view_name": "LayoutView",
            "align_content": null,
            "align_items": null,
            "align_self": null,
            "border": null,
            "bottom": null,
            "display": null,
            "flex": null,
            "flex_flow": null,
            "grid_area": null,
            "grid_auto_columns": null,
            "grid_auto_flow": null,
            "grid_auto_rows": null,
            "grid_column": null,
            "grid_gap": null,
            "grid_row": null,
            "grid_template_areas": null,
            "grid_template_columns": null,
            "grid_template_rows": null,
            "height": null,
            "justify_content": null,
            "justify_items": null,
            "left": null,
            "margin": null,
            "max_height": null,
            "max_width": null,
            "min_height": null,
            "min_width": null,
            "object_fit": null,
            "object_position": null,
            "order": null,
            "overflow": null,
            "overflow_x": null,
            "overflow_y": null,
            "padding": null,
            "right": null,
            "top": null,
            "visibility": null,
            "width": null
          }
        },
        "b2332673e931480db7b6f727c7fd9313": {
          "model_module": "@jupyter-widgets/controls",
          "model_name": "ProgressStyleModel",
          "model_module_version": "1.5.0",
          "state": {
            "_model_module": "@jupyter-widgets/controls",
            "_model_module_version": "1.5.0",
            "_model_name": "ProgressStyleModel",
            "_view_count": null,
            "_view_module": "@jupyter-widgets/base",
            "_view_module_version": "1.2.0",
            "_view_name": "StyleView",
            "bar_color": null,
            "description_width": ""
          }
        },
        "7eca05f214f24b6ab062e9db51d6e087": {
          "model_module": "@jupyter-widgets/base",
          "model_name": "LayoutModel",
          "model_module_version": "1.2.0",
          "state": {
            "_model_module": "@jupyter-widgets/base",
            "_model_module_version": "1.2.0",
            "_model_name": "LayoutModel",
            "_view_count": null,
            "_view_module": "@jupyter-widgets/base",
            "_view_module_version": "1.2.0",
            "_view_name": "LayoutView",
            "align_content": null,
            "align_items": null,
            "align_self": null,
            "border": null,
            "bottom": null,
            "display": null,
            "flex": null,
            "flex_flow": null,
            "grid_area": null,
            "grid_auto_columns": null,
            "grid_auto_flow": null,
            "grid_auto_rows": null,
            "grid_column": null,
            "grid_gap": null,
            "grid_row": null,
            "grid_template_areas": null,
            "grid_template_columns": null,
            "grid_template_rows": null,
            "height": null,
            "justify_content": null,
            "justify_items": null,
            "left": null,
            "margin": null,
            "max_height": null,
            "max_width": null,
            "min_height": null,
            "min_width": null,
            "object_fit": null,
            "object_position": null,
            "order": null,
            "overflow": null,
            "overflow_x": null,
            "overflow_y": null,
            "padding": null,
            "right": null,
            "top": null,
            "visibility": null,
            "width": null
          }
        },
        "d0ce1fcf73024c72a52c7634f31579fc": {
          "model_module": "@jupyter-widgets/controls",
          "model_name": "DescriptionStyleModel",
          "model_module_version": "1.5.0",
          "state": {
            "_model_module": "@jupyter-widgets/controls",
            "_model_module_version": "1.5.0",
            "_model_name": "DescriptionStyleModel",
            "_view_count": null,
            "_view_module": "@jupyter-widgets/base",
            "_view_module_version": "1.2.0",
            "_view_name": "StyleView",
            "description_width": ""
          }
        }
      }
    }
  },
  "cells": [
    {
      "cell_type": "markdown",
      "source": [
        "# Basic Image Retrieval"
      ],
      "metadata": {
        "id": "oMPMdH1EVNdh"
      }
    },
    {
      "cell_type": "code",
      "execution_count": null,
      "metadata": {
        "id": "mYkmoS3g5rhu"
      },
      "outputs": [],
      "source": [
        "import os\n",
        "import numpy as np\n",
        "from PIL import Image\n",
        "import matplotlib.pyplot as plt"
      ]
    },
    {
      "cell_type": "code",
      "source": [
        "ROOT = 'data'\n",
        "CLASS_NAME = sorted(list(os.listdir(f'{ROOT}/train')))"
      ],
      "metadata": {
        "id": "NPVjISTs6SYh"
      },
      "execution_count": null,
      "outputs": []
    },
    {
      "cell_type": "code",
      "source": [
        "def read_image_from_path(path, size):\n",
        "    im = Image.open(path).convert('RGB').resize(size)\n",
        "    return np.array(im)\n",
        "\n",
        "def folder_to_images(folder, size):\n",
        "    list_dir = [folder + '/' + name for name in os.listdir(folder)]\n",
        "    images_np = np.zeros(shape=(len(list_dir), *size, 3))\n",
        "    images_path = []\n",
        "\n",
        "    for i, path in enumerate(list_dir):\n",
        "        images_np[i] = read_image_from_path(path, size)\n",
        "        images_path.append(path)\n",
        "    return images_np, images_path"
      ],
      "metadata": {
        "id": "cSKEFkNy6leM"
      },
      "execution_count": null,
      "outputs": []
    },
    {
      "cell_type": "code",
      "source": [
        "def absolute_diffirence(query, data):\n",
        "    axis_batch_size = tuple(range(1, len(data.shape)))\n",
        "    return np.sum(np.abs(query - data), axis=axis_batch_size)"
      ],
      "metadata": {
        "id": "jNSXz7LZ7QmE"
      },
      "execution_count": null,
      "outputs": []
    },
    {
      "cell_type": "code",
      "source": [
        "def get_l1_score(root_img_path, query_path, size):\n",
        "    query = read_image_from_path(query_path, size)\n",
        "    ls_path_score = []\n",
        "\n",
        "    for folder in os.listdir(root_img_path):\n",
        "        if folder in CLASS_NAME:\n",
        "            path = root_img_path + folder\n",
        "            images_np, images_path = folder_to_images(path, size)\n",
        "            rates = absolute_diffirence(query, images_np)\n",
        "            ls_path_score.extend(list(zip(images_path, rates)))\n",
        "\n",
        "    return query, ls_path_score"
      ],
      "metadata": {
        "id": "BBXlVP_r7ru-"
      },
      "execution_count": null,
      "outputs": []
    },
    {
      "cell_type": "markdown",
      "source": [
        "## l1 Score"
      ],
      "metadata": {
        "id": "lJSNorNIHih-"
      }
    },
    {
      "cell_type": "code",
      "source": [
        "def plot_results(query_path, ls_path_score, reverse=False):\n",
        "  \"\"\"\n",
        "  Plot images from a list of paths.\n",
        "\n",
        "  Args:\n",
        "    query_path: Path to the query image.\n",
        "    ls_path_score: A list of tuples containing (image_path, score).\n",
        "    reverse: If True, sort the images in descending order of score.\n",
        "  \"\"\"\n",
        "  # Sort the images by score\n",
        "  ls_path_score_sorted = sorted(ls_path_score, key=lambda x: x[1], reverse=reverse)\n",
        "\n",
        "  # Create a figure and axes\n",
        "  fig, axes = plt.subplots(nrows=1, ncols=len(ls_path_score_sorted) + 1, figsize=(20, 5))\n",
        "\n",
        "  # Plot the query image\n",
        "  query_image = Image.open(query_path)\n",
        "  axes[0].imshow(query_image)\n",
        "  axes[0].set_title('Query Image')\n",
        "  axes[0].axis('off')\n",
        "\n",
        "  # Plot the other images\n",
        "  for i, (path, score) in enumerate(ls_path_score_sorted):\n",
        "    image = Image.open(path)\n",
        "    axes[i + 1].imshow(image)\n",
        "    axes[i + 1].set_title(f'Score: {score:.2f}')\n",
        "    axes[i + 1].axis('off')\n",
        "\n",
        "  plt.tight_layout()\n",
        "  plt.show()\n"
      ],
      "metadata": {
        "id": "YEqCGokQ-0rm"
      },
      "execution_count": null,
      "outputs": []
    },
    {
      "cell_type": "code",
      "source": [
        "root_img_path = f\"{ROOT}/train/\"\n",
        "query_path = f\"{ROOT}/test/Orange_easy/0_100.jpg\"\n",
        "size = (448, 448)\n",
        "query, ls_path_score = get_l1_score(root_img_path, query_path, size)\n",
        "plot_results(query_path, ls_path_score, False)"
      ],
      "metadata": {
        "id": "nZffQs7P-avt"
      },
      "execution_count": null,
      "outputs": []
    },
    {
      "cell_type": "code",
      "source": [
        "root_img_path = f\"{ROOT}/train/\"\n",
        "query_path = f\"{ROOT}/test/African_crocodile/n01697457_18534.JPEG\"\n",
        "size = (448, 448)\n",
        "query, ls_path_score = get_l1_score(root_img_path, query_path, size)\n",
        "plot_results(query_path, ls_path_score, False)"
      ],
      "metadata": {
        "id": "WIWNrIDE_XeK"
      },
      "execution_count": null,
      "outputs": []
    },
    {
      "cell_type": "markdown",
      "source": [
        "## l2 Score"
      ],
      "metadata": {
        "id": "LkzsbacKHfJI"
      }
    },
    {
      "cell_type": "code",
      "source": [
        "def mean_square_diffirence(query, data):\n",
        "    axis_batch_size = tuple(range(1, len(data.shape)))\n",
        "    return np.sum(np.square(query - data), axis=axis_batch_size)"
      ],
      "metadata": {
        "id": "eBmitdgI_reS"
      },
      "execution_count": null,
      "outputs": []
    },
    {
      "cell_type": "code",
      "source": [
        "def get_l2_score(root_img_path, query_path, size):\n",
        "    query = read_image_from_path(query)\n",
        "    ls_path_score = []\n",
        "\n",
        "    for folder in os.listdir(root_img_path):\n",
        "        if folder in CLASS_NAME:\n",
        "            path = root_img_path + folder\n",
        "            images_np, images_path = folder_to_images(path, size)\n",
        "            rates = mean_square_diffirence(query, images_np)\n",
        "            ls_path_score.extend(list(zip(images_path, rates)))\n",
        "\n",
        "    return query, ls_path_score"
      ],
      "metadata": {
        "id": "SwfffHsF_1wV"
      },
      "execution_count": null,
      "outputs": []
    },
    {
      "cell_type": "code",
      "source": [
        "root_img_path = f\"{ROOT}/train/\"\n",
        "query_path = f\"{ROOT}/test/Orange_easy/0_100.jpg\"\n",
        "size = (448, 448)\n",
        "query, ls_path_score = get_l2_score(root_img_path, query_path, size)\n",
        "plot_results(query_path, ls_path_score, False)"
      ],
      "metadata": {
        "id": "kyZFdaeAAPjL"
      },
      "execution_count": null,
      "outputs": []
    },
    {
      "cell_type": "code",
      "source": [
        "root_img_path = f\"{ROOT}/train/\"\n",
        "query_path = f\"{ROOT}/test/African_crocodile/n01697457_18534.JPEG\"\n",
        "size = (448, 448)\n",
        "query, ls_path_score = get_l2_score(root_img_path, query_path, size)\n",
        "plot_results(query_path, ls_path_score, False)"
      ],
      "metadata": {
        "id": "Hc7XgXb7AU9Q"
      },
      "execution_count": null,
      "outputs": []
    },
    {
      "cell_type": "markdown",
      "source": [
        "## Cosine Similarity"
      ],
      "metadata": {
        "id": "pc22OjjDHY01"
      }
    },
    {
      "cell_type": "code",
      "source": [
        "def cosine_similarity(query, data):\n",
        "    axis_batch_size = tuple(range(1, len(data.shape)))\n",
        "    query_norm = np.sqrt(np.sum(query**2))\n",
        "    data_norm = np.sqrt(np.sum(data**2, axis=axis_batch_size))\n",
        "    return np.sum(query * data, axis=axis_batch_size) / (query_norm * data_norm + np.finfo(np.float32).eps)"
      ],
      "metadata": {
        "id": "MJkXWKvxAYgs"
      },
      "execution_count": null,
      "outputs": []
    },
    {
      "cell_type": "code",
      "source": [
        "def get_cosine_score(root_img_path, query_path, size):\n",
        "    query = read_image_from_path(query_path, size)\n",
        "    ls_path_score = []\n",
        "\n",
        "    for folder in os.listdir(root_img_path):\n",
        "        if folder in CLASS_NAME:\n",
        "            path = root_img_path + folder\n",
        "            images_np, images_path = folder_to_images(path, size)\n",
        "            rates = cosine_similarity(query, images_np)\n",
        "            ls_path_score.extend(list(zip(images_path, rates)))\n",
        "\n",
        "    return query, ls_path_score"
      ],
      "metadata": {
        "id": "MXmE7SlNBf6j"
      },
      "execution_count": null,
      "outputs": []
    },
    {
      "cell_type": "code",
      "source": [
        "root_img_path = f\"{ROOT}/train/\"\n",
        "query_path = f\"{ROOT}/test/Orange_easy/0_100.jpg\"\n",
        "size = (448, 448)\n",
        "query, ls_path_score = get_cosine_score(root_img_path, query_path, size)\n",
        "plot_results(query_path, ls_path_score, False)"
      ],
      "metadata": {
        "id": "FqODvTy8B6EY"
      },
      "execution_count": null,
      "outputs": []
    },
    {
      "cell_type": "markdown",
      "source": [
        "## Correlation Coeffient"
      ],
      "metadata": {
        "id": "Z_QteqPXH1bB"
      }
    },
    {
      "cell_type": "code",
      "source": [
        "def correlation_coffient(query, data):\n",
        "    axis_batch_size = tuple(range(1, len(data.shape)))\n",
        "    query_mean = query - np.mean(query)\n",
        "    data_mean = data - np.mean(data, axis=axis_batch_size, keepdims=True)\n",
        "    query_norm = np.sqrt(np.sum(query_mean**2))\n",
        "    data_norm = np.sqrt(np.sum(data_mean**2, axis=axis_batch_size))\n",
        "\n",
        "    return np.sum(data_mean * query_mean, axis=axis_batch_size) / (query_norm * data_norm + np.finfo(np.float32).eps)\n"
      ],
      "metadata": {
        "id": "vN1Gfk35H4uQ"
      },
      "execution_count": null,
      "outputs": []
    },
    {
      "cell_type": "code",
      "source": [
        "def get_correlation_score(root_img_path, query_path, size):\n",
        "    query = read_image_from_path(query_path, size)\n",
        "    ls_path_score = []\n",
        "\n",
        "    for folder in os.listdir(root_img_path):\n",
        "        if folder in CLASS_NAME:\n",
        "            path = root_img_path + folder\n",
        "            images_np, images_path = folder_to_images(path, size)\n",
        "            rates = correlation_coffient(query, images_np)\n",
        "            ls_path_score.extend(list(zip(images_path, rates)))\n",
        "\n",
        "    return query, ls_path_score"
      ],
      "metadata": {
        "id": "rIN51LsTIpk6"
      },
      "execution_count": null,
      "outputs": []
    },
    {
      "cell_type": "markdown",
      "source": [
        "# Advanced Image Retrieval"
      ],
      "metadata": {
        "id": "9LnwMoYSV0cN"
      }
    },
    {
      "cell_type": "markdown",
      "source": [
        "##"
      ],
      "metadata": {
        "id": "i0RR7EWvWDX1"
      }
    },
    {
      "cell_type": "code",
      "source": [
        "!pip install -q chromadb\n",
        "!pip install -q open-clip-torch"
      ],
      "metadata": {
        "id": "laUwckp1OFiw"
      },
      "execution_count": null,
      "outputs": []
    },
    {
      "cell_type": "code",
      "source": [
        "import os\n",
        "import numpy as np\n",
        "from PIL import Image\n",
        "import matplotlib.pyplot as plt\n",
        "from chromadb.utils.embedding_functions.open_clip_embedding_function import OpenCLIPEmbeddingFunction"
      ],
      "metadata": {
        "id": "wpA5L6nxOF11"
      },
      "execution_count": null,
      "outputs": []
    },
    {
      "cell_type": "markdown",
      "source": [
        "## l1 Score"
      ],
      "metadata": {
        "id": "IW4IROd2WkxI"
      }
    },
    {
      "cell_type": "code",
      "source": [
        "embedding_function = OpenCLIPEmbeddingFunction()"
      ],
      "metadata": {
        "colab": {
          "base_uri": "https://localhost:8080/",
          "height": 173,
          "referenced_widgets": [
            "07679efd7b7a4c89848a330f965f11dc",
            "58e7834075b5405986770c261fb9b5da",
            "247d4092c5ff4205a31523cf808cd266",
            "64456432bfdf4e13bc063c014c376ed1",
            "34e195b16372422890c17d277255439d",
            "dec9f991f5a947a39bc9c33c2200aed5",
            "333a100b1e2b4d1db2f9913b3fd025fd",
            "27a7a721832f474f8f9696969e4d08d5",
            "b2332673e931480db7b6f727c7fd9313",
            "7eca05f214f24b6ab062e9db51d6e087",
            "d0ce1fcf73024c72a52c7634f31579fc"
          ]
        },
        "id": "PnRkD0C8WvBn",
        "outputId": "9d253ea2-1743-4e6a-de65-8dab0901cc58"
      },
      "execution_count": null,
      "outputs": [
        {
          "output_type": "stream",
          "name": "stderr",
          "text": [
            "/usr/local/lib/python3.10/dist-packages/huggingface_hub/utils/_token.py:89: UserWarning: \n",
            "The secret `HF_TOKEN` does not exist in your Colab secrets.\n",
            "To authenticate with the Hugging Face Hub, create a token in your settings tab (https://huggingface.co/settings/tokens), set it as secret in your Google Colab and restart your session.\n",
            "You will be able to reuse this secret in all of your notebooks.\n",
            "Please note that authentication is recommended but still optional to access public models or datasets.\n",
            "  warnings.warn(\n"
          ]
        },
        {
          "output_type": "display_data",
          "data": {
            "text/plain": [
              "open_clip_pytorch_model.bin:   0%|          | 0.00/605M [00:00<?, ?B/s]"
            ],
            "application/vnd.jupyter.widget-view+json": {
              "version_major": 2,
              "version_minor": 0,
              "model_id": "07679efd7b7a4c89848a330f965f11dc"
            }
          },
          "metadata": {}
        }
      ]
    },
    {
      "cell_type": "code",
      "source": [
        "def get_single_image_embedding(image):\n",
        "    embedding = embedding_function._encode_image(image)\n",
        "    return np.array(embedding)"
      ],
      "metadata": {
        "id": "vJxnAN2XWnTA"
      },
      "execution_count": null,
      "outputs": []
    },
    {
      "cell_type": "code",
      "source": [
        "def get_l1_score(root_img_path, query_path, size):\n",
        "    query = read_image_from_path(query_path, size)\n",
        "    ls_path_score = []\n",
        "\n",
        "    for folder in os.listdir(root_img_path):\n",
        "        if folder in CLASS_NAME:\n",
        "            path = root_img_path + folder\n",
        "            images_np, images_path = folder_to_images(path, size)\n",
        "\n",
        "            embedding_list = []\n",
        "            for idx_img in range(images_np.shape[0]):\n",
        "                embedding = get_single_image_embedding(images_np[idx_img])\n",
        "                embedding_list.append(embedding)\n",
        "\n",
        "            rates = absolute_diffirence(query, embedding_list)\n",
        "            ls_path_score.extend(list(zip(images_path, rates)))\n",
        "\n",
        "    return query, ls_path_score"
      ],
      "metadata": {
        "id": "YItds3LIYg0T"
      },
      "execution_count": null,
      "outputs": []
    },
    {
      "cell_type": "code",
      "source": [
        "root_img_path = f\"{ROOT}/train/\"\n",
        "query_path = f\"{ROOT}/test/Orange_easy/0_100.jpg\"\n",
        "size = (448, 448)\n",
        "query, ls_path_score = get_l1_score(root_img_path, query_path, size)\n",
        "plot_results(query_path, ls_path_score, False)"
      ],
      "metadata": {
        "id": "CLGy7nT_ZBth"
      },
      "execution_count": null,
      "outputs": []
    },
    {
      "cell_type": "code",
      "source": [
        "root_img_path = f\"{ROOT}/train/\"\n",
        "query_path = f\"{ROOT}/test/African_crocodile/n01697457_18534.JPEG\"\n",
        "size = (448, 448)\n",
        "query, ls_path_score = get_l1_score(root_img_path, query_path, size)\n",
        "plot_results(query_path, ls_path_score, False)"
      ],
      "metadata": {
        "id": "3bK5jjj3ZL0x"
      },
      "execution_count": null,
      "outputs": []
    },
    {
      "cell_type": "markdown",
      "source": [
        "## l2 Score"
      ],
      "metadata": {
        "id": "z5ioIp2CZMtm"
      }
    },
    {
      "cell_type": "code",
      "source": [
        "def get_l2_score(root_img_path, query_path, size):\n",
        "    query = read_image_from_path(query_path, size)\n",
        "    query_embedding = get_single_image_embedding(query)\n",
        "    ls_path_core = []\n",
        "\n",
        "    for folder in os.listdir(root_img_path):\n",
        "        path = root_img_path + folder\n",
        "        images_np, images_path = folder_to_images(path, size)\n",
        "\n",
        "        embedding_list = []\n",
        "        for idx_img in range(images_np.shape[0]):\n",
        "            embedding = get_single_image_embedding(images_np[idx_img])\n",
        "            embedding_list.append(embedding)\n",
        "\n",
        "        rates = mean_square_diffirence(query_embedding, embedding_list)\n",
        "        ls_path_core.extend(list(zip(images_path, rates)))\n",
        "\n",
        "    return query, ls_path_score"
      ],
      "metadata": {
        "id": "oU8lDOUmZOKJ"
      },
      "execution_count": null,
      "outputs": []
    },
    {
      "cell_type": "code",
      "source": [
        "root_img_path = f\"{ROOT}/train/\"\n",
        "query_path = f\"{ROOT}/test/Orange_easy/0_100.jpg\"\n",
        "size = (448, 448)\n",
        "query, ls_path_score = get_l1_score(root_img_path, query_path, size)\n",
        "plot_results(query_path, ls_path_score, False)"
      ],
      "metadata": {
        "id": "b3sz4LbXhoKq"
      },
      "execution_count": null,
      "outputs": []
    },
    {
      "cell_type": "code",
      "source": [
        "root_img_path = f\"{ROOT}/train/\"\n",
        "query_path = f\"{ROOT}/test/African_crocodile/n01697457_18534.JPEG\"\n",
        "size = (448, 448)\n",
        "query, ls_path_score = get_l1_score(root_img_path, query_path, size)\n",
        "plot_results(query_path, ls_path_score, False)"
      ],
      "metadata": {
        "id": "OLdXaSgLho6Z"
      },
      "execution_count": null,
      "outputs": []
    },
    {
      "cell_type": "markdown",
      "source": [
        "## Correlation Coeffient"
      ],
      "metadata": {
        "id": "3dVs4A-lhq_F"
      }
    },
    {
      "cell_type": "code",
      "source": [
        "def get_correlation_coeffient_score(root_img_path, query_path, size):\n",
        "    query = read_image_from_path(query_path, size)\n",
        "    query_embedding = get_single_image_embedding(query)\n",
        "    ls_path_core = []\n",
        "\n",
        "    for folder in os.listdir(root_img_path):\n",
        "        path = root_img_path + folder\n",
        "        images_np, images_path = folder_to_images(path, size)\n",
        "\n",
        "        embedding_list = []\n",
        "        for idx_img in range(images_np.shape[0]):\n",
        "            embedding = get_single_image_embedding(images_np[idx_img])\n",
        "            embedding_list.append(embedding)\n",
        "\n",
        "        rates = correlation_coffient(query_embedding, embedding_list)\n",
        "        ls_path_core.extend(list(zip(images_path, rates)))\n",
        "\n",
        "    return query, ls_path_score"
      ],
      "metadata": {
        "id": "xgL3IsiFiLa6"
      },
      "execution_count": null,
      "outputs": []
    },
    {
      "cell_type": "code",
      "source": [
        "root_img_path = f\"{ROOT}/train/\"\n",
        "query_path = f\"{ROOT}/test/Orange_easy/0_100.jpg\"\n",
        "size = (448, 448)\n",
        "query, ls_path_score = get_l1_score(root_img_path, query_path, size)\n",
        "plot_results(query_path, ls_path_score, False)"
      ],
      "metadata": {
        "id": "h6XM3LRDiXPP"
      },
      "execution_count": null,
      "outputs": []
    },
    {
      "cell_type": "code",
      "source": [
        "root_img_path = f\"{ROOT}/train/\"\n",
        "query_path = f\"{ROOT}/test/African_crocodile/n01697457_18534.JPEG\"\n",
        "size = (448, 448)\n",
        "query, ls_path_score = get_l1_score(root_img_path, query_path, size)\n",
        "plot_results(query_path, ls_path_score, False)"
      ],
      "metadata": {
        "id": "ZIME1sh0iao-"
      },
      "execution_count": null,
      "outputs": []
    },
    {
      "cell_type": "markdown",
      "source": [
        "## Using vector database"
      ],
      "metadata": {
        "id": "laTTjC_hitqM"
      }
    },
    {
      "cell_type": "code",
      "source": [
        "def get_files_path(path):\n",
        "    files_path = []\n",
        "\n",
        "    for label in CLASS_NAME:\n",
        "        label_path = path + \"/\" + label\n",
        "        filenames = os.listdir(label_path)\n",
        "        for filename in filenames:\n",
        "            files_path.append(label_path + \"/\" + filename)\n",
        "\n",
        "    return files_path"
      ],
      "metadata": {
        "id": "Aq6BkUCBiwhY"
      },
      "execution_count": null,
      "outputs": []
    },
    {
      "cell_type": "code",
      "source": [
        "data_path = f\"{ROOT}/train\"\n",
        "files_path = get_files_path(data_path)"
      ],
      "metadata": {
        "id": "bFi6UGtxi_rJ"
      },
      "execution_count": null,
      "outputs": []
    },
    {
      "cell_type": "code",
      "source": [
        "def add_embedding(collection, files_path):\n",
        "    ids = []\n",
        "    embeddings = []\n",
        "\n",
        "    for id_filepath, filepath in tqdm(enumerate(files_path), total=len(files_path)):\n",
        "        ids.append(f\"id_{id_filepath}\")\n",
        "        image = Image.open(filepath)\n",
        "        embedding = get_single_image_embedding(image)\n",
        "        embeddings.append(embedding)\n",
        "\n",
        "    collection.add(\n",
        "        embeddings=embeddings,\n",
        "        ids=ids\n",
        "    )"
      ],
      "metadata": {
        "id": "v2-ItLbsjE0_"
      },
      "execution_count": null,
      "outputs": []
    },
    {
      "cell_type": "code",
      "source": [
        "# Create a Chroma Client\n",
        "import chromadb\n",
        "chroma_client = chromadb.Client()\n",
        "\n",
        "# Create a collection\n",
        "l2_collection = chroma_client.create_collection(name=\"l2_collection\", metadata={HNSW_SPACE: \"l2\"})\n",
        "add_embedding(l2_collection, files_path)"
      ],
      "metadata": {
        "id": "Fh-8OOmOj41X"
      },
      "execution_count": null,
      "outputs": []
    },
    {
      "cell_type": "code",
      "source": [
        "def search(image_path, collection, n_results=5):\n",
        "    query_image = Image.open(image_path)\n",
        "    query_embedding = get_single_image_embedding(query_image)\n",
        "    results = collection.query(\n",
        "        query_embeddings=[query_embedding],\n",
        "        n_results=n_results\n",
        "    )\n",
        "    return results"
      ],
      "metadata": {
        "id": "hbEpraeHkVRB"
      },
      "execution_count": null,
      "outputs": []
    },
    {
      "cell_type": "code",
      "source": [
        "def plot_results(image_path, files_path, results, n_results=5):\n",
        "  \"\"\"\n",
        "  Plot images from a list of paths.\n",
        "\n",
        "  Args:\n",
        "    image_path: Path to the query image.\n",
        "    files_path: A list of paths to all images in the dataset.\n",
        "    results: The results of a ChromaDB query.\n",
        "    n_results: The number of results to display.\n",
        "  \"\"\"\n",
        "  # Get the IDs of the retrieved images\n",
        "  retrieved_image_ids = results['ids'][0]\n",
        "\n",
        "  # Create a figure and axes\n",
        "  fig, axes = plt.subplots(nrows=1, ncols=n_results + 1, figsize=(20, 5))\n",
        "\n",
        "  # Plot the query image\n",
        "  query_image = Image.open(image_path)\n",
        "  axes[0].imshow(query_image)\n",
        "  axes[0].set_title('Query Image')\n",
        "  axes[0].axis('off')\n",
        "\n",
        "  # Plot the retrieved images\n",
        "  for i in range(n_results):\n",
        "    retrieved_image_id = retrieved_image_ids[i]\n",
        "    retrieved_image_index = int(retrieved_image_id.split('_')[1])\n",
        "    retrieved_image_path = files_path[retrieved_image_index]\n",
        "    image = Image.open(retrieved_image_path)\n",
        "    axes[i + 1].imshow(image)\n",
        "    axes[i + 1].set_title(f'Result {i+1}')\n",
        "    axes[i + 1].axis('off')\n",
        "\n",
        "  plt.tight_layout()\n",
        "  plt.show()\n"
      ],
      "metadata": {
        "id": "vswo5t67lvpM"
      },
      "execution_count": null,
      "outputs": []
    },
    {
      "cell_type": "code",
      "source": [
        "test_path = f\"{ROOT}/train\"\n",
        "test_files_path = get_files_path(test_path)\n",
        "test_path = test_files_path[1]\n",
        "l2_results = search(image_path=test_path, collection=l2_collection, n_results=5)\n",
        "plot_results(image_path=test_path, files_path=files_path, results=l2_results)"
      ],
      "metadata": {
        "id": "ljTaS34PkoEw"
      },
      "execution_count": null,
      "outputs": []
    },
    {
      "cell_type": "code",
      "source": [
        "cosine_collection = chroma_client.get_or_create_collection(name=\"Cosine_collection\",\n",
        "                                                           metadata={HNSW_SPACE: \"cosine\"})\n",
        "add_embedding(collection=cosine_collection, files_path=files_path)"
      ],
      "metadata": {
        "id": "kpgcjePbmzx7"
      },
      "execution_count": null,
      "outputs": []
    },
    {
      "cell_type": "markdown",
      "source": [
        "1. C\n",
        "2. A\n",
        "3. B\n",
        "4. A\n",
        "5. D\n",
        "6. B\n",
        "7. D\n",
        "8. B\n",
        "9. B"
      ],
      "metadata": {
        "id": "oL1qCdE_pkvY"
      }
    }
  ]
}