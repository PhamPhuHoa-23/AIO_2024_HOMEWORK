{
 "cells": [
  {
   "cell_type": "code",
   "execution_count": null,
   "metadata": {},
   "outputs": [],
   "source": [
    "import numpy as np\n",
    "import pandas as pd\n",
    "import matplotlib.pyplot as plt\n",
    "\n",
    "from sklearn.tree import DecisionTreeRegressor\n",
    "from sklearn.ensemble import RandomForestRegressor, AdaBoostRegressor, GradientBoostingRegressor\n",
    "from sklearn.preprocessing import OrdinalEncoder, StandardScaler\n",
    "from sklearn.model_selection import train_test_split\n",
    "from sklearn.metrics import mean_absolute_error, mean_squared_error"
   ]
  },
  {
   "cell_type": "code",
   "execution_count": null,
   "metadata": {},
   "outputs": [],
   "source": [
    "\n",
    "dataset_path = 'MODULE_03\\MODULE_03_EXERCISE_04\\Housing.csv'\n",
    "df = pd.read_csv(dataset_path)\n",
    "\n",
    "categorical_cols = df.select_dtypes(include=['object']).columns.to_list()\n",
    "print(categorical_cols)"
   ]
  },
  {
   "cell_type": "code",
   "execution_count": null,
   "metadata": {},
   "outputs": [],
   "source": [
    "ordinal_encoder = OrdinalEncoder()\n",
    "encoded_categorical_cols = ordinal_encoder.fit_transform(\n",
    "    df[categorical_cols]\n",
    ")\n",
    "encoded_categorical_df = pd.DataFrame(\n",
    "    encoded_categorical_cols,\n",
    "    columns=categorical_cols\n",
    ")\n",
    "numerical_df = df.drop(categorical_cols, axis=1)\n",
    "encoded_df = pd.concat(\n",
    "    [numerical_df, encoded_categorical_df], axis=1\n",
    ")"
   ]
  },
  {
   "cell_type": "code",
   "execution_count": null,
   "metadata": {},
   "outputs": [],
   "source": [
    "normalizer = StandardScaler()\n",
    "dataset_arr = normalizer.fit_transform(encoded_df)\n",
    "\n",
    "X, y = dataset_arr[:, 1:], dataset_arr[:, 0]\n",
    "\n",
    "test_size = 0.3\n",
    "random_state = 1\n",
    "is_shuffle = True\n",
    "X_train, X_val, y_train, y_val = train_test_split(\n",
    "    X, y,\n",
    "    test_size=test_size,\n",
    "    random_state=random_state,\n",
    "    shuffle=is_shuffle\n",
    ")"
   ]
  },
  {
   "cell_type": "code",
   "execution_count": null,
   "metadata": {},
   "outputs": [],
   "source": [
    "# Train Random Forest model\n",
    "regressor = RandomForestRegressor(\n",
    "    random_state=random_state\n",
    ")\n",
    "regressor.fit(X_train, y_train)\n",
    "\n",
    "# Train AdaBoost model\n",
    "regressor = AdaBoostRegressor(\n",
    "    random_state=random_state\n",
    ")\n",
    "regressor.fit(X_train, y_train)\n",
    "\n",
    "# Train Gradient Boosting model\n",
    "regressor = GradientBoostingRegressor(\n",
    "    random_state=random_state\n",
    ")\n",
    "regressor.fit(X_train, y_train)\n",
    "\n",
    "# Make predictions\n",
    "y_pred = regressor.predict(X_val)\n",
    "\n",
    "# Evaluate the model\n",
    "mae = mean_absolute_error(y_val, y_pred)\n",
    "mse = mean_squared_error(y_val, y_pred)"
   ]
  },
  {
   "cell_type": "code",
   "execution_count": 2,
   "metadata": {},
   "outputs": [
    {
     "name": "stdout",
     "output_type": "stream",
     "text": [
      "Evaluation results on validation set:\n",
      "Mean Absolute Error: 0.4516626127750995\n",
      "Mean Squared Error: 0.39610445936979427\n"
     ]
    }
   ],
   "source": [
    "print('Evaluation results on validation set:')\n",
    "print(f'Mean Absolute Error: {mae}')\n",
    "print(f'Mean Squared Error: {mse}')"
   ]
  }
 ],
 "metadata": {
  "kernelspec": {
   "display_name": "AIO_ENV",
   "language": "python",
   "name": "python3"
  },
  "language_info": {
   "codemirror_mode": {
    "name": "ipython",
    "version": 3
   },
   "file_extension": ".py",
   "mimetype": "text/x-python",
   "name": "python",
   "nbconvert_exporter": "python",
   "pygments_lexer": "ipython3",
   "version": "3.11.9"
  }
 },
 "nbformat": 4,
 "nbformat_minor": 2
}
