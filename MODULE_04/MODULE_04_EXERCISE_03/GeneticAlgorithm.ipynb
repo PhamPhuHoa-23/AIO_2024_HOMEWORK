{
  "nbformat": 4,
  "nbformat_minor": 0,
  "metadata": {
    "colab": {
      "provenance": []
    },
    "kernelspec": {
      "name": "python3",
      "display_name": "Python 3"
    },
    "language_info": {
      "name": "python"
    }
  },
  "cells": [
    {
      "cell_type": "code",
      "execution_count": 1,
      "metadata": {
        "id": "bXmNIxjZ83UT"
      },
      "outputs": [],
      "source": [
        "!gdown -q 1r2Sb4ogBjRR1Wu28gy9X2D4WmOdFoICT"
      ]
    },
    {
      "cell_type": "code",
      "source": [
        "import numpy as np\n",
        "import matplotlib.pyplot as plt\n",
        "import random\n",
        "random.seed(0)\n",
        "\n",
        "def load_data(filename='advertising.csv'):\n",
        "  data = np.genfromtxt(filename, dtype=None, delimiter=',', skip_header=1)\n",
        "  features_X = data[:,:3]\n",
        "  sales_y = data[:,3]\n",
        "  features_X = np.concatenate((np.ones((features_X.shape[0],1)), features_X), axis=1)\n",
        "  return (features_X, sales_y)"
      ],
      "metadata": {
        "id": "396kd0XB-G6h"
      },
      "execution_count": 2,
      "outputs": []
    },
    {
      "cell_type": "code",
      "source": [
        "def create_individual(n=4, bound=10):\n",
        "  individual = []\n",
        "  for i in range(n):\n",
        "    individual.append(random.uniform(-bound/2, bound/2))\n",
        "  return individual"
      ],
      "metadata": {
        "id": "pHweiDp0AKv7"
      },
      "execution_count": 18,
      "outputs": []
    },
    {
      "cell_type": "code",
      "source": [
        "np.random.seed(1)"
      ],
      "metadata": {
        "id": "fVULAfxOIgFq"
      },
      "execution_count": 4,
      "outputs": []
    },
    {
      "cell_type": "code",
      "source": [
        "def compute_loss(individual):\n",
        "  theta = np.asarray(individual)\n",
        "  y_hat = features_X @ theta.T\n",
        "  loss = ((y_hat - sales_y)**2).mean()\n",
        "  return loss\n",
        "\n",
        "def compute_fitness(individual):\n",
        "  loss = compute_loss(individual)\n",
        "  return 1/(loss+1)"
      ],
      "metadata": {
        "id": "V2Jwlp7BE4f3"
      },
      "execution_count": 45,
      "outputs": []
    },
    {
      "cell_type": "code",
      "source": [
        "features_X, sales_y = load_data()\n",
        "individual = [4.09 , 4.82 , 3.10 , 4.02]\n",
        "fitness = compute_fitness(individual)\n",
        "print(fitness)"
      ],
      "metadata": {
        "colab": {
          "base_uri": "https://localhost:8080/"
        },
        "id": "wMGPE07uHBlg",
        "outputId": "0bc52a4e-828f-4fc1-81ff-d7b2d3de935e"
      },
      "execution_count": 20,
      "outputs": [
        {
          "output_type": "stream",
          "name": "stdout",
          "text": [
            "1.0185991537088997e-06\n"
          ]
        }
      ]
    },
    {
      "cell_type": "code",
      "source": [
        "def crossover(individual1, individual2, cross_rate=0.9):\n",
        "  individual1_new = individual1.copy()\n",
        "  individual2_new = individual2.copy()\n",
        "  for i in range(len(individual1)):\n",
        "    if random.random() <= 0.9:\n",
        "      individual1_new[i] = individual2[i]\n",
        "      individual2_new[i] = individual1[i]\n",
        "  return (individual1_new, individual2_new)"
      ],
      "metadata": {
        "id": "efKqRS9IJr8b"
      },
      "execution_count": 68,
      "outputs": []
    },
    {
      "cell_type": "code",
      "source": [
        "def mutate(individual, mutation_rate=0.9):\n",
        "  individual_m = individual.copy()\n",
        "  for i in range(len(individual_m)):\n",
        "    if random.random() < mutation_rate:\n",
        "      individual_m[i] = individual_m[i] + random.uniform(-0.5, 0.5)\n",
        "  return individual_m"
      ],
      "metadata": {
        "id": "lbimn-5hAotd"
      },
      "execution_count": 67,
      "outputs": []
    },
    {
      "cell_type": "code",
      "source": [
        "def initializePopulation(m) :\n",
        "    population = [create_individual() for _ in range(m)]\n",
        "    return population"
      ],
      "metadata": {
        "id": "2wnSsN3fA8Jb"
      },
      "execution_count": 23,
      "outputs": []
    },
    {
      "cell_type": "code",
      "source": [
        "def selection(sorted_old_population, m=100):\n",
        "    index1 = random.randint(0, m - 1)\n",
        "    while True:\n",
        "        index2 = random.randint(0, m - 1)\n",
        "        if index2 != index1:\n",
        "            break\n",
        "    #Select the individual with the highest fitness\n",
        "    individual_s = sorted_old_population[index1]\n",
        "    if sorted_old_population[index2][1] > sorted_old_population[index1][1]:\n",
        "      individual_s = sorted_old_population[index2]\n",
        "    return individual_s"
      ],
      "metadata": {
        "id": "tFjfb1_SBFFk"
      },
      "execution_count": 24,
      "outputs": []
    },
    {
      "cell_type": "code",
      "source": [
        "def create_new_population(old_population, elitism=2, gen=1):\n",
        "    m = len(old_population)\n",
        "    sorted_population = sorted(old_population, key=compute_fitness)\n",
        "    if gen % 1 == 0:\n",
        "        print(\"Best loss :\", compute_loss(sorted_population[m - 1]), \" with chromsome : \",\n",
        "              sorted_population[m - 1])\n",
        "    new_population = []\n",
        "    while len(new_population) < m - elitism:\n",
        "        # selection\n",
        "        individual1 = selection(sorted_population,m)\n",
        "        individual2 = selection(sorted_population,m)\n",
        "\n",
        "        # crossover\n",
        "        individual1_new, individual2_new = crossover(individual1, individual2)\n",
        "\n",
        "        # mutation\n",
        "        individual1_new = mutate(individual1_new)\n",
        "        individual2_new = mutate(individual2_new)\n",
        "\n",
        "        new_population.append(individual1_new)\n",
        "        new_population.append(individual2_new)\n",
        "\n",
        "    # copy elitism chromosomes that have best fitness\n",
        "    for i in range(elitism):\n",
        "        new_population.append(sorted_population[m-1-i])\n",
        "    return new_population"
      ],
      "metadata": {
        "id": "XWtbuSSWBQe8"
      },
      "execution_count": 25,
      "outputs": []
    },
    {
      "cell_type": "code",
      "source": [
        "def run_GA():\n",
        "    n_generations = 100\n",
        "    m = 600\n",
        "    features_X, sales_Y = load_data()\n",
        "    population = initializePopulation(m)\n",
        "    losses_list = []\n",
        "\n",
        "    for i in range(n_generations):\n",
        "        # Evaluate fitness of each individual\n",
        "        population_with_fitness = []\n",
        "        for individual in population:\n",
        "            fitness = compute_fitness(individual)\n",
        "            population_with_fitness.append((individual, fitness))\n",
        "\n",
        "        # Create new population\n",
        "        population = create_new_population(population, elitism=2, gen=i+1)\n",
        "\n",
        "        # Store the best loss of the current generation\n",
        "        best_individual = sorted(population_with_fitness, key=lambda x: x[1], reverse=True)[0][0]\n",
        "        losses_list.append(compute_loss(best_individual))\n",
        "\n",
        "    return losses_list"
      ],
      "metadata": {
        "id": "7RDodQD6Ckof"
      },
      "execution_count": 69,
      "outputs": []
    },
    {
      "cell_type": "code",
      "source": [
        "run_GA()\n",
        "print()"
      ],
      "metadata": {
        "colab": {
          "base_uri": "https://localhost:8080/"
        },
        "id": "RbGVGb9xCvzj",
        "outputId": "a083d1f1-c78a-4a58-aea9-00d4a9ee2519"
      },
      "execution_count": 76,
      "outputs": [
        {
          "output_type": "stream",
          "name": "stdout",
          "text": [
            "Best loss : 1234.908821473606  with chromsome :  [3.5685338576056562, 0.032938291680915555, 1.9999541421798641, -0.5414450536467763]\n",
            "Best loss : 792.6953227936345  with chromsome :  [-1.3450920616054791, -0.09483838848411497, -0.23719400693152126, 1.2405015244617839]\n",
            "Best loss : 792.6953227936345  with chromsome :  [-1.3450920616054791, -0.09483838848411497, -0.23719400693152126, 1.2405015244617839]\n",
            "Best loss : 758.6406457136799  with chromsome :  [-1.7381657589831543, 0.3174679818750761, -0.17686929692183995, -0.4547627921346785]\n",
            "Best loss : 758.6406457136799  with chromsome :  [-1.7381657589831543, 0.3174679818750761, -0.17686929692183995, -0.4547627921346785]\n",
            "Best loss : 758.6406457136799  with chromsome :  [-1.7381657589831543, 0.3174679818750761, -0.17686929692183995, -0.4547627921346785]\n",
            "Best loss : 758.6406457136799  with chromsome :  [-1.7381657589831543, 0.3174679818750761, -0.17686929692183995, -0.4547627921346785]\n",
            "Best loss : 758.6406457136799  with chromsome :  [-1.7381657589831543, 0.3174679818750761, -0.17686929692183995, -0.4547627921346785]\n",
            "Best loss : 758.6406457136799  with chromsome :  [-1.7381657589831543, 0.3174679818750761, -0.17686929692183995, -0.4547627921346785]\n",
            "Best loss : 758.6406457136799  with chromsome :  [-1.7381657589831543, 0.3174679818750761, -0.17686929692183995, -0.4547627921346785]\n",
            "Best loss : 758.6406457136799  with chromsome :  [-1.7381657589831543, 0.3174679818750761, -0.17686929692183995, -0.4547627921346785]\n",
            "Best loss : 758.6406457136799  with chromsome :  [-1.7381657589831543, 0.3174679818750761, -0.17686929692183995, -0.4547627921346785]\n",
            "Best loss : 758.6406457136799  with chromsome :  [-1.7381657589831543, 0.3174679818750761, -0.17686929692183995, -0.4547627921346785]\n",
            "Best loss : 758.6406457136799  with chromsome :  [-1.7381657589831543, 0.3174679818750761, -0.17686929692183995, -0.4547627921346785]\n",
            "Best loss : 758.6406457136799  with chromsome :  [-1.7381657589831543, 0.3174679818750761, -0.17686929692183995, -0.4547627921346785]\n",
            "Best loss : 758.6406457136799  with chromsome :  [-1.7381657589831543, 0.3174679818750761, -0.17686929692183995, -0.4547627921346785]\n",
            "Best loss : 758.6406457136799  with chromsome :  [-1.7381657589831543, 0.3174679818750761, -0.17686929692183995, -0.4547627921346785]\n",
            "Best loss : 758.6406457136799  with chromsome :  [-1.7381657589831543, 0.3174679818750761, -0.17686929692183995, -0.4547627921346785]\n",
            "Best loss : 758.6406457136799  with chromsome :  [-1.7381657589831543, 0.3174679818750761, -0.17686929692183995, -0.4547627921346785]\n",
            "Best loss : 758.6406457136799  with chromsome :  [-1.7381657589831543, 0.3174679818750761, -0.17686929692183995, -0.4547627921346785]\n",
            "Best loss : 758.6406457136799  with chromsome :  [-1.7381657589831543, 0.3174679818750761, -0.17686929692183995, -0.4547627921346785]\n",
            "Best loss : 758.6406457136799  with chromsome :  [-1.7381657589831543, 0.3174679818750761, -0.17686929692183995, -0.4547627921346785]\n",
            "Best loss : 758.6406457136799  with chromsome :  [-1.7381657589831543, 0.3174679818750761, -0.17686929692183995, -0.4547627921346785]\n",
            "Best loss : 758.6406457136799  with chromsome :  [-1.7381657589831543, 0.3174679818750761, -0.17686929692183995, -0.4547627921346785]\n",
            "Best loss : 758.6406457136799  with chromsome :  [-1.7381657589831543, 0.3174679818750761, -0.17686929692183995, -0.4547627921346785]\n",
            "Best loss : 758.6406457136799  with chromsome :  [-1.7381657589831543, 0.3174679818750761, -0.17686929692183995, -0.4547627921346785]\n",
            "Best loss : 758.6406457136799  with chromsome :  [-1.7381657589831543, 0.3174679818750761, -0.17686929692183995, -0.4547627921346785]\n",
            "Best loss : 758.6406457136799  with chromsome :  [-1.7381657589831543, 0.3174679818750761, -0.17686929692183995, -0.4547627921346785]\n",
            "Best loss : 758.6406457136799  with chromsome :  [-1.7381657589831543, 0.3174679818750761, -0.17686929692183995, -0.4547627921346785]\n",
            "Best loss : 758.6406457136799  with chromsome :  [-1.7381657589831543, 0.3174679818750761, -0.17686929692183995, -0.4547627921346785]\n",
            "Best loss : 758.6406457136799  with chromsome :  [-1.7381657589831543, 0.3174679818750761, -0.17686929692183995, -0.4547627921346785]\n",
            "Best loss : 758.6406457136799  with chromsome :  [-1.7381657589831543, 0.3174679818750761, -0.17686929692183995, -0.4547627921346785]\n",
            "Best loss : 758.6406457136799  with chromsome :  [-1.7381657589831543, 0.3174679818750761, -0.17686929692183995, -0.4547627921346785]\n",
            "Best loss : 758.6406457136799  with chromsome :  [-1.7381657589831543, 0.3174679818750761, -0.17686929692183995, -0.4547627921346785]\n",
            "Best loss : 758.6406457136799  with chromsome :  [-1.7381657589831543, 0.3174679818750761, -0.17686929692183995, -0.4547627921346785]\n",
            "Best loss : 758.6406457136799  with chromsome :  [-1.7381657589831543, 0.3174679818750761, -0.17686929692183995, -0.4547627921346785]\n",
            "Best loss : 758.6406457136799  with chromsome :  [-1.7381657589831543, 0.3174679818750761, -0.17686929692183995, -0.4547627921346785]\n",
            "Best loss : 758.6406457136799  with chromsome :  [-1.7381657589831543, 0.3174679818750761, -0.17686929692183995, -0.4547627921346785]\n",
            "Best loss : 758.6406457136799  with chromsome :  [-1.7381657589831543, 0.3174679818750761, -0.17686929692183995, -0.4547627921346785]\n",
            "Best loss : 758.6406457136799  with chromsome :  [-1.7381657589831543, 0.3174679818750761, -0.17686929692183995, -0.4547627921346785]\n",
            "Best loss : 758.6406457136799  with chromsome :  [-1.7381657589831543, 0.3174679818750761, -0.17686929692183995, -0.4547627921346785]\n",
            "Best loss : 758.6406457136799  with chromsome :  [-1.7381657589831543, 0.3174679818750761, -0.17686929692183995, -0.4547627921346785]\n",
            "Best loss : 758.6406457136799  with chromsome :  [-1.7381657589831543, 0.3174679818750761, -0.17686929692183995, -0.4547627921346785]\n",
            "Best loss : 758.6406457136799  with chromsome :  [-1.7381657589831543, 0.3174679818750761, -0.17686929692183995, -0.4547627921346785]\n",
            "Best loss : 758.6406457136799  with chromsome :  [-1.7381657589831543, 0.3174679818750761, -0.17686929692183995, -0.4547627921346785]\n",
            "Best loss : 758.6406457136799  with chromsome :  [-1.7381657589831543, 0.3174679818750761, -0.17686929692183995, -0.4547627921346785]\n",
            "Best loss : 758.6406457136799  with chromsome :  [-1.7381657589831543, 0.3174679818750761, -0.17686929692183995, -0.4547627921346785]\n",
            "Best loss : 758.6406457136799  with chromsome :  [-1.7381657589831543, 0.3174679818750761, -0.17686929692183995, -0.4547627921346785]\n",
            "Best loss : 758.6406457136799  with chromsome :  [-1.7381657589831543, 0.3174679818750761, -0.17686929692183995, -0.4547627921346785]\n",
            "Best loss : 758.6406457136799  with chromsome :  [-1.7381657589831543, 0.3174679818750761, -0.17686929692183995, -0.4547627921346785]\n",
            "Best loss : 758.6406457136799  with chromsome :  [-1.7381657589831543, 0.3174679818750761, -0.17686929692183995, -0.4547627921346785]\n",
            "Best loss : 758.6406457136799  with chromsome :  [-1.7381657589831543, 0.3174679818750761, -0.17686929692183995, -0.4547627921346785]\n",
            "Best loss : 758.6406457136799  with chromsome :  [-1.7381657589831543, 0.3174679818750761, -0.17686929692183995, -0.4547627921346785]\n",
            "Best loss : 758.6406457136799  with chromsome :  [-1.7381657589831543, 0.3174679818750761, -0.17686929692183995, -0.4547627921346785]\n",
            "Best loss : 758.6406457136799  with chromsome :  [-1.7381657589831543, 0.3174679818750761, -0.17686929692183995, -0.4547627921346785]\n",
            "Best loss : 758.6406457136799  with chromsome :  [-1.7381657589831543, 0.3174679818750761, -0.17686929692183995, -0.4547627921346785]\n",
            "Best loss : 758.6406457136799  with chromsome :  [-1.7381657589831543, 0.3174679818750761, -0.17686929692183995, -0.4547627921346785]\n",
            "Best loss : 758.6406457136799  with chromsome :  [-1.7381657589831543, 0.3174679818750761, -0.17686929692183995, -0.4547627921346785]\n",
            "Best loss : 758.6406457136799  with chromsome :  [-1.7381657589831543, 0.3174679818750761, -0.17686929692183995, -0.4547627921346785]\n",
            "Best loss : 758.6406457136799  with chromsome :  [-1.7381657589831543, 0.3174679818750761, -0.17686929692183995, -0.4547627921346785]\n",
            "Best loss : 758.6406457136799  with chromsome :  [-1.7381657589831543, 0.3174679818750761, -0.17686929692183995, -0.4547627921346785]\n",
            "Best loss : 758.6406457136799  with chromsome :  [-1.7381657589831543, 0.3174679818750761, -0.17686929692183995, -0.4547627921346785]\n",
            "Best loss : 758.6406457136799  with chromsome :  [-1.7381657589831543, 0.3174679818750761, -0.17686929692183995, -0.4547627921346785]\n",
            "Best loss : 758.6406457136799  with chromsome :  [-1.7381657589831543, 0.3174679818750761, -0.17686929692183995, -0.4547627921346785]\n",
            "Best loss : 758.6406457136799  with chromsome :  [-1.7381657589831543, 0.3174679818750761, -0.17686929692183995, -0.4547627921346785]\n",
            "Best loss : 758.6406457136799  with chromsome :  [-1.7381657589831543, 0.3174679818750761, -0.17686929692183995, -0.4547627921346785]\n",
            "Best loss : 758.6406457136799  with chromsome :  [-1.7381657589831543, 0.3174679818750761, -0.17686929692183995, -0.4547627921346785]\n",
            "Best loss : 758.6406457136799  with chromsome :  [-1.7381657589831543, 0.3174679818750761, -0.17686929692183995, -0.4547627921346785]\n",
            "Best loss : 758.6406457136799  with chromsome :  [-1.7381657589831543, 0.3174679818750761, -0.17686929692183995, -0.4547627921346785]\n",
            "Best loss : 758.6406457136799  with chromsome :  [-1.7381657589831543, 0.3174679818750761, -0.17686929692183995, -0.4547627921346785]\n",
            "Best loss : 758.6406457136799  with chromsome :  [-1.7381657589831543, 0.3174679818750761, -0.17686929692183995, -0.4547627921346785]\n",
            "Best loss : 758.6406457136799  with chromsome :  [-1.7381657589831543, 0.3174679818750761, -0.17686929692183995, -0.4547627921346785]\n",
            "Best loss : 758.6406457136799  with chromsome :  [-1.7381657589831543, 0.3174679818750761, -0.17686929692183995, -0.4547627921346785]\n",
            "Best loss : 758.6406457136799  with chromsome :  [-1.7381657589831543, 0.3174679818750761, -0.17686929692183995, -0.4547627921346785]\n",
            "Best loss : 758.6406457136799  with chromsome :  [-1.7381657589831543, 0.3174679818750761, -0.17686929692183995, -0.4547627921346785]\n",
            "Best loss : 758.6406457136799  with chromsome :  [-1.7381657589831543, 0.3174679818750761, -0.17686929692183995, -0.4547627921346785]\n",
            "Best loss : 758.6406457136799  with chromsome :  [-1.7381657589831543, 0.3174679818750761, -0.17686929692183995, -0.4547627921346785]\n",
            "Best loss : 758.6406457136799  with chromsome :  [-1.7381657589831543, 0.3174679818750761, -0.17686929692183995, -0.4547627921346785]\n",
            "Best loss : 758.6406457136799  with chromsome :  [-1.7381657589831543, 0.3174679818750761, -0.17686929692183995, -0.4547627921346785]\n",
            "Best loss : 758.6406457136799  with chromsome :  [-1.7381657589831543, 0.3174679818750761, -0.17686929692183995, -0.4547627921346785]\n",
            "Best loss : 758.6406457136799  with chromsome :  [-1.7381657589831543, 0.3174679818750761, -0.17686929692183995, -0.4547627921346785]\n",
            "Best loss : 758.6406457136799  with chromsome :  [-1.7381657589831543, 0.3174679818750761, -0.17686929692183995, -0.4547627921346785]\n",
            "Best loss : 758.6406457136799  with chromsome :  [-1.7381657589831543, 0.3174679818750761, -0.17686929692183995, -0.4547627921346785]\n",
            "Best loss : 758.6406457136799  with chromsome :  [-1.7381657589831543, 0.3174679818750761, -0.17686929692183995, -0.4547627921346785]\n",
            "Best loss : 758.6406457136799  with chromsome :  [-1.7381657589831543, 0.3174679818750761, -0.17686929692183995, -0.4547627921346785]\n",
            "Best loss : 758.6406457136799  with chromsome :  [-1.7381657589831543, 0.3174679818750761, -0.17686929692183995, -0.4547627921346785]\n",
            "Best loss : 758.6406457136799  with chromsome :  [-1.7381657589831543, 0.3174679818750761, -0.17686929692183995, -0.4547627921346785]\n",
            "Best loss : 758.6406457136799  with chromsome :  [-1.7381657589831543, 0.3174679818750761, -0.17686929692183995, -0.4547627921346785]\n",
            "Best loss : 758.6406457136799  with chromsome :  [-1.7381657589831543, 0.3174679818750761, -0.17686929692183995, -0.4547627921346785]\n",
            "Best loss : 758.6406457136799  with chromsome :  [-1.7381657589831543, 0.3174679818750761, -0.17686929692183995, -0.4547627921346785]\n",
            "Best loss : 758.6406457136799  with chromsome :  [-1.7381657589831543, 0.3174679818750761, -0.17686929692183995, -0.4547627921346785]\n",
            "Best loss : 758.6406457136799  with chromsome :  [-1.7381657589831543, 0.3174679818750761, -0.17686929692183995, -0.4547627921346785]\n",
            "Best loss : 758.6406457136799  with chromsome :  [-1.7381657589831543, 0.3174679818750761, -0.17686929692183995, -0.4547627921346785]\n",
            "Best loss : 758.6406457136799  with chromsome :  [-1.7381657589831543, 0.3174679818750761, -0.17686929692183995, -0.4547627921346785]\n",
            "Best loss : 758.6406457136799  with chromsome :  [-1.7381657589831543, 0.3174679818750761, -0.17686929692183995, -0.4547627921346785]\n",
            "Best loss : 758.6406457136799  with chromsome :  [-1.7381657589831543, 0.3174679818750761, -0.17686929692183995, -0.4547627921346785]\n",
            "Best loss : 758.6406457136799  with chromsome :  [-1.7381657589831543, 0.3174679818750761, -0.17686929692183995, -0.4547627921346785]\n",
            "Best loss : 758.6406457136799  with chromsome :  [-1.7381657589831543, 0.3174679818750761, -0.17686929692183995, -0.4547627921346785]\n",
            "Best loss : 758.6406457136799  with chromsome :  [-1.7381657589831543, 0.3174679818750761, -0.17686929692183995, -0.4547627921346785]\n",
            "Best loss : 758.6406457136799  with chromsome :  [-1.7381657589831543, 0.3174679818750761, -0.17686929692183995, -0.4547627921346785]\n",
            "\n"
          ]
        }
      ]
    },
    {
      "cell_type": "code",
      "source": [],
      "metadata": {
        "id": "sJcDnJo8H_pU"
      },
      "execution_count": null,
      "outputs": []
    }
  ]
}