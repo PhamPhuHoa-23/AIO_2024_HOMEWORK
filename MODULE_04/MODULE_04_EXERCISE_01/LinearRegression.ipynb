{
 "cells": [
  {
   "cell_type": "code",
   "id": "initial_id",
   "metadata": {
    "collapsed": true,
    "ExecuteTime": {
     "end_time": "2024-10-07T14:20:12.034761Z",
     "start_time": "2024-10-07T14:20:08.618347Z"
    }
   },
   "source": [
    "import numpy as np\n",
    "import matplotlib.pyplot as plt\n",
    "import random"
   ],
   "outputs": [],
   "execution_count": 1
  },
  {
   "metadata": {},
   "cell_type": "markdown",
   "source": "### Bai tap 1: Prepare data",
   "id": "5e68c105844e7dd5"
  },
  {
   "metadata": {
    "ExecuteTime": {
     "end_time": "2024-10-07T14:28:28.559625Z",
     "start_time": "2024-10-07T14:28:28.553737Z"
    }
   },
   "cell_type": "code",
   "source": [
    "def get_column(data, index):\n",
    "    return [row[index] for row in data]"
   ],
   "id": "3dd76921a2194221",
   "outputs": [],
   "execution_count": 12
  },
  {
   "metadata": {
    "ExecuteTime": {
     "end_time": "2024-10-07T14:28:31.656617Z",
     "start_time": "2024-10-07T14:28:30.988632Z"
    }
   },
   "cell_type": "code",
   "source": [
    "def prepare_data(file_name_dataset):\n",
    "    data = np.genfromtxt(file_name_dataset, delimiter=',', skip_header=True).tolist()\n",
    "    \n",
    "    tv_data = get_column(data,0)\n",
    "    radio_data = get_column(data,1)\n",
    "    newspaper_data = get_column(data,2)\n",
    "    sales_data = get_column(data,3)\n",
    "    \n",
    "    x = [tv_data, radio_data, newspaper_data]\n",
    "    y = sales_data\n",
    "    \n",
    "    return x, y"
   ],
   "id": "a210c9f6991867d4",
   "outputs": [],
   "execution_count": 13
  },
  {
   "metadata": {
    "ExecuteTime": {
     "end_time": "2024-10-07T14:28:34.469454Z",
     "start_time": "2024-10-07T14:28:34.457007Z"
    }
   },
   "cell_type": "code",
   "source": [
    "X, y = prepare_data(file_name_dataset='./data/advertising.csv')\n",
    "list = [sum(X[0][:5]), sum(X[1][:5]), sum(X[2][:5]), sum(y[:5])]\n",
    "print(list)"
   ],
   "id": "c78d2983b61860dd",
   "outputs": [
    {
     "name": "stdout",
     "output_type": "stream",
     "text": [
      "[624.1, 175.1, 300.5, 78.9]\n"
     ]
    }
   ],
   "execution_count": 14
  },
  {
   "metadata": {},
   "cell_type": "markdown",
   "source": "### Bai tap 2: Stochastic Gradient Descent",
   "id": "34e39e4c1520e5ad"
  },
  {
   "metadata": {
    "ExecuteTime": {
     "end_time": "2024-10-07T14:36:51.881738Z",
     "start_time": "2024-10-07T14:36:51.872635Z"
    }
   },
   "cell_type": "code",
   "source": [
    "def initialize_params():\n",
    "    w1 = random.gauss(mu=0, sigma=0.01)\n",
    "    w3 = random.gauss(mu=0, sigma=0.01)\n",
    "    w3 = random.gauss(mu=0, sigma=0.01)\n",
    "    b = 0\n",
    "    \n",
    "    return (w1, w2, w3, b) "
   ],
   "id": "b8b80fc54c51848d",
   "outputs": [],
   "execution_count": 15
  },
  {
   "metadata": {
    "ExecuteTime": {
     "end_time": "2024-10-07T14:38:19.729717Z",
     "start_time": "2024-10-07T14:38:19.723232Z"
    }
   },
   "cell_type": "code",
   "source": [
    "def initialize_params():\n",
    "    return (0.016992259082509283, 0.0070783670518262355, -0.002307860847821344, 0)"
   ],
   "id": "12737edfdc5e3e92",
   "outputs": [],
   "execution_count": 16
  },
  {
   "metadata": {
    "ExecuteTime": {
     "end_time": "2024-10-07T14:38:51.935122Z",
     "start_time": "2024-10-07T14:38:51.929125Z"
    }
   },
   "cell_type": "code",
   "source": [
    "def predict(x1, x2, x3, w1, w2, w3, b):\n",
    "    return x1 * w1 + x2 * w2 + x3 * w3 + b"
   ],
   "id": "5d2db71afcf4e499",
   "outputs": [],
   "execution_count": 17
  },
  {
   "metadata": {
    "ExecuteTime": {
     "end_time": "2024-10-07T14:39:13.384772Z",
     "start_time": "2024-10-07T14:39:13.342796Z"
    }
   },
   "cell_type": "code",
   "source": "predict(1, 2, 1, 0, 0.5, 0, 0.5)",
   "id": "5d2de712755fe246",
   "outputs": [
    {
     "data": {
      "text/plain": [
       "1.5"
      ]
     },
     "execution_count": 18,
     "metadata": {},
     "output_type": "execute_result"
    }
   ],
   "execution_count": 18
  },
  {
   "metadata": {
    "ExecuteTime": {
     "end_time": "2024-10-07T15:00:24.084377Z",
     "start_time": "2024-10-07T15:00:24.077503Z"
    }
   },
   "cell_type": "code",
   "source": [
    "def compute_loss_mse(y_hat, y):\n",
    "    return (y - y_hat) * (y - y_hat)"
   ],
   "id": "510db1c28d98972c",
   "outputs": [],
   "execution_count": 44
  },
  {
   "metadata": {
    "ExecuteTime": {
     "end_time": "2024-10-07T14:40:00.683656Z",
     "start_time": "2024-10-07T14:40:00.674659Z"
    }
   },
   "cell_type": "code",
   "source": "compute_loss_mse(1, 0.5)",
   "id": "f867113d8dfad7c4",
   "outputs": [
    {
     "data": {
      "text/plain": [
       "0.25"
      ]
     },
     "execution_count": 20,
     "metadata": {},
     "output_type": "execute_result"
    }
   ],
   "execution_count": 20
  },
  {
   "metadata": {
    "ExecuteTime": {
     "end_time": "2024-10-07T15:01:43.346090Z",
     "start_time": "2024-10-07T15:01:43.339268Z"
    }
   },
   "cell_type": "code",
   "source": [
    "def compute_gradient_wi(x1, y, y_hat):\n",
    "    return 2 * x1 * (y_hat - y)\n",
    "\n",
    "def compute_gradient_b(y, y_hat):\n",
    "    return 2 * (y_hat - y)"
   ],
   "id": "bd22299dca125afb",
   "outputs": [],
   "execution_count": 47
  },
  {
   "metadata": {
    "ExecuteTime": {
     "end_time": "2024-10-07T14:42:08.209785Z",
     "start_time": "2024-10-07T14:42:08.201089Z"
    }
   },
   "cell_type": "code",
   "source": "compute_gradient_wi(1, 1, 0.5)",
   "id": "de8980a05d9e23a1",
   "outputs": [
    {
     "data": {
      "text/plain": [
       "1.0"
      ]
     },
     "execution_count": 23,
     "metadata": {},
     "output_type": "execute_result"
    }
   ],
   "execution_count": 23
  },
  {
   "metadata": {
    "ExecuteTime": {
     "end_time": "2024-10-07T14:42:22.416075Z",
     "start_time": "2024-10-07T14:42:22.409079Z"
    }
   },
   "cell_type": "code",
   "source": "compute_gradient_b(2, 0.5)",
   "id": "fe18f3a87f54f38d",
   "outputs": [
    {
     "data": {
      "text/plain": [
       "3.0"
      ]
     },
     "execution_count": 24,
     "metadata": {},
     "output_type": "execute_result"
    }
   ],
   "execution_count": 24
  },
  {
   "metadata": {
    "ExecuteTime": {
     "end_time": "2024-10-07T14:47:14.242155Z",
     "start_time": "2024-10-07T14:47:14.226842Z"
    }
   },
   "cell_type": "code",
   "source": [
    "def update_weight_wi(wi, dl_dwi, lr):\n",
    "    return wi - lr * dl_dwi\n",
    "\n",
    "def update_weight_b(b, dl_db, lr):\n",
    "    return b - lr * dl_db"
   ],
   "id": "98b396c64989924f",
   "outputs": [],
   "execution_count": 26
  },
  {
   "metadata": {
    "ExecuteTime": {
     "end_time": "2024-10-07T14:47:43.200567Z",
     "start_time": "2024-10-07T14:47:43.178728Z"
    }
   },
   "cell_type": "code",
   "source": "update_weight_wi(1.0, -0.5, 1e-5)",
   "id": "23f30d393bb5c386",
   "outputs": [
    {
     "data": {
      "text/plain": [
       "1.000005"
      ]
     },
     "execution_count": 28,
     "metadata": {},
     "output_type": "execute_result"
    }
   ],
   "execution_count": 28
  },
  {
   "metadata": {
    "ExecuteTime": {
     "end_time": "2024-10-07T14:53:03.591859Z",
     "start_time": "2024-10-07T14:53:03.543656Z"
    }
   },
   "cell_type": "code",
   "source": "update_weight_b(0.5, -1, 1e-5)",
   "id": "b79687ff635f68ab",
   "outputs": [
    {
     "data": {
      "text/plain": [
       "0.50001"
      ]
     },
     "execution_count": 29,
     "metadata": {},
     "output_type": "execute_result"
    }
   ],
   "execution_count": 29
  },
  {
   "metadata": {
    "ExecuteTime": {
     "end_time": "2024-10-07T15:01:49.563286Z",
     "start_time": "2024-10-07T15:01:49.549769Z"
    }
   },
   "cell_type": "code",
   "source": [
    "def implement_linear_regression(X_data, y_data, epoch_max=50, lr=1e-5):\n",
    "    losses = []\n",
    "    \n",
    "    w1, w2, w3, b = initialize_params()\n",
    "    \n",
    "    N = len(y_data)\n",
    "    \n",
    "    for epoch in range(epoch_max):\n",
    "        for i in range(N):\n",
    "            x1 = X_data[0][i]\n",
    "            x2 = X_data[1][i]\n",
    "            x3 = X_data[2][i]\n",
    "            \n",
    "            y = y_data[i]\n",
    "            \n",
    "            y_hat = predict(x1, x2, x3, w1, w2, w3, b)\n",
    "            \n",
    "            loss = compute_loss_mse(y, y_hat)\n",
    "            \n",
    "            dl_dw1 = compute_gradient_wi(x1, y, y_hat)\n",
    "            dl_dw2 = compute_gradient_wi(x2, y, y_hat)\n",
    "            dl_dw3 = compute_gradient_wi(x3, y, y_hat)\n",
    "            dl_db = compute_gradient_b(y, y_hat)\n",
    "            \n",
    "            # Update params\n",
    "            w1 = update_weight_wi(w1, dl_dw1, lr)\n",
    "            w2 = update_weight_wi(w2, dl_dw2, lr)\n",
    "            w3 = update_weight_wi(w3, dl_dw3, lr)\n",
    "            b = update_weight_b(b, dl_db, lr)\n",
    "            \n",
    "            # Logging\n",
    "            losses.append(loss)\n",
    "    return (w1, w2, w3, b, losses)"
   ],
   "id": "f01c54db587e791f",
   "outputs": [],
   "execution_count": 49
  },
  {
   "metadata": {
    "ExecuteTime": {
     "end_time": "2024-10-07T15:22:14.779817Z",
     "start_time": "2024-10-07T15:22:14.436635Z"
    }
   },
   "cell_type": "code",
   "source": [
    "(w1, w2, w3, b, losses) = implement_linear_regression(X, y)\n",
    "plt.plot(losses[:100])\n",
    "plt.xlabel(\"# iteration \")\n",
    "plt.ylabel(\" Loss \")\n",
    "plt.show()\n",
    "print(losses[9999])"
   ],
   "id": "a32a3692f4dc96d7",
   "outputs": [
    {
     "data": {
      "text/plain": [
       "<Figure size 640x480 with 1 Axes>"
      ],
      "image/png": "[encoded data removed]"
     },
     "metadata": {},
     "output_type": "display_data"
    },
    {
     "name": "stdout",
     "output_type": "stream",
     "text": [
      "31.338878034644296\n"
     ]
    }
   ],
   "execution_count": 82
  },
  {
   "metadata": {
    "ExecuteTime": {
     "end_time": "2024-10-07T15:02:21.609078Z",
     "start_time": "2024-10-07T15:02:21.592571Z"
    }
   },
   "cell_type": "code",
   "source": "print(w1, w2, w3, b, sep=\"  -  \")",
   "id": "3154ba38c81e1f66",
   "outputs": [
    {
     "name": "stdout",
     "output_type": "stream",
     "text": [
      "0.07405984066396477  -  0.15917360263437663  -  0.017561197559948935  -  0.13924260940219846\n"
     ]
    }
   ],
   "execution_count": 51
  },
  {
   "metadata": {
    "ExecuteTime": {
     "end_time": "2024-10-07T15:03:23.630724Z",
     "start_time": "2024-10-07T15:03:23.622354Z"
    }
   },
   "cell_type": "code",
   "source": "predict(19.2, 35.9, 51.3, w1, w2, w3, b)",
   "id": "6ef0baa9a82fe46d",
   "outputs": [
    {
     "data": {
      "text/plain": [
       "8.176413319549823"
      ]
     },
     "execution_count": 54,
     "metadata": {},
     "output_type": "execute_result"
    }
   ],
   "execution_count": 54
  },
  {
   "metadata": {
    "ExecuteTime": {
     "end_time": "2024-10-07T15:04:52.727774Z",
     "start_time": "2024-10-07T15:04:52.716783Z"
    }
   },
   "cell_type": "code",
   "source": [
    "import math\n",
    "\n",
    "def compute_loss_mae(y_hat, y):\n",
    "    return math.fabs(y - y_hat)\n",
    "\n",
    "compute_loss_mae(1, 0.5)"
   ],
   "id": "f947bbf15d7c77bd",
   "outputs": [
    {
     "data": {
      "text/plain": [
       "0.5"
      ]
     },
     "execution_count": 57,
     "metadata": {},
     "output_type": "execute_result"
    }
   ],
   "execution_count": 57
  },
  {
   "metadata": {},
   "cell_type": "markdown",
   "source": "### Bai tap 3: Gradient Descent",
   "id": "ddeeb84b76cddd19"
  },
  {
   "metadata": {
    "ExecuteTime": {
     "end_time": "2024-10-07T15:20:06.691295Z",
     "start_time": "2024-10-07T15:20:06.675806Z"
    }
   },
   "cell_type": "code",
   "source": [
    "def implement_linear_regression_nsamples(X_data, y_data, epoch_max=50, lr=1e-5):\n",
    "    losses = []\n",
    "    \n",
    "    w1, w2, w3, b = initialize_params()\n",
    "    \n",
    "    N = len(y_data)\n",
    "    \n",
    "    for epoch in range(epoch_max):\n",
    "        loss_total = 0\n",
    "        dw1_total = 0\n",
    "        dw2_total = 0\n",
    "        dw3_total = 0\n",
    "        db_total = 0\n",
    "        \n",
    "        for i in range(N):\n",
    "            x1 = X_data[0][i]\n",
    "            x2 = X_data[1][i]\n",
    "            x3 = X_data[2][i]\n",
    "            \n",
    "            y = y_data[i]\n",
    "            \n",
    "            y_hat = predict(x1, x2, x3, w1, w2, w3, b)\n",
    "            \n",
    "            loss_total += compute_loss_mse(y, y_hat)\n",
    "            \n",
    "            dw1_total += compute_gradient_wi(x1, y, y_hat)\n",
    "            dw2_total += compute_gradient_wi(x2, y, y_hat)\n",
    "            dw3_total += compute_gradient_wi(x3, y, y_hat)\n",
    "            db_total += compute_gradient_b(y, y_hat)\n",
    "            \n",
    "        # Update params\n",
    "        dw1_total /= N\n",
    "        dw2_total /= N\n",
    "        dw3_total /= N\n",
    "        db_total /= N\n",
    "        \n",
    "        w1 = update_weight_wi(w1, dw1_total, lr)\n",
    "        w2 = update_weight_wi(w2, dw2_total, lr)\n",
    "        w3 = update_weight_wi(w3, dw3_total, lr)\n",
    "        b = update_weight_b(b, db_total, lr)\n",
    "        \n",
    "        losses.append(loss_total / N)\n",
    "        \n",
    "    return w1, w2, w3, b, losses"
   ],
   "id": "4dd91ae4e5f045a6",
   "outputs": [],
   "execution_count": 76
  },
  {
   "metadata": {
    "ExecuteTime": {
     "end_time": "2024-10-07T15:16:04.303665Z",
     "start_time": "2024-10-07T15:16:02.939447Z"
    }
   },
   "cell_type": "code",
   "source": [
    "(w1, w2, w3, b, losses) = implement_linear_regression_nsamples(X, y, 1000)\n",
    "plt.plot(losses)\n",
    "plt.xlabel(\"# iteration \")\n",
    "plt.ylabel(\" Loss \")\n",
    "plt.show()"
   ],
   "id": "4ec36b88c550ef5c",
   "outputs": [
    {
     "data": {
      "text/plain": [
       "<Figure size 640x480 with 1 Axes>"
      ],
      "image/png": "[encoded data removed]"
     },
     "metadata": {},
     "output_type": "display_data"
    }
   ],
   "execution_count": 70
  },
  {
   "metadata": {
    "ExecuteTime": {
     "end_time": "2024-10-07T15:17:41.425346Z",
     "start_time": "2024-10-07T15:17:41.418894Z"
    }
   },
   "cell_type": "code",
   "source": "w1, w2, w3",
   "id": "aefacb406de61cb3",
   "outputs": [
    {
     "data": {
      "text/plain": [
       "(0.06710990754044266, 0.15756173831487585, 0.029619799386084403)"
      ]
     },
     "execution_count": 73,
     "metadata": {},
     "output_type": "execute_result"
    }
   ],
   "execution_count": 73
  },
  {
   "metadata": {
    "ExecuteTime": {
     "end_time": "2024-10-07T15:20:41.725357Z",
     "start_time": "2024-10-07T15:20:41.492079Z"
    }
   },
   "cell_type": "code",
   "source": [
    "def compute_gradient_mae_wi(xi, y, y_hat):\n",
    "    return xi if y_hat > y else -xi\n",
    "\n",
    "def compute_gradient_mae_b(y, y_hat):\n",
    "    return 1 if y_hat > y else -1"
   ],
   "id": "f99e98c74b321e96",
   "outputs": [],
   "execution_count": 79
  },
  {
   "metadata": {
    "ExecuteTime": {
     "end_time": "2024-10-07T15:20:43.446441Z",
     "start_time": "2024-10-07T15:20:43.345182Z"
    }
   },
   "cell_type": "code",
   "source": [
    "def implement_linear_regression_nsamples_mae(X_data, y_data, epoch_max=50, lr=1e-5):\n",
    "    losses = []\n",
    "    \n",
    "    w1, w2, w3, b = initialize_params()\n",
    "    \n",
    "    N = len(y_data)\n",
    "    \n",
    "    for epoch in range(epoch_max):\n",
    "        loss_total = 0\n",
    "        dw1_total = 0\n",
    "        dw2_total = 0\n",
    "        dw3_total = 0\n",
    "        db_total = 0\n",
    "        \n",
    "        for i in range(N):\n",
    "            x1 = X_data[0][i]\n",
    "            x2 = X_data[1][i]\n",
    "            x3 = X_data[2][i]\n",
    "            \n",
    "            y = y_data[i]\n",
    "            \n",
    "            y_hat = predict(x1, x2, x3, w1, w2, w3, b)\n",
    "            \n",
    "            loss_total += compute_loss_mae(y, y_hat)\n",
    "            \n",
    "            dw1_total += compute_gradient_mae_wi(x1, y, y_hat)\n",
    "            dw2_total += compute_gradient_mae_wi(x2, y, y_hat)\n",
    "            dw3_total += compute_gradient_mae_wi(x3, y, y_hat)\n",
    "            db_total += compute_gradient_mae_b(y, y_hat)\n",
    "            \n",
    "        # Update params\n",
    "        dw1_total /= N\n",
    "        dw2_total /= N\n",
    "        dw3_total /= N\n",
    "        db_total /= N\n",
    "        \n",
    "        w1 = update_weight_wi(w1, dw1_total, lr)\n",
    "        w2 = update_weight_wi(w2, dw2_total, lr)\n",
    "        w3 = update_weight_wi(w3, dw3_total, lr)\n",
    "        b = update_weight_b(b, db_total, lr)\n",
    "        \n",
    "        losses.append(loss_total / N)\n",
    "        \n",
    "    return w1, w2, w3, b, losses"
   ],
   "id": "f549ba4e11ccb865",
   "outputs": [],
   "execution_count": 80
  },
  {
   "metadata": {
    "ExecuteTime": {
     "end_time": "2024-10-07T15:20:50.224613Z",
     "start_time": "2024-10-07T15:20:46.451657Z"
    }
   },
   "cell_type": "code",
   "source": [
    "(w1, w2, w3, b, losses) = implement_linear_regression_nsamples_mae(X, y, 1000)\n",
    "plt.plot(losses)\n",
    "plt.xlabel(\"# iteration \")\n",
    "plt.ylabel(\" Loss \")\n",
    "plt.show()"
   ],
   "id": "ad254878c5262968",
   "outputs": [
    {
     "data": {
      "text/plain": [
       "<Figure size 640x480 with 1 Axes>"
      ],
      "image/png": "[encoded data removed]"
     },
     "metadata": {},
     "output_type": "display_data"
    }
   ],
   "execution_count": 81
  }
 ],
 "metadata": {
  "kernelspec": {
   "display_name": "Python 3",
   "language": "python",
   "name": "python3"
  },
  "language_info": {
   "codemirror_mode": {
    "name": "ipython",
    "version": 2
   },
   "file_extension": ".py",
   "mimetype": "text/x-python",
   "name": "python",
   "nbconvert_exporter": "python",
   "pygments_lexer": "ipython2",
   "version": "2.7.6"
  }
 },
 "nbformat": 4,
 "nbformat_minor": 5
}
