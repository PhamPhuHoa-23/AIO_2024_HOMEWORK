{
  "nbformat": 4,
  "nbformat_minor": 0,
  "metadata": {
    "colab": {
      "provenance": []
    },
    "kernelspec": {
      "name": "python3",
      "display_name": "Python 3"
    },
    "language_info": {
      "name": "python"
    }
  },
  "cells": [
    {
      "cell_type": "markdown",
      "source": [
        "# Programming"
      ],
      "metadata": {
        "id": "RyFaEDh_LdL4"
      }
    },
    {
      "cell_type": "markdown",
      "source": [
        "## Titanic Survial Prediction"
      ],
      "metadata": {
        "id": "ubuLK_yKLiO_"
      }
    },
    {
      "cell_type": "markdown",
      "source": [
        "### Install Dataset"
      ],
      "metadata": {
        "id": "eEQcCXVTL6co"
      }
    },
    {
      "cell_type": "code",
      "execution_count": 1,
      "metadata": {
        "id": "X9-sI8uFKAm2"
      },
      "outputs": [],
      "source": [
        "!gdown -q 1SFWQ7Zi83Gff-RVrlHj0z4Llm1Nq4BBA"
      ]
    },
    {
      "cell_type": "markdown",
      "source": [
        "### Import Libraries"
      ],
      "metadata": {
        "id": "Ug1gXluqLoD4"
      }
    },
    {
      "cell_type": "code",
      "source": [
        "import pandas as pd\n",
        "import numpy as np\n",
        "import matplotlib.pyplot as plt"
      ],
      "metadata": {
        "id": "WwIkk97RLTge"
      },
      "execution_count": 2,
      "outputs": []
    },
    {
      "cell_type": "code",
      "source": [
        "from sklearn.model_selection import train_test_split\n",
        "from sklearn.preprocessing import StandardScaler"
      ],
      "metadata": {
        "id": "yEs_SaD3Lr1c"
      },
      "execution_count": 3,
      "outputs": []
    },
    {
      "cell_type": "markdown",
      "source": [
        "### Show dataset"
      ],
      "metadata": {
        "id": "uDs5aE8uL_hY"
      }
    },
    {
      "cell_type": "code",
      "source": [
        "dataset_path = 'titanic_modified_dataset.csv'\n",
        "df = pd.read_csv(\n",
        "    dataset_path,\n",
        "    index_col = \"PassengerId\"\n",
        ")"
      ],
      "metadata": {
        "id": "4thx7GZkMCCm"
      },
      "execution_count": 4,
      "outputs": []
    },
    {
      "cell_type": "code",
      "source": [
        "df.head(10)"
      ],
      "metadata": {
        "colab": {
          "base_uri": "https://localhost:8080/",
          "height": 394
        },
        "id": "Zewyr8-8MWNN",
        "outputId": "9d9ddc17-7acd-4623-9567-84268476e6cd"
      },
      "execution_count": null,
      "outputs": [
        {
          "output_type": "execute_result",
          "data": {
            "text/plain": [
              "             Pclass  Sex   Age  SibSp  Parch     Fare  Embarked  Title  \\\n",
              "PassengerId                                                              \n",
              "1                 3    0  22.0      1      0   7.2500         0      0   \n",
              "2                 1    1  38.0      1      0  71.2833         1      1   \n",
              "3                 3    1  26.0      0      0   7.9250         0      2   \n",
              "4                 1    1  35.0      1      0  53.1000         0      1   \n",
              "5                 3    0  35.0      0      0   8.0500         0      0   \n",
              "6                 3    0  28.0      0      0   8.4583         2      0   \n",
              "7                 1    0  54.0      0      0  51.8625         0      0   \n",
              "8                 3    0   2.0      3      1  21.0750         0      3   \n",
              "9                 3    1  27.0      0      2  11.1333         0      1   \n",
              "10                2    1  14.0      1      0  30.0708         1      1   \n",
              "\n",
              "             Survived  \n",
              "PassengerId            \n",
              "1                   0  \n",
              "2                   1  \n",
              "3                   1  \n",
              "4                   1  \n",
              "5                   0  \n",
              "6                   0  \n",
              "7                   0  \n",
              "8                   0  \n",
              "9                   1  \n",
              "10                  1  "
            ],
            "text/html": [
              "\n",
              "  <div id=\"df-80771a9c-c16a-466f-8ba7-b95b3e686bc5\" class=\"colab-df-container\">\n",
              "    <div>\n",
              "<style scoped>\n",
              "    .dataframe tbody tr th:only-of-type {\n",
              "        vertical-align: middle;\n",
              "    }\n",
              "\n",
              "    .dataframe tbody tr th {\n",
              "        vertical-align: top;\n",
              "    }\n",
              "\n",
              "    .dataframe thead th {\n",
              "        text-align: right;\n",
              "    }\n",
              "</style>\n",
              "<table border=\"1\" class=\"dataframe\">\n",
              "  <thead>\n",
              "    <tr style=\"text-align: right;\">\n",
              "      <th></th>\n",
              "      <th>Pclass</th>\n",
              "      <th>Sex</th>\n",
              "      <th>Age</th>\n",
              "      <th>SibSp</th>\n",
              "      <th>Parch</th>\n",
              "      <th>Fare</th>\n",
              "      <th>Embarked</th>\n",
              "      <th>Title</th>\n",
              "      <th>Survived</th>\n",
              "    </tr>\n",
              "    <tr>\n",
              "      <th>PassengerId</th>\n",
              "      <th></th>\n",
              "      <th></th>\n",
              "      <th></th>\n",
              "      <th></th>\n",
              "      <th></th>\n",
              "      <th></th>\n",
              "      <th></th>\n",
              "      <th></th>\n",
              "      <th></th>\n",
              "    </tr>\n",
              "  </thead>\n",
              "  <tbody>\n",
              "    <tr>\n",
              "      <th>1</th>\n",
              "      <td>3</td>\n",
              "      <td>0</td>\n",
              "      <td>22.0</td>\n",
              "      <td>1</td>\n",
              "      <td>0</td>\n",
              "      <td>7.2500</td>\n",
              "      <td>0</td>\n",
              "      <td>0</td>\n",
              "      <td>0</td>\n",
              "    </tr>\n",
              "    <tr>\n",
              "      <th>2</th>\n",
              "      <td>1</td>\n",
              "      <td>1</td>\n",
              "      <td>38.0</td>\n",
              "      <td>1</td>\n",
              "      <td>0</td>\n",
              "      <td>71.2833</td>\n",
              "      <td>1</td>\n",
              "      <td>1</td>\n",
              "      <td>1</td>\n",
              "    </tr>\n",
              "    <tr>\n",
              "      <th>3</th>\n",
              "      <td>3</td>\n",
              "      <td>1</td>\n",
              "      <td>26.0</td>\n",
              "      <td>0</td>\n",
              "      <td>0</td>\n",
              "      <td>7.9250</td>\n",
              "      <td>0</td>\n",
              "      <td>2</td>\n",
              "      <td>1</td>\n",
              "    </tr>\n",
              "    <tr>\n",
              "      <th>4</th>\n",
              "      <td>1</td>\n",
              "      <td>1</td>\n",
              "      <td>35.0</td>\n",
              "      <td>1</td>\n",
              "      <td>0</td>\n",
              "      <td>53.1000</td>\n",
              "      <td>0</td>\n",
              "      <td>1</td>\n",
              "      <td>1</td>\n",
              "    </tr>\n",
              "    <tr>\n",
              "      <th>5</th>\n",
              "      <td>3</td>\n",
              "      <td>0</td>\n",
              "      <td>35.0</td>\n",
              "      <td>0</td>\n",
              "      <td>0</td>\n",
              "      <td>8.0500</td>\n",
              "      <td>0</td>\n",
              "      <td>0</td>\n",
              "      <td>0</td>\n",
              "    </tr>\n",
              "    <tr>\n",
              "      <th>6</th>\n",
              "      <td>3</td>\n",
              "      <td>0</td>\n",
              "      <td>28.0</td>\n",
              "      <td>0</td>\n",
              "      <td>0</td>\n",
              "      <td>8.4583</td>\n",
              "      <td>2</td>\n",
              "      <td>0</td>\n",
              "      <td>0</td>\n",
              "    </tr>\n",
              "    <tr>\n",
              "      <th>7</th>\n",
              "      <td>1</td>\n",
              "      <td>0</td>\n",
              "      <td>54.0</td>\n",
              "      <td>0</td>\n",
              "      <td>0</td>\n",
              "      <td>51.8625</td>\n",
              "      <td>0</td>\n",
              "      <td>0</td>\n",
              "      <td>0</td>\n",
              "    </tr>\n",
              "    <tr>\n",
              "      <th>8</th>\n",
              "      <td>3</td>\n",
              "      <td>0</td>\n",
              "      <td>2.0</td>\n",
              "      <td>3</td>\n",
              "      <td>1</td>\n",
              "      <td>21.0750</td>\n",
              "      <td>0</td>\n",
              "      <td>3</td>\n",
              "      <td>0</td>\n",
              "    </tr>\n",
              "    <tr>\n",
              "      <th>9</th>\n",
              "      <td>3</td>\n",
              "      <td>1</td>\n",
              "      <td>27.0</td>\n",
              "      <td>0</td>\n",
              "      <td>2</td>\n",
              "      <td>11.1333</td>\n",
              "      <td>0</td>\n",
              "      <td>1</td>\n",
              "      <td>1</td>\n",
              "    </tr>\n",
              "    <tr>\n",
              "      <th>10</th>\n",
              "      <td>2</td>\n",
              "      <td>1</td>\n",
              "      <td>14.0</td>\n",
              "      <td>1</td>\n",
              "      <td>0</td>\n",
              "      <td>30.0708</td>\n",
              "      <td>1</td>\n",
              "      <td>1</td>\n",
              "      <td>1</td>\n",
              "    </tr>\n",
              "  </tbody>\n",
              "</table>\n",
              "</div>\n",
              "    <div class=\"colab-df-buttons\">\n",
              "\n",
              "  <div class=\"colab-df-container\">\n",
              "    <button class=\"colab-df-convert\" onclick=\"convertToInteractive('df-80771a9c-c16a-466f-8ba7-b95b3e686bc5')\"\n",
              "            title=\"Convert this dataframe to an interactive table.\"\n",
              "            style=\"display:none;\">\n",
              "\n",
              "  <svg xmlns=\"http://www.w3.org/2000/svg\" height=\"24px\" viewBox=\"0 -960 960 960\">\n",
              "    <path d=\"M120-120v-720h720v720H120Zm60-500h600v-160H180v160Zm220 220h160v-160H400v160Zm0 220h160v-160H400v160ZM180-400h160v-160H180v160Zm440 0h160v-160H620v160ZM180-180h160v-160H180v160Zm440 0h160v-160H620v160Z\"/>\n",
              "  </svg>\n",
              "    </button>\n",
              "\n",
              "  <style>\n",
              "    .colab-df-container {\n",
              "      display:flex;\n",
              "      gap: 12px;\n",
              "    }\n",
              "\n",
              "    .colab-df-convert {\n",
              "      background-color: #E8F0FE;\n",
              "      border: none;\n",
              "      border-radius: 50%;\n",
              "      cursor: pointer;\n",
              "      display: none;\n",
              "      fill: #1967D2;\n",
              "      height: 32px;\n",
              "      padding: 0 0 0 0;\n",
              "      width: 32px;\n",
              "    }\n",
              "\n",
              "    .colab-df-convert:hover {\n",
              "      background-color: #E2EBFA;\n",
              "      box-shadow: 0px 1px 2px rgba(60, 64, 67, 0.3), 0px 1px 3px 1px rgba(60, 64, 67, 0.15);\n",
              "      fill: #174EA6;\n",
              "    }\n",
              "\n",
              "    .colab-df-buttons div {\n",
              "      margin-bottom: 4px;\n",
              "    }\n",
              "\n",
              "    [theme=dark] .colab-df-convert {\n",
              "      background-color: #3B4455;\n",
              "      fill: #D2E3FC;\n",
              "    }\n",
              "\n",
              "    [theme=dark] .colab-df-convert:hover {\n",
              "      background-color: #434B5C;\n",
              "      box-shadow: 0px 1px 3px 1px rgba(0, 0, 0, 0.15);\n",
              "      filter: drop-shadow(0px 1px 2px rgba(0, 0, 0, 0.3));\n",
              "      fill: #FFFFFF;\n",
              "    }\n",
              "  </style>\n",
              "\n",
              "    <script>\n",
              "      const buttonEl =\n",
              "        document.querySelector('#df-80771a9c-c16a-466f-8ba7-b95b3e686bc5 button.colab-df-convert');\n",
              "      buttonEl.style.display =\n",
              "        google.colab.kernel.accessAllowed ? 'block' : 'none';\n",
              "\n",
              "      async function convertToInteractive(key) {\n",
              "        const element = document.querySelector('#df-80771a9c-c16a-466f-8ba7-b95b3e686bc5');\n",
              "        const dataTable =\n",
              "          await google.colab.kernel.invokeFunction('convertToInteractive',\n",
              "                                                    [key], {});\n",
              "        if (!dataTable) return;\n",
              "\n",
              "        const docLinkHtml = 'Like what you see? Visit the ' +\n",
              "          '<a target=\"_blank\" href=https://colab.research.google.com/notebooks/data_table.ipynb>data table notebook</a>'\n",
              "          + ' to learn more about interactive tables.';\n",
              "        element.innerHTML = '';\n",
              "        dataTable['output_type'] = 'display_data';\n",
              "        await google.colab.output.renderOutput(dataTable, element);\n",
              "        const docLink = document.createElement('div');\n",
              "        docLink.innerHTML = docLinkHtml;\n",
              "        element.appendChild(docLink);\n",
              "      }\n",
              "    </script>\n",
              "  </div>\n",
              "\n",
              "\n",
              "<div id=\"df-f94a8b5d-2786-4467-8857-629ee5ea4457\">\n",
              "  <button class=\"colab-df-quickchart\" onclick=\"quickchart('df-f94a8b5d-2786-4467-8857-629ee5ea4457')\"\n",
              "            title=\"Suggest charts\"\n",
              "            style=\"display:none;\">\n",
              "\n",
              "<svg xmlns=\"http://www.w3.org/2000/svg\" height=\"24px\"viewBox=\"0 0 24 24\"\n",
              "     width=\"24px\">\n",
              "    <g>\n",
              "        <path d=\"M19 3H5c-1.1 0-2 .9-2 2v14c0 1.1.9 2 2 2h14c1.1 0 2-.9 2-2V5c0-1.1-.9-2-2-2zM9 17H7v-7h2v7zm4 0h-2V7h2v10zm4 0h-2v-4h2v4z\"/>\n",
              "    </g>\n",
              "</svg>\n",
              "  </button>\n",
              "\n",
              "<style>\n",
              "  .colab-df-quickchart {\n",
              "      --bg-color: #E8F0FE;\n",
              "      --fill-color: #1967D2;\n",
              "      --hover-bg-color: #E2EBFA;\n",
              "      --hover-fill-color: #174EA6;\n",
              "      --disabled-fill-color: #AAA;\n",
              "      --disabled-bg-color: #DDD;\n",
              "  }\n",
              "\n",
              "  [theme=dark] .colab-df-quickchart {\n",
              "      --bg-color: #3B4455;\n",
              "      --fill-color: #D2E3FC;\n",
              "      --hover-bg-color: #434B5C;\n",
              "      --hover-fill-color: #FFFFFF;\n",
              "      --disabled-bg-color: #3B4455;\n",
              "      --disabled-fill-color: #666;\n",
              "  }\n",
              "\n",
              "  .colab-df-quickchart {\n",
              "    background-color: var(--bg-color);\n",
              "    border: none;\n",
              "    border-radius: 50%;\n",
              "    cursor: pointer;\n",
              "    display: none;\n",
              "    fill: var(--fill-color);\n",
              "    height: 32px;\n",
              "    padding: 0;\n",
              "    width: 32px;\n",
              "  }\n",
              "\n",
              "  .colab-df-quickchart:hover {\n",
              "    background-color: var(--hover-bg-color);\n",
              "    box-shadow: 0 1px 2px rgba(60, 64, 67, 0.3), 0 1px 3px 1px rgba(60, 64, 67, 0.15);\n",
              "    fill: var(--button-hover-fill-color);\n",
              "  }\n",
              "\n",
              "  .colab-df-quickchart-complete:disabled,\n",
              "  .colab-df-quickchart-complete:disabled:hover {\n",
              "    background-color: var(--disabled-bg-color);\n",
              "    fill: var(--disabled-fill-color);\n",
              "    box-shadow: none;\n",
              "  }\n",
              "\n",
              "  .colab-df-spinner {\n",
              "    border: 2px solid var(--fill-color);\n",
              "    border-color: transparent;\n",
              "    border-bottom-color: var(--fill-color);\n",
              "    animation:\n",
              "      spin 1s steps(1) infinite;\n",
              "  }\n",
              "\n",
              "  @keyframes spin {\n",
              "    0% {\n",
              "      border-color: transparent;\n",
              "      border-bottom-color: var(--fill-color);\n",
              "      border-left-color: var(--fill-color);\n",
              "    }\n",
              "    20% {\n",
              "      border-color: transparent;\n",
              "      border-left-color: var(--fill-color);\n",
              "      border-top-color: var(--fill-color);\n",
              "    }\n",
              "    30% {\n",
              "      border-color: transparent;\n",
              "      border-left-color: var(--fill-color);\n",
              "      border-top-color: var(--fill-color);\n",
              "      border-right-color: var(--fill-color);\n",
              "    }\n",
              "    40% {\n",
              "      border-color: transparent;\n",
              "      border-right-color: var(--fill-color);\n",
              "      border-top-color: var(--fill-color);\n",
              "    }\n",
              "    60% {\n",
              "      border-color: transparent;\n",
              "      border-right-color: var(--fill-color);\n",
              "    }\n",
              "    80% {\n",
              "      border-color: transparent;\n",
              "      border-right-color: var(--fill-color);\n",
              "      border-bottom-color: var(--fill-color);\n",
              "    }\n",
              "    90% {\n",
              "      border-color: transparent;\n",
              "      border-bottom-color: var(--fill-color);\n",
              "    }\n",
              "  }\n",
              "</style>\n",
              "\n",
              "  <script>\n",
              "    async function quickchart(key) {\n",
              "      const quickchartButtonEl =\n",
              "        document.querySelector('#' + key + ' button');\n",
              "      quickchartButtonEl.disabled = true;  // To prevent multiple clicks.\n",
              "      quickchartButtonEl.classList.add('colab-df-spinner');\n",
              "      try {\n",
              "        const charts = await google.colab.kernel.invokeFunction(\n",
              "            'suggestCharts', [key], {});\n",
              "      } catch (error) {\n",
              "        console.error('Error during call to suggestCharts:', error);\n",
              "      }\n",
              "      quickchartButtonEl.classList.remove('colab-df-spinner');\n",
              "      quickchartButtonEl.classList.add('colab-df-quickchart-complete');\n",
              "    }\n",
              "    (() => {\n",
              "      let quickchartButtonEl =\n",
              "        document.querySelector('#df-f94a8b5d-2786-4467-8857-629ee5ea4457 button');\n",
              "      quickchartButtonEl.style.display =\n",
              "        google.colab.kernel.accessAllowed ? 'block' : 'none';\n",
              "    })();\n",
              "  </script>\n",
              "</div>\n",
              "\n",
              "    </div>\n",
              "  </div>\n"
            ],
            "application/vnd.google.colaboratory.intrinsic+json": {
              "type": "dataframe",
              "variable_name": "df",
              "summary": "{\n  \"name\": \"df\",\n  \"rows\": 891,\n  \"fields\": [\n    {\n      \"column\": \"PassengerId\",\n      \"properties\": {\n        \"dtype\": \"number\",\n        \"std\": 257,\n        \"min\": 1,\n        \"max\": 891,\n        \"num_unique_values\": 891,\n        \"samples\": [\n          710,\n          440,\n          841\n        ],\n        \"semantic_type\": \"\",\n        \"description\": \"\"\n      }\n    },\n    {\n      \"column\": \"Pclass\",\n      \"properties\": {\n        \"dtype\": \"number\",\n        \"std\": 0,\n        \"min\": 1,\n        \"max\": 3,\n        \"num_unique_values\": 3,\n        \"samples\": [\n          3,\n          1,\n          2\n        ],\n        \"semantic_type\": \"\",\n        \"description\": \"\"\n      }\n    },\n    {\n      \"column\": \"Sex\",\n      \"properties\": {\n        \"dtype\": \"number\",\n        \"std\": 0,\n        \"min\": 0,\n        \"max\": 1,\n        \"num_unique_values\": 2,\n        \"samples\": [\n          1,\n          0\n        ],\n        \"semantic_type\": \"\",\n        \"description\": \"\"\n      }\n    },\n    {\n      \"column\": \"Age\",\n      \"properties\": {\n        \"dtype\": \"number\",\n        \"std\": 13.019696550973194,\n        \"min\": 0.42,\n        \"max\": 80.0,\n        \"num_unique_values\": 88,\n        \"samples\": [\n          0.75,\n          22.0\n        ],\n        \"semantic_type\": \"\",\n        \"description\": \"\"\n      }\n    },\n    {\n      \"column\": \"SibSp\",\n      \"properties\": {\n        \"dtype\": \"number\",\n        \"std\": 1,\n        \"min\": 0,\n        \"max\": 8,\n        \"num_unique_values\": 7,\n        \"samples\": [\n          1,\n          0\n        ],\n        \"semantic_type\": \"\",\n        \"description\": \"\"\n      }\n    },\n    {\n      \"column\": \"Parch\",\n      \"properties\": {\n        \"dtype\": \"number\",\n        \"std\": 0,\n        \"min\": 0,\n        \"max\": 6,\n        \"num_unique_values\": 7,\n        \"samples\": [\n          0,\n          1\n        ],\n        \"semantic_type\": \"\",\n        \"description\": \"\"\n      }\n    },\n    {\n      \"column\": \"Fare\",\n      \"properties\": {\n        \"dtype\": \"number\",\n        \"std\": 49.693428597180905,\n        \"min\": 0.0,\n        \"max\": 512.3292,\n        \"num_unique_values\": 248,\n        \"samples\": [\n          11.2417,\n          51.8625\n        ],\n        \"semantic_type\": \"\",\n        \"description\": \"\"\n      }\n    },\n    {\n      \"column\": \"Embarked\",\n      \"properties\": {\n        \"dtype\": \"number\",\n        \"std\": 0,\n        \"min\": -1,\n        \"max\": 2,\n        \"num_unique_values\": 4,\n        \"samples\": [\n          1,\n          -1\n        ],\n        \"semantic_type\": \"\",\n        \"description\": \"\"\n      }\n    },\n    {\n      \"column\": \"Title\",\n      \"properties\": {\n        \"dtype\": \"number\",\n        \"std\": 1,\n        \"min\": 0,\n        \"max\": 16,\n        \"num_unique_values\": 17,\n        \"samples\": [\n          0,\n          1\n        ],\n        \"semantic_type\": \"\",\n        \"description\": \"\"\n      }\n    },\n    {\n      \"column\": \"Survived\",\n      \"properties\": {\n        \"dtype\": \"number\",\n        \"std\": 0,\n        \"min\": 0,\n        \"max\": 1,\n        \"num_unique_values\": 2,\n        \"samples\": [\n          1,\n          0\n        ],\n        \"semantic_type\": \"\",\n        \"description\": \"\"\n      }\n    }\n  ]\n}"
            }
          },
          "metadata": {},
          "execution_count": 5
        }
      ]
    },
    {
      "cell_type": "markdown",
      "source": [
        "### Split Data and Label"
      ],
      "metadata": {
        "id": "YsclfiFvMl9P"
      }
    },
    {
      "cell_type": "code",
      "source": [
        "datasetarr = df.to_numpy().astype(np.float64)\n",
        "X, y = datasetarr[:,:-1], datasetarr[:,-1]"
      ],
      "metadata": {
        "id": "ZBdK6CD5Mogf"
      },
      "execution_count": 5,
      "outputs": []
    },
    {
      "cell_type": "code",
      "source": [
        "X[:10]"
      ],
      "metadata": {
        "colab": {
          "base_uri": "https://localhost:8080/"
        },
        "id": "nFAGi4poM2Xq",
        "outputId": "a9832f37-6da1-4249-b0d2-8cc6b8b517d3"
      },
      "execution_count": 6,
      "outputs": [
        {
          "output_type": "execute_result",
          "data": {
            "text/plain": [
              "array([[ 3.    ,  0.    , 22.    ,  1.    ,  0.    ,  7.25  ,  0.    ,\n",
              "         0.    ],\n",
              "       [ 1.    ,  1.    , 38.    ,  1.    ,  0.    , 71.2833,  1.    ,\n",
              "         1.    ],\n",
              "       [ 3.    ,  1.    , 26.    ,  0.    ,  0.    ,  7.925 ,  0.    ,\n",
              "         2.    ],\n",
              "       [ 1.    ,  1.    , 35.    ,  1.    ,  0.    , 53.1   ,  0.    ,\n",
              "         1.    ],\n",
              "       [ 3.    ,  0.    , 35.    ,  0.    ,  0.    ,  8.05  ,  0.    ,\n",
              "         0.    ],\n",
              "       [ 3.    ,  0.    , 28.    ,  0.    ,  0.    ,  8.4583,  2.    ,\n",
              "         0.    ],\n",
              "       [ 1.    ,  0.    , 54.    ,  0.    ,  0.    , 51.8625,  0.    ,\n",
              "         0.    ],\n",
              "       [ 3.    ,  0.    ,  2.    ,  3.    ,  1.    , 21.075 ,  0.    ,\n",
              "         3.    ],\n",
              "       [ 3.    ,  1.    , 27.    ,  0.    ,  2.    , 11.1333,  0.    ,\n",
              "         1.    ],\n",
              "       [ 2.    ,  1.    , 14.    ,  1.    ,  0.    , 30.0708,  1.    ,\n",
              "         1.    ]])"
            ]
          },
          "metadata": {},
          "execution_count": 6
        }
      ]
    },
    {
      "cell_type": "code",
      "source": [
        "y[:10]"
      ],
      "metadata": {
        "colab": {
          "base_uri": "https://localhost:8080/"
        },
        "id": "r20R-mq4M32d",
        "outputId": "55737da1-7efa-448d-b36b-4686e113a880"
      },
      "execution_count": null,
      "outputs": [
        {
          "output_type": "execute_result",
          "data": {
            "text/plain": [
              "array([0., 1., 1., 1., 0., 0., 0., 0., 1., 1.])"
            ]
          },
          "metadata": {},
          "execution_count": 8
        }
      ]
    },
    {
      "cell_type": "markdown",
      "source": [
        "### Add bias term (Intercpet)"
      ],
      "metadata": {
        "id": "by7I5IGzM9pM"
      }
    },
    {
      "cell_type": "code",
      "source": [
        "intercept = np.ones((X.shape[0], 1))\n",
        "\n",
        "X = np.concatenate((intercept, X), axis=1)"
      ],
      "metadata": {
        "id": "SA8fVsZ9M8_6"
      },
      "execution_count": null,
      "outputs": []
    },
    {
      "cell_type": "code",
      "source": [
        "X[:10]"
      ],
      "metadata": {
        "colab": {
          "base_uri": "https://localhost:8080/"
        },
        "id": "ixenjVCLNTKJ",
        "outputId": "f01d0a0d-f034-4165-b1d3-34100d5de1ed"
      },
      "execution_count": null,
      "outputs": [
        {
          "output_type": "execute_result",
          "data": {
            "text/plain": [
              "array([[ 1.    ,  3.    ,  0.    , 22.    ,  1.    ,  0.    ,  7.25  ,\n",
              "         0.    ,  0.    ],\n",
              "       [ 1.    ,  1.    ,  1.    , 38.    ,  1.    ,  0.    , 71.2833,\n",
              "         1.    ,  1.    ],\n",
              "       [ 1.    ,  3.    ,  1.    , 26.    ,  0.    ,  0.    ,  7.925 ,\n",
              "         0.    ,  2.    ],\n",
              "       [ 1.    ,  1.    ,  1.    , 35.    ,  1.    ,  0.    , 53.1   ,\n",
              "         0.    ,  1.    ],\n",
              "       [ 1.    ,  3.    ,  0.    , 35.    ,  0.    ,  0.    ,  8.05  ,\n",
              "         0.    ,  0.    ],\n",
              "       [ 1.    ,  3.    ,  0.    , 28.    ,  0.    ,  0.    ,  8.4583,\n",
              "         2.    ,  0.    ],\n",
              "       [ 1.    ,  1.    ,  0.    , 54.    ,  0.    ,  0.    , 51.8625,\n",
              "         0.    ,  0.    ],\n",
              "       [ 1.    ,  3.    ,  0.    ,  2.    ,  3.    ,  1.    , 21.075 ,\n",
              "         0.    ,  3.    ],\n",
              "       [ 1.    ,  3.    ,  1.    , 27.    ,  0.    ,  2.    , 11.1333,\n",
              "         0.    ,  1.    ],\n",
              "       [ 1.    ,  2.    ,  1.    , 14.    ,  1.    ,  0.    , 30.0708,\n",
              "         1.    ,  1.    ]])"
            ]
          },
          "metadata": {},
          "execution_count": 10
        }
      ]
    },
    {
      "cell_type": "markdown",
      "source": [
        "### Split Train - Validation - Test set"
      ],
      "metadata": {
        "id": "1WDjf3gYNWw3"
      }
    },
    {
      "cell_type": "code",
      "source": [
        "VAL_SIZE = 0.2\n",
        "TEST_SIZE = 0.125\n",
        "RANDOM_STATE = 2\n",
        "IS_SHUFFLE = True"
      ],
      "metadata": {
        "id": "7wJnOzj1NV0B"
      },
      "execution_count": 7,
      "outputs": []
    },
    {
      "cell_type": "code",
      "source": [
        "X_train, X_val, y_train, y_val = train_test_split(\n",
        "    X, y,\n",
        "    test_size = VAL_SIZE,\n",
        "    random_state = RANDOM_STATE,\n",
        "    shuffle = IS_SHUFFLE\n",
        ")\n",
        "\n",
        "X_train, X_test, y_train, y_test = train_test_split(\n",
        "    X_train, y_train,\n",
        "    test_size = TEST_SIZE,\n",
        "    random_state = RANDOM_STATE,\n",
        "    shuffle = IS_SHUFFLE\n",
        ")"
      ],
      "metadata": {
        "id": "0aVIGDDWNyHR"
      },
      "execution_count": 8,
      "outputs": []
    },
    {
      "cell_type": "markdown",
      "source": [
        "### Standarize Train - Valid - Test set"
      ],
      "metadata": {
        "id": "kovAmBoAOa0h"
      }
    },
    {
      "cell_type": "code",
      "source": [
        "normalizer = StandardScaler()\n",
        "X_train[:,1:] = normalizer.fit_transform(X_train[:,1:])\n",
        "X_val[:,1:] = normalizer.transform(X_val[:,1:])\n",
        "X_test[:,1:] = normalizer.transform(X_test[:,1:])"
      ],
      "metadata": {
        "id": "B-Sz9z17ONhU"
      },
      "execution_count": 9,
      "outputs": []
    },
    {
      "cell_type": "markdown",
      "source": [
        "### Functionality"
      ],
      "metadata": {
        "id": "Beew7O1sOkps"
      }
    },
    {
      "cell_type": "code",
      "source": [
        "def sigmoid(x):\n",
        "    return 1 / (1 + np.exp(-x))"
      ],
      "metadata": {
        "id": "_95PXubUOmaK"
      },
      "execution_count": 10,
      "outputs": []
    },
    {
      "cell_type": "code",
      "source": [
        "def predict(X, theta):\n",
        "    linear_predict = X.dot(theta)\n",
        "    return sigmoid(linear_predict)"
      ],
      "metadata": {
        "id": "CMyZxj4yOrKo"
      },
      "execution_count": 11,
      "outputs": []
    },
    {
      "cell_type": "code",
      "source": [
        "def compute_loss(y_hat, y):\n",
        "    y_hat = np.clip(y_hat, 1e-7, 1 - 1e-7)\n",
        "\n",
        "    return -(y * np.log(y_hat) + (1 - y) * np.log(1 - y_hat)).mean()"
      ],
      "metadata": {
        "id": "Komj4NkZO1uz"
      },
      "execution_count": 12,
      "outputs": []
    },
    {
      "cell_type": "code",
      "source": [
        "def compute_gradient(X, y, y_hat):\n",
        "    return X.T.dot(y_hat - y) / y.size"
      ],
      "metadata": {
        "id": "P4TiQEoAPJyV"
      },
      "execution_count": 13,
      "outputs": []
    },
    {
      "cell_type": "code",
      "source": [
        "def update_theta(theta, gradient, learning_rate):\n",
        "    return theta - learning_rate * gradient"
      ],
      "metadata": {
        "id": "YrioF8H7PXHJ"
      },
      "execution_count": 14,
      "outputs": []
    },
    {
      "cell_type": "code",
      "source": [
        "def compute_accuracy(X, y, theta):\n",
        "    y_hat = predict(X, theta).round()\n",
        "    return (y_hat == y).mean()"
      ],
      "metadata": {
        "id": "V0vYXkKtPfbc"
      },
      "execution_count": 15,
      "outputs": []
    },
    {
      "cell_type": "markdown",
      "source": [
        "### Initialize Hyper-Parameters"
      ],
      "metadata": {
        "id": "A2f7hHNNPw4a"
      }
    },
    {
      "cell_type": "code",
      "source": [
        "learning_rate = 0.01\n",
        "epochs = 100\n",
        "batch_size = 16\n",
        "\n",
        "np.random.seed(RANDOM_STATE)\n",
        "theta = np.random.uniform(size=X_train.shape[1])"
      ],
      "metadata": {
        "id": "NMY_yS3dP1LZ"
      },
      "execution_count": 16,
      "outputs": []
    },
    {
      "cell_type": "markdown",
      "source": [
        "### Train Logistic Model"
      ],
      "metadata": {
        "id": "cFzpJSd7QSKo"
      }
    },
    {
      "cell_type": "code",
      "source": [
        "train_accs = []\n",
        "train_losses = []\n",
        "val_accs = []\n",
        "val_losses = []"
      ],
      "metadata": {
        "id": "dV_V58OTQUmp"
      },
      "execution_count": 17,
      "outputs": []
    },
    {
      "cell_type": "code",
      "source": [
        "for epoch in range(epochs):\n",
        "    train_batch_accs = []\n",
        "    train_batch_losses = []\n",
        "    val_batch_accs = []\n",
        "    val_batch_losses = []\n",
        "\n",
        "    for i in range(0, X_train.shape[0], batch_size):\n",
        "        X_batch = X_train[i:i+batch_size]\n",
        "        y_batch = y_train[i:i+batch_size]\n",
        "\n",
        "        y_hat = predict(X_batch, theta)\n",
        "        loss = compute_loss(y_hat, y_batch)\n",
        "        gradient = compute_gradient(X_batch, y_batch, y_hat)\n",
        "        theta = update_theta(theta, gradient, learning_rate)\n",
        "\n",
        "        train_batch_losses.append(loss)\n",
        "        train_batch_accs.append(compute_accuracy(X_batch, y_batch, theta))\n",
        "\n",
        "        y_val_hat = predict(X_val, theta)\n",
        "        val_loss = compute_loss(y_val_hat, y_val)\n",
        "        val_batch_losses.append(val_loss)\n",
        "        val_batch_accs.append(compute_accuracy(X_val, y_val, theta))\n",
        "\n",
        "    train_batch_loss = sum(train_batch_losses) / len(train_batch_losses)\n",
        "    train_batch_acc = sum(train_batch_accs) / len(train_batch_accs)\n",
        "    val_batch_loss = sum(val_batch_losses) / len(val_batch_losses)\n",
        "    val_batch_acc = sum(val_batch_accs) / len(val_batch_accs)\n",
        "\n",
        "    train_losses.append(train_batch_loss)\n",
        "    train_accs.append(train_batch_acc)\n",
        "    val_losses.append(val_batch_loss)\n",
        "    val_accs.append(val_batch_acc)\n",
        "\n",
        "    print(f\"Epoch: {epoch + 1}/{epochs}\", end=\"\\t\")\n",
        "    print(f\"Train Loss: {train_batch_loss:.4f}\", end=\"\\t\")\n",
        "    print(f\"Val Loss: {val_batch_loss:.4f}\", end=\"\\t\\n\")"
      ],
      "metadata": {
        "id": "79kjXWkiR3qF",
        "colab": {
          "base_uri": "https://localhost:8080/"
        },
        "outputId": "490160b7-935c-4d09-a999-fa2379a5e524"
      },
      "execution_count": 18,
      "outputs": [
        {
          "output_type": "stream",
          "name": "stdout",
          "text": [
            "Epoch: 1/100\tTrain Loss: 0.8448\tVal Loss: 0.7629\t\n",
            "Epoch: 2/100\tTrain Loss: 0.6949\tVal Loss: 0.6687\t\n",
            "Epoch: 3/100\tTrain Loss: 0.6264\tVal Loss: 0.6365\t\n",
            "Epoch: 4/100\tTrain Loss: 0.5890\tVal Loss: 0.6228\t\n",
            "Epoch: 5/100\tTrain Loss: 0.5649\tVal Loss: 0.6146\t\n",
            "Epoch: 6/100\tTrain Loss: 0.5472\tVal Loss: 0.6080\t\n",
            "Epoch: 7/100\tTrain Loss: 0.5332\tVal Loss: 0.6018\t\n",
            "Epoch: 8/100\tTrain Loss: 0.5216\tVal Loss: 0.5959\t\n",
            "Epoch: 9/100\tTrain Loss: 0.5117\tVal Loss: 0.5903\t\n",
            "Epoch: 10/100\tTrain Loss: 0.5032\tVal Loss: 0.5851\t\n",
            "Epoch: 11/100\tTrain Loss: 0.4958\tVal Loss: 0.5804\t\n",
            "Epoch: 12/100\tTrain Loss: 0.4893\tVal Loss: 0.5761\t\n",
            "Epoch: 13/100\tTrain Loss: 0.4836\tVal Loss: 0.5722\t\n",
            "Epoch: 14/100\tTrain Loss: 0.4786\tVal Loss: 0.5688\t\n",
            "Epoch: 15/100\tTrain Loss: 0.4741\tVal Loss: 0.5658\t\n",
            "Epoch: 16/100\tTrain Loss: 0.4701\tVal Loss: 0.5631\t\n",
            "Epoch: 17/100\tTrain Loss: 0.4666\tVal Loss: 0.5607\t\n",
            "Epoch: 18/100\tTrain Loss: 0.4634\tVal Loss: 0.5586\t\n",
            "Epoch: 19/100\tTrain Loss: 0.4606\tVal Loss: 0.5568\t\n",
            "Epoch: 20/100\tTrain Loss: 0.4580\tVal Loss: 0.5552\t\n",
            "Epoch: 21/100\tTrain Loss: 0.4557\tVal Loss: 0.5538\t\n",
            "Epoch: 22/100\tTrain Loss: 0.4536\tVal Loss: 0.5525\t\n",
            "Epoch: 23/100\tTrain Loss: 0.4517\tVal Loss: 0.5514\t\n",
            "Epoch: 24/100\tTrain Loss: 0.4499\tVal Loss: 0.5504\t\n",
            "Epoch: 25/100\tTrain Loss: 0.4483\tVal Loss: 0.5496\t\n",
            "Epoch: 26/100\tTrain Loss: 0.4469\tVal Loss: 0.5488\t\n",
            "Epoch: 27/100\tTrain Loss: 0.4455\tVal Loss: 0.5481\t\n",
            "Epoch: 28/100\tTrain Loss: 0.4443\tVal Loss: 0.5475\t\n",
            "Epoch: 29/100\tTrain Loss: 0.4432\tVal Loss: 0.5470\t\n",
            "Epoch: 30/100\tTrain Loss: 0.4421\tVal Loss: 0.5465\t\n",
            "Epoch: 31/100\tTrain Loss: 0.4412\tVal Loss: 0.5461\t\n",
            "Epoch: 32/100\tTrain Loss: 0.4403\tVal Loss: 0.5457\t\n",
            "Epoch: 33/100\tTrain Loss: 0.4394\tVal Loss: 0.5454\t\n",
            "Epoch: 34/100\tTrain Loss: 0.4387\tVal Loss: 0.5451\t\n",
            "Epoch: 35/100\tTrain Loss: 0.4379\tVal Loss: 0.5448\t\n",
            "Epoch: 36/100\tTrain Loss: 0.4373\tVal Loss: 0.5446\t\n",
            "Epoch: 37/100\tTrain Loss: 0.4367\tVal Loss: 0.5444\t\n",
            "Epoch: 38/100\tTrain Loss: 0.4361\tVal Loss: 0.5442\t\n",
            "Epoch: 39/100\tTrain Loss: 0.4356\tVal Loss: 0.5441\t\n",
            "Epoch: 40/100\tTrain Loss: 0.4351\tVal Loss: 0.5439\t\n",
            "Epoch: 41/100\tTrain Loss: 0.4346\tVal Loss: 0.5438\t\n",
            "Epoch: 42/100\tTrain Loss: 0.4342\tVal Loss: 0.5437\t\n",
            "Epoch: 43/100\tTrain Loss: 0.4338\tVal Loss: 0.5436\t\n",
            "Epoch: 44/100\tTrain Loss: 0.4334\tVal Loss: 0.5435\t\n",
            "Epoch: 45/100\tTrain Loss: 0.4330\tVal Loss: 0.5435\t\n",
            "Epoch: 46/100\tTrain Loss: 0.4327\tVal Loss: 0.5434\t\n",
            "Epoch: 47/100\tTrain Loss: 0.4324\tVal Loss: 0.5434\t\n",
            "Epoch: 48/100\tTrain Loss: 0.4321\tVal Loss: 0.5434\t\n",
            "Epoch: 49/100\tTrain Loss: 0.4318\tVal Loss: 0.5433\t\n",
            "Epoch: 50/100\tTrain Loss: 0.4316\tVal Loss: 0.5433\t\n",
            "Epoch: 51/100\tTrain Loss: 0.4313\tVal Loss: 0.5433\t\n",
            "Epoch: 52/100\tTrain Loss: 0.4311\tVal Loss: 0.5433\t\n",
            "Epoch: 53/100\tTrain Loss: 0.4309\tVal Loss: 0.5433\t\n",
            "Epoch: 54/100\tTrain Loss: 0.4307\tVal Loss: 0.5433\t\n",
            "Epoch: 55/100\tTrain Loss: 0.4305\tVal Loss: 0.5433\t\n",
            "Epoch: 56/100\tTrain Loss: 0.4303\tVal Loss: 0.5434\t\n",
            "Epoch: 57/100\tTrain Loss: 0.4302\tVal Loss: 0.5434\t\n",
            "Epoch: 58/100\tTrain Loss: 0.4300\tVal Loss: 0.5434\t\n",
            "Epoch: 59/100\tTrain Loss: 0.4299\tVal Loss: 0.5434\t\n",
            "Epoch: 60/100\tTrain Loss: 0.4297\tVal Loss: 0.5435\t\n",
            "Epoch: 61/100\tTrain Loss: 0.4296\tVal Loss: 0.5435\t\n",
            "Epoch: 62/100\tTrain Loss: 0.4295\tVal Loss: 0.5435\t\n",
            "Epoch: 63/100\tTrain Loss: 0.4294\tVal Loss: 0.5436\t\n",
            "Epoch: 64/100\tTrain Loss: 0.4293\tVal Loss: 0.5436\t\n",
            "Epoch: 65/100\tTrain Loss: 0.4292\tVal Loss: 0.5436\t\n",
            "Epoch: 66/100\tTrain Loss: 0.4291\tVal Loss: 0.5437\t\n",
            "Epoch: 67/100\tTrain Loss: 0.4290\tVal Loss: 0.5437\t\n",
            "Epoch: 68/100\tTrain Loss: 0.4289\tVal Loss: 0.5438\t\n",
            "Epoch: 69/100\tTrain Loss: 0.4288\tVal Loss: 0.5438\t\n",
            "Epoch: 70/100\tTrain Loss: 0.4288\tVal Loss: 0.5439\t\n",
            "Epoch: 71/100\tTrain Loss: 0.4287\tVal Loss: 0.5439\t\n",
            "Epoch: 72/100\tTrain Loss: 0.4286\tVal Loss: 0.5440\t\n",
            "Epoch: 73/100\tTrain Loss: 0.4286\tVal Loss: 0.5440\t\n",
            "Epoch: 74/100\tTrain Loss: 0.4285\tVal Loss: 0.5441\t\n",
            "Epoch: 75/100\tTrain Loss: 0.4285\tVal Loss: 0.5441\t\n",
            "Epoch: 76/100\tTrain Loss: 0.4284\tVal Loss: 0.5442\t\n",
            "Epoch: 77/100\tTrain Loss: 0.4284\tVal Loss: 0.5442\t\n",
            "Epoch: 78/100\tTrain Loss: 0.4283\tVal Loss: 0.5443\t\n",
            "Epoch: 79/100\tTrain Loss: 0.4283\tVal Loss: 0.5443\t\n",
            "Epoch: 80/100\tTrain Loss: 0.4283\tVal Loss: 0.5444\t\n",
            "Epoch: 81/100\tTrain Loss: 0.4282\tVal Loss: 0.5444\t\n",
            "Epoch: 82/100\tTrain Loss: 0.4282\tVal Loss: 0.5445\t\n",
            "Epoch: 83/100\tTrain Loss: 0.4282\tVal Loss: 0.5445\t\n",
            "Epoch: 84/100\tTrain Loss: 0.4281\tVal Loss: 0.5446\t\n",
            "Epoch: 85/100\tTrain Loss: 0.4281\tVal Loss: 0.5446\t\n",
            "Epoch: 86/100\tTrain Loss: 0.4281\tVal Loss: 0.5447\t\n",
            "Epoch: 87/100\tTrain Loss: 0.4280\tVal Loss: 0.5447\t\n",
            "Epoch: 88/100\tTrain Loss: 0.4280\tVal Loss: 0.5448\t\n",
            "Epoch: 89/100\tTrain Loss: 0.4280\tVal Loss: 0.5448\t\n",
            "Epoch: 90/100\tTrain Loss: 0.4280\tVal Loss: 0.5448\t\n",
            "Epoch: 91/100\tTrain Loss: 0.4280\tVal Loss: 0.5449\t\n",
            "Epoch: 92/100\tTrain Loss: 0.4279\tVal Loss: 0.5449\t\n",
            "Epoch: 93/100\tTrain Loss: 0.4279\tVal Loss: 0.5450\t\n",
            "Epoch: 94/100\tTrain Loss: 0.4279\tVal Loss: 0.5450\t\n",
            "Epoch: 95/100\tTrain Loss: 0.4279\tVal Loss: 0.5451\t\n",
            "Epoch: 96/100\tTrain Loss: 0.4279\tVal Loss: 0.5451\t\n",
            "Epoch: 97/100\tTrain Loss: 0.4279\tVal Loss: 0.5451\t\n",
            "Epoch: 98/100\tTrain Loss: 0.4278\tVal Loss: 0.5452\t\n",
            "Epoch: 99/100\tTrain Loss: 0.4278\tVal Loss: 0.5452\t\n",
            "Epoch: 100/100\tTrain Loss: 0.4278\tVal Loss: 0.5453\t\n"
          ]
        }
      ]
    },
    {
      "cell_type": "code",
      "source": [
        "fig, ax = plt.subplots(2, 2, figsize=(12, 10))\n",
        "ax[0, 0].plot(train_losses)\n",
        "ax[0, 0].set(xlabel=\"Epoch\", ylabel=\"Loss\")\n",
        "ax[0, 0].set_title(\"Training Loss\")\n",
        "\n",
        "ax[0, 1].plot(val_losses, \"orange\")\n",
        "ax[0, 1].set(xlabel=\"Epoch\", ylabel=\"Loss\")\n",
        "ax[0, 1].set_title(\"Validation Loss\")\n",
        "\n",
        "ax[1, 0].plot(train_accs)\n",
        "ax[1, 0].set(xlabel=\"Epoch\", ylabel=\"Accuracy\")\n",
        "ax[1, 0].set_title(\"Training Accuracy\")\n",
        "\n",
        "ax[1, 1].plot(val_accs, \"orange\")\n",
        "ax[1, 1].set(xlabel=\"Epoch\", ylabel=\"Accuracy\")\n",
        "ax[1, 1].set_title(\"Validation Accuracy\")"
      ],
      "metadata": {
        "colab": {
          "base_uri": "https://localhost:8080/",
          "height": 567
        },
        "id": "auA0rsJJdJwI",
        "outputId": "83b788e9-7ffb-434a-bac4-337c13cf7140"
      },
      "execution_count": 19,
      "outputs": [
        {
          "output_type": "execute_result",
          "data": {
            "text/plain": [
              "Text(0.5, 1.0, 'Validation Accuracy')"
            ]
          },
          "metadata": {},
          "execution_count": 19
        },
        {
          "output_type": "display_data",
          "data": {
            "text/plain": [
              "<Figure size 1200x1000 with 4 Axes>"
            ],
            "image/png": "[encoded data removed]"
          },
          "metadata": {}
        }
      ]
    },
    {
      "cell_type": "markdown",
      "source": [
        "### Evaluate Model"
      ],
      "metadata": {
        "id": "18Gdzy1SGV_0"
      }
    },
    {
      "cell_type": "code",
      "source": [
        "val_set_acc = compute_accuracy(X_val, y_val, theta)\n",
        "test_set_acc = compute_accuracy(X_test, y_test, theta)\n",
        "print(\"Evaluation on validation and test set:\")\n",
        "print(f\"Validation Accuracy: {val_set_acc:.4f}\")\n",
        "print(f\"Test Accuracy: {test_set_acc:.4f}\")"
      ],
      "metadata": {
        "colab": {
          "base_uri": "https://localhost:8080/"
        },
        "id": "Exefb-RWGTlt",
        "outputId": "41ae5cd9-1238-4537-9825-928117392c8c"
      },
      "execution_count": 20,
      "outputs": [
        {
          "output_type": "stream",
          "name": "stdout",
          "text": [
            "Evaluation on validation and test set:\n",
            "Validation Accuracy: 0.7542\n",
            "Test Accuracy: 0.7753\n"
          ]
        }
      ]
    },
    {
      "cell_type": "markdown",
      "source": [
        "## Twitter Sentiment Analysis"
      ],
      "metadata": {
        "id": "4K4DRmsYGoGf"
      }
    },
    {
      "cell_type": "markdown",
      "source": [
        "### Dataset Installation"
      ],
      "metadata": {
        "id": "ysMZPLApG4lH"
      }
    },
    {
      "cell_type": "code",
      "source": [
        "!gdown -q 1dANzxlEjeCEbveFOWWqzSG-niVx-vCgK"
      ],
      "metadata": {
        "id": "mr_8C42MGsiC"
      },
      "execution_count": 22,
      "outputs": []
    },
    {
      "cell_type": "markdown",
      "source": [
        "### Import libraries"
      ],
      "metadata": {
        "id": "VNpDlJzWHEtW"
      }
    },
    {
      "cell_type": "code",
      "source": [
        "import pandas as pd\n",
        "import numpy as np\n",
        "import re\n",
        "import nltk\n",
        "import matplotlib.pyplot as plt\n",
        "\n",
        "from sklearn.model_selection import train_test_split\n",
        "from sklearn.preprocessing import StandardScaler\n",
        "from nltk.tokenize import TweetTokenizer\n",
        "from collections import defaultdict"
      ],
      "metadata": {
        "id": "W4hd3oVnHCf3"
      },
      "execution_count": 23,
      "outputs": []
    },
    {
      "cell_type": "markdown",
      "source": [
        "### Read Dataset"
      ],
      "metadata": {
        "id": "YMWeHxc4Hm3n"
      }
    },
    {
      "cell_type": "code",
      "source": [
        "dataset_path = \"sentiment_analysis.csv\"\n",
        "df = pd.read_csv(dataset_path, index_col=\"id\")"
      ],
      "metadata": {
        "id": "i73sOpLHHopZ"
      },
      "execution_count": 25,
      "outputs": []
    },
    {
      "cell_type": "code",
      "source": [
        "df.head(10)"
      ],
      "metadata": {
        "colab": {
          "base_uri": "https://localhost:8080/",
          "height": 394
        },
        "id": "BKivQkBEHyqH",
        "outputId": "9ba17a5d-19bb-42c9-a70d-7652cced7422"
      },
      "execution_count": 26,
      "outputs": [
        {
          "output_type": "execute_result",
          "data": {
            "text/plain": [
              "    label                                              tweet\n",
              "id                                                          \n",
              "1       0  #fingerprint #Pregnancy Test https://goo.gl/h1...\n",
              "2       0  Finally a transparant silicon case ^^ Thanks t...\n",
              "3       0  We love this! Would you go? #talk #makememorie...\n",
              "4       0  I'm wired I know I'm George I was made that wa...\n",
              "5       1  What amazing service! Apple won't even talk to...\n",
              "6       1  iPhone software update fucked up my phone big ...\n",
              "7       0  Happy for us .. #instapic #instadaily #us #son...\n",
              "8       0  New Type C charger cable #UK http://www.ebay.c...\n",
              "9       0  Bout to go shopping again listening to music #...\n",
              "10      0  Photo: #fun #selfie #pool #water #sony #camera..."
            ],
            "text/html": [
              "\n",
              "  <div id=\"df-ab3fef4b-89b3-4023-a01d-bba6a30d0dea\" class=\"colab-df-container\">\n",
              "    <div>\n",
              "<style scoped>\n",
              "    .dataframe tbody tr th:only-of-type {\n",
              "        vertical-align: middle;\n",
              "    }\n",
              "\n",
              "    .dataframe tbody tr th {\n",
              "        vertical-align: top;\n",
              "    }\n",
              "\n",
              "    .dataframe thead th {\n",
              "        text-align: right;\n",
              "    }\n",
              "</style>\n",
              "<table border=\"1\" class=\"dataframe\">\n",
              "  <thead>\n",
              "    <tr style=\"text-align: right;\">\n",
              "      <th></th>\n",
              "      <th>label</th>\n",
              "      <th>tweet</th>\n",
              "    </tr>\n",
              "    <tr>\n",
              "      <th>id</th>\n",
              "      <th></th>\n",
              "      <th></th>\n",
              "    </tr>\n",
              "  </thead>\n",
              "  <tbody>\n",
              "    <tr>\n",
              "      <th>1</th>\n",
              "      <td>0</td>\n",
              "      <td>#fingerprint #Pregnancy Test https://goo.gl/h1...</td>\n",
              "    </tr>\n",
              "    <tr>\n",
              "      <th>2</th>\n",
              "      <td>0</td>\n",
              "      <td>Finally a transparant silicon case ^^ Thanks t...</td>\n",
              "    </tr>\n",
              "    <tr>\n",
              "      <th>3</th>\n",
              "      <td>0</td>\n",
              "      <td>We love this! Would you go? #talk #makememorie...</td>\n",
              "    </tr>\n",
              "    <tr>\n",
              "      <th>4</th>\n",
              "      <td>0</td>\n",
              "      <td>I'm wired I know I'm George I was made that wa...</td>\n",
              "    </tr>\n",
              "    <tr>\n",
              "      <th>5</th>\n",
              "      <td>1</td>\n",
              "      <td>What amazing service! Apple won't even talk to...</td>\n",
              "    </tr>\n",
              "    <tr>\n",
              "      <th>6</th>\n",
              "      <td>1</td>\n",
              "      <td>iPhone software update fucked up my phone big ...</td>\n",
              "    </tr>\n",
              "    <tr>\n",
              "      <th>7</th>\n",
              "      <td>0</td>\n",
              "      <td>Happy for us .. #instapic #instadaily #us #son...</td>\n",
              "    </tr>\n",
              "    <tr>\n",
              "      <th>8</th>\n",
              "      <td>0</td>\n",
              "      <td>New Type C charger cable #UK http://www.ebay.c...</td>\n",
              "    </tr>\n",
              "    <tr>\n",
              "      <th>9</th>\n",
              "      <td>0</td>\n",
              "      <td>Bout to go shopping again listening to music #...</td>\n",
              "    </tr>\n",
              "    <tr>\n",
              "      <th>10</th>\n",
              "      <td>0</td>\n",
              "      <td>Photo: #fun #selfie #pool #water #sony #camera...</td>\n",
              "    </tr>\n",
              "  </tbody>\n",
              "</table>\n",
              "</div>\n",
              "    <div class=\"colab-df-buttons\">\n",
              "\n",
              "  <div class=\"colab-df-container\">\n",
              "    <button class=\"colab-df-convert\" onclick=\"convertToInteractive('df-ab3fef4b-89b3-4023-a01d-bba6a30d0dea')\"\n",
              "            title=\"Convert this dataframe to an interactive table.\"\n",
              "            style=\"display:none;\">\n",
              "\n",
              "  <svg xmlns=\"http://www.w3.org/2000/svg\" height=\"24px\" viewBox=\"0 -960 960 960\">\n",
              "    <path d=\"M120-120v-720h720v720H120Zm60-500h600v-160H180v160Zm220 220h160v-160H400v160Zm0 220h160v-160H400v160ZM180-400h160v-160H180v160Zm440 0h160v-160H620v160ZM180-180h160v-160H180v160Zm440 0h160v-160H620v160Z\"/>\n",
              "  </svg>\n",
              "    </button>\n",
              "\n",
              "  <style>\n",
              "    .colab-df-container {\n",
              "      display:flex;\n",
              "      gap: 12px;\n",
              "    }\n",
              "\n",
              "    .colab-df-convert {\n",
              "      background-color: #E8F0FE;\n",
              "      border: none;\n",
              "      border-radius: 50%;\n",
              "      cursor: pointer;\n",
              "      display: none;\n",
              "      fill: #1967D2;\n",
              "      height: 32px;\n",
              "      padding: 0 0 0 0;\n",
              "      width: 32px;\n",
              "    }\n",
              "\n",
              "    .colab-df-convert:hover {\n",
              "      background-color: #E2EBFA;\n",
              "      box-shadow: 0px 1px 2px rgba(60, 64, 67, 0.3), 0px 1px 3px 1px rgba(60, 64, 67, 0.15);\n",
              "      fill: #174EA6;\n",
              "    }\n",
              "\n",
              "    .colab-df-buttons div {\n",
              "      margin-bottom: 4px;\n",
              "    }\n",
              "\n",
              "    [theme=dark] .colab-df-convert {\n",
              "      background-color: #3B4455;\n",
              "      fill: #D2E3FC;\n",
              "    }\n",
              "\n",
              "    [theme=dark] .colab-df-convert:hover {\n",
              "      background-color: #434B5C;\n",
              "      box-shadow: 0px 1px 3px 1px rgba(0, 0, 0, 0.15);\n",
              "      filter: drop-shadow(0px 1px 2px rgba(0, 0, 0, 0.3));\n",
              "      fill: #FFFFFF;\n",
              "    }\n",
              "  </style>\n",
              "\n",
              "    <script>\n",
              "      const buttonEl =\n",
              "        document.querySelector('#df-ab3fef4b-89b3-4023-a01d-bba6a30d0dea button.colab-df-convert');\n",
              "      buttonEl.style.display =\n",
              "        google.colab.kernel.accessAllowed ? 'block' : 'none';\n",
              "\n",
              "      async function convertToInteractive(key) {\n",
              "        const element = document.querySelector('#df-ab3fef4b-89b3-4023-a01d-bba6a30d0dea');\n",
              "        const dataTable =\n",
              "          await google.colab.kernel.invokeFunction('convertToInteractive',\n",
              "                                                    [key], {});\n",
              "        if (!dataTable) return;\n",
              "\n",
              "        const docLinkHtml = 'Like what you see? Visit the ' +\n",
              "          '<a target=\"_blank\" href=https://colab.research.google.com/notebooks/data_table.ipynb>data table notebook</a>'\n",
              "          + ' to learn more about interactive tables.';\n",
              "        element.innerHTML = '';\n",
              "        dataTable['output_type'] = 'display_data';\n",
              "        await google.colab.output.renderOutput(dataTable, element);\n",
              "        const docLink = document.createElement('div');\n",
              "        docLink.innerHTML = docLinkHtml;\n",
              "        element.appendChild(docLink);\n",
              "      }\n",
              "    </script>\n",
              "  </div>\n",
              "\n",
              "\n",
              "<div id=\"df-2e889c53-6562-4786-90ef-bec4613932bf\">\n",
              "  <button class=\"colab-df-quickchart\" onclick=\"quickchart('df-2e889c53-6562-4786-90ef-bec4613932bf')\"\n",
              "            title=\"Suggest charts\"\n",
              "            style=\"display:none;\">\n",
              "\n",
              "<svg xmlns=\"http://www.w3.org/2000/svg\" height=\"24px\"viewBox=\"0 0 24 24\"\n",
              "     width=\"24px\">\n",
              "    <g>\n",
              "        <path d=\"M19 3H5c-1.1 0-2 .9-2 2v14c0 1.1.9 2 2 2h14c1.1 0 2-.9 2-2V5c0-1.1-.9-2-2-2zM9 17H7v-7h2v7zm4 0h-2V7h2v10zm4 0h-2v-4h2v4z\"/>\n",
              "    </g>\n",
              "</svg>\n",
              "  </button>\n",
              "\n",
              "<style>\n",
              "  .colab-df-quickchart {\n",
              "      --bg-color: #E8F0FE;\n",
              "      --fill-color: #1967D2;\n",
              "      --hover-bg-color: #E2EBFA;\n",
              "      --hover-fill-color: #174EA6;\n",
              "      --disabled-fill-color: #AAA;\n",
              "      --disabled-bg-color: #DDD;\n",
              "  }\n",
              "\n",
              "  [theme=dark] .colab-df-quickchart {\n",
              "      --bg-color: #3B4455;\n",
              "      --fill-color: #D2E3FC;\n",
              "      --hover-bg-color: #434B5C;\n",
              "      --hover-fill-color: #FFFFFF;\n",
              "      --disabled-bg-color: #3B4455;\n",
              "      --disabled-fill-color: #666;\n",
              "  }\n",
              "\n",
              "  .colab-df-quickchart {\n",
              "    background-color: var(--bg-color);\n",
              "    border: none;\n",
              "    border-radius: 50%;\n",
              "    cursor: pointer;\n",
              "    display: none;\n",
              "    fill: var(--fill-color);\n",
              "    height: 32px;\n",
              "    padding: 0;\n",
              "    width: 32px;\n",
              "  }\n",
              "\n",
              "  .colab-df-quickchart:hover {\n",
              "    background-color: var(--hover-bg-color);\n",
              "    box-shadow: 0 1px 2px rgba(60, 64, 67, 0.3), 0 1px 3px 1px rgba(60, 64, 67, 0.15);\n",
              "    fill: var(--button-hover-fill-color);\n",
              "  }\n",
              "\n",
              "  .colab-df-quickchart-complete:disabled,\n",
              "  .colab-df-quickchart-complete:disabled:hover {\n",
              "    background-color: var(--disabled-bg-color);\n",
              "    fill: var(--disabled-fill-color);\n",
              "    box-shadow: none;\n",
              "  }\n",
              "\n",
              "  .colab-df-spinner {\n",
              "    border: 2px solid var(--fill-color);\n",
              "    border-color: transparent;\n",
              "    border-bottom-color: var(--fill-color);\n",
              "    animation:\n",
              "      spin 1s steps(1) infinite;\n",
              "  }\n",
              "\n",
              "  @keyframes spin {\n",
              "    0% {\n",
              "      border-color: transparent;\n",
              "      border-bottom-color: var(--fill-color);\n",
              "      border-left-color: var(--fill-color);\n",
              "    }\n",
              "    20% {\n",
              "      border-color: transparent;\n",
              "      border-left-color: var(--fill-color);\n",
              "      border-top-color: var(--fill-color);\n",
              "    }\n",
              "    30% {\n",
              "      border-color: transparent;\n",
              "      border-left-color: var(--fill-color);\n",
              "      border-top-color: var(--fill-color);\n",
              "      border-right-color: var(--fill-color);\n",
              "    }\n",
              "    40% {\n",
              "      border-color: transparent;\n",
              "      border-right-color: var(--fill-color);\n",
              "      border-top-color: var(--fill-color);\n",
              "    }\n",
              "    60% {\n",
              "      border-color: transparent;\n",
              "      border-right-color: var(--fill-color);\n",
              "    }\n",
              "    80% {\n",
              "      border-color: transparent;\n",
              "      border-right-color: var(--fill-color);\n",
              "      border-bottom-color: var(--fill-color);\n",
              "    }\n",
              "    90% {\n",
              "      border-color: transparent;\n",
              "      border-bottom-color: var(--fill-color);\n",
              "    }\n",
              "  }\n",
              "</style>\n",
              "\n",
              "  <script>\n",
              "    async function quickchart(key) {\n",
              "      const quickchartButtonEl =\n",
              "        document.querySelector('#' + key + ' button');\n",
              "      quickchartButtonEl.disabled = true;  // To prevent multiple clicks.\n",
              "      quickchartButtonEl.classList.add('colab-df-spinner');\n",
              "      try {\n",
              "        const charts = await google.colab.kernel.invokeFunction(\n",
              "            'suggestCharts', [key], {});\n",
              "      } catch (error) {\n",
              "        console.error('Error during call to suggestCharts:', error);\n",
              "      }\n",
              "      quickchartButtonEl.classList.remove('colab-df-spinner');\n",
              "      quickchartButtonEl.classList.add('colab-df-quickchart-complete');\n",
              "    }\n",
              "    (() => {\n",
              "      let quickchartButtonEl =\n",
              "        document.querySelector('#df-2e889c53-6562-4786-90ef-bec4613932bf button');\n",
              "      quickchartButtonEl.style.display =\n",
              "        google.colab.kernel.accessAllowed ? 'block' : 'none';\n",
              "    })();\n",
              "  </script>\n",
              "</div>\n",
              "\n",
              "    </div>\n",
              "  </div>\n"
            ],
            "application/vnd.google.colaboratory.intrinsic+json": {
              "type": "dataframe",
              "variable_name": "df",
              "summary": "{\n  \"name\": \"df\",\n  \"rows\": 7920,\n  \"fields\": [\n    {\n      \"column\": \"id\",\n      \"properties\": {\n        \"dtype\": \"number\",\n        \"std\": 2286,\n        \"min\": 1,\n        \"max\": 7920,\n        \"num_unique_values\": 7920,\n        \"samples\": [\n          4897,\n          7540,\n          1678\n        ],\n        \"semantic_type\": \"\",\n        \"description\": \"\"\n      }\n    },\n    {\n      \"column\": \"label\",\n      \"properties\": {\n        \"dtype\": \"number\",\n        \"std\": 0,\n        \"min\": 0,\n        \"max\": 1,\n        \"num_unique_values\": 2,\n        \"samples\": [\n          1,\n          0\n        ],\n        \"semantic_type\": \"\",\n        \"description\": \"\"\n      }\n    },\n    {\n      \"column\": \"tweet\",\n      \"properties\": {\n        \"dtype\": \"string\",\n        \"num_unique_values\": 7918,\n        \"samples\": [\n          \"My face as dad gave me cards worth \\u00a320, 000.00 #gay #shopping #boy #macbook #apple #blonde #pickofthe http://instagr.am/p/Uo5Ue7H7A8/\",\n          \"@skullcandy your product is brutal, 1 headphone always stops working. Get it together #Sony ftw\"\n        ],\n        \"semantic_type\": \"\",\n        \"description\": \"\"\n      }\n    }\n  ]\n}"
            }
          },
          "metadata": {},
          "execution_count": 26
        }
      ]
    },
    {
      "cell_type": "markdown",
      "source": [
        "### Preprocessing"
      ],
      "metadata": {
        "id": "AdmtszqGH130"
      }
    },
    {
      "cell_type": "code",
      "source": [
        "def text_normalize(text):\n",
        "    text = re.sub(r\"^RT[\\s]+\", \"\", text)\n",
        "    text = re.sub(r\"https?:\\/\\/.*[\\r\\n]*\", \"\", text)\n",
        "    text = re.sub(r\"#\", \"\", text)\n",
        "    text = re.sub(r\"[^\\w\\s]\", \"\", text)\n",
        "\n",
        "    tokenizer = TweetTokenizer(\n",
        "        preserve_case=False,\n",
        "        strip_handles=True,\n",
        "        reduce_len=True\n",
        "    )\n",
        "    text_tokens = tokenizer.tokenize(text)\n",
        "\n",
        "    return text_tokens"
      ],
      "metadata": {
        "id": "din-cqbUH1HN"
      },
      "execution_count": 27,
      "outputs": []
    },
    {
      "cell_type": "markdown",
      "source": [
        "#### Build Word Density *Appearance*"
      ],
      "metadata": {
        "id": "rI1CZ8-VIyOq"
      }
    },
    {
      "cell_type": "code",
      "source": [
        "def get_freqs(df):\n",
        "    freqs = defaultdict(lambda: 0)\n",
        "\n",
        "    for idx, row in df.iterrows():\n",
        "        tweet = row[\"tweet\"]\n",
        "        label = row[\"label\"]\n",
        "\n",
        "\n",
        "        tokens =  text_normalize(tweet)\n",
        "        for token in tokens:\n",
        "            pair = (token, label)\n",
        "            freqs[pair] += 1\n",
        "\n",
        "    return freqs"
      ],
      "metadata": {
        "id": "fYuknJX-Ix9w"
      },
      "execution_count": 28,
      "outputs": []
    },
    {
      "cell_type": "markdown",
      "source": [
        "#### Create feature vector"
      ],
      "metadata": {
        "id": "NO6Ppe57Jbad"
      }
    },
    {
      "cell_type": "code",
      "source": [
        "def get_feature(text, freqs):\n",
        "    tokens = text_normalize(text)\n",
        "    X = np.zeros(3)\n",
        "    X[0] = 1\n",
        "\n",
        "    for token in tokens:\n",
        "        X[1] += freqs[(token,0)]\n",
        "        X[2] += freqs[(token,1)]\n",
        "\n",
        "    return X"
      ],
      "metadata": {
        "id": "2VPaJlpUJWDP"
      },
      "execution_count": 37,
      "outputs": []
    },
    {
      "cell_type": "markdown",
      "source": [
        "#### Extracing feature through all data\n"
      ],
      "metadata": {
        "id": "WMSIiV22KIcQ"
      }
    },
    {
      "cell_type": "code",
      "source": [
        "X = []\n",
        "y = []\n",
        "\n",
        "freqs = get_freqs(df)\n",
        "\n",
        "for idx, row in df.iterrows():\n",
        "    tweet = row[\"tweet\"]\n",
        "    label = row[\"label\"]\n",
        "\n",
        "    X.append(get_feature(tweet, freqs))\n",
        "    y.append(label)\n",
        "\n",
        "X = np.asarray(X)\n",
        "y = np.asarray(y)"
      ],
      "metadata": {
        "id": "P_624hjVKLvN"
      },
      "execution_count": 38,
      "outputs": []
    },
    {
      "cell_type": "markdown",
      "source": [
        "### Split train - validation - test set"
      ],
      "metadata": {
        "id": "bsB5ooRdS4m_"
      }
    },
    {
      "cell_type": "code",
      "source": [
        "val_size = 0.2\n",
        "test_size = 0.125\n",
        "random_state = 2\n",
        "is_shuffle = True\n",
        "\n",
        "X_train, X_val, y_train, y_val = train_test_split(\n",
        "    X, y,\n",
        "    test_size = val_size,\n",
        "    random_state = random_state,\n",
        "    shuffle = is_shuffle\n",
        ")\n",
        "\n",
        "X_train, X_test, y_train, y_test = train_test_split(\n",
        "    X_train, y_train,\n",
        "    test_size = test_size,\n",
        "    random_state = random_state,\n",
        "    shuffle = is_shuffle\n",
        ")"
      ],
      "metadata": {
        "id": "NV4I88EwKht3"
      },
      "execution_count": 39,
      "outputs": []
    },
    {
      "cell_type": "markdown",
      "source": [
        "### Normalizing Data"
      ],
      "metadata": {
        "id": "Ph9vZ-NJTMJ1"
      }
    },
    {
      "cell_type": "code",
      "source": [
        "normalizer = StandardScaler()\n",
        "X_train[:,1:] = normalizer.fit_transform(X_train[:,1:])\n",
        "X_val[:,1:] = normalizer.transform(X_val[:,1:])\n",
        "X_test[:,1:] = normalizer.transform(X_test[:,1:])"
      ],
      "metadata": {
        "id": "4XbXLjSMTOK9"
      },
      "execution_count": 40,
      "outputs": []
    },
    {
      "cell_type": "markdown",
      "source": [
        "### Functionality"
      ],
      "metadata": {
        "id": "jMHHyz4YTRp7"
      }
    },
    {
      "cell_type": "code",
      "source": [
        "def sigmoid(z):\n",
        "    return 1 / (1 + np.exp(-z))\n",
        "\n",
        "def compute_loss(y_hat, y):\n",
        "    y_hat = np.clip(y_hat,1e-7,1-1e-7)\n",
        "    return -(y * np.log(y_hat) + (1 - y) * np.log(1 - y_hat)).mean()\n",
        "\n",
        "def predict(X, theta):\n",
        "    linear_predict = X.dot(theta)\n",
        "    return sigmoid(linear_predict)\n",
        "\n",
        "def compute_gradient(X, y, y_hat):\n",
        "    return X.T.dot(y_hat - y) / y.size\n",
        "\n",
        "def update_theta(theta, gradient, learning_rate):\n",
        "    return theta - learning_rate * gradient\n",
        "\n",
        "def compute_accuracy(X, y, theta):\n",
        "    y_hat = predict(X, theta).round()\n",
        "    return (y_hat == y).mean()"
      ],
      "metadata": {
        "id": "A10VQSDSTRL4"
      },
      "execution_count": 41,
      "outputs": []
    },
    {
      "cell_type": "markdown",
      "source": [
        "### Weights and Hyper-parameter initialization"
      ],
      "metadata": {
        "id": "-Hfmj9OXTnO6"
      }
    },
    {
      "cell_type": "code",
      "source": [
        "lr = 0.01\n",
        "epochs = 200\n",
        "batch_size = 128\n",
        "\n",
        "np.random.seed(random_state)\n",
        "theta = np.random.uniform(size=X_train.shape[1])"
      ],
      "metadata": {
        "id": "-ck8KuppTmF0"
      },
      "execution_count": 42,
      "outputs": []
    },
    {
      "cell_type": "markdown",
      "source": [
        "### Model Trainning"
      ],
      "metadata": {
        "id": "Hy6ByiGkTzcI"
      }
    },
    {
      "cell_type": "code",
      "source": [
        "train_accs = []\n",
        "train_losses = []\n",
        "val_accs = []\n",
        "val_losses = []\n",
        "\n",
        "for epoch in range(epochs):\n",
        "    train_batch_accs = []\n",
        "    train_batch_losses = []\n",
        "    val_batch_accs = []\n",
        "    val_batch_losses = []\n",
        "\n",
        "    for i in range(0, X_train.shape[0], batch_size):\n",
        "        X_batch = X_train[i:i+batch_size]\n",
        "        y_batch = y_train[i:i+batch_size]\n",
        "\n",
        "        y_hat = predict(X_batch, theta)\n",
        "        loss = compute_loss(y_hat, y_batch)\n",
        "        gradient = compute_gradient(X_batch, y_batch, y_hat)\n",
        "        theta = update_theta(theta, gradient, learning_rate)\n",
        "\n",
        "        train_batch_losses.append(loss)\n",
        "        train_batch_accs.append(compute_accuracy(X_batch, y_batch, theta))\n",
        "\n",
        "        y_val_hat = predict(X_val, theta)\n",
        "        val_loss = compute_loss(y_val_hat, y_val)\n",
        "        val_batch_losses.append(val_loss)\n",
        "        val_batch_accs.append(compute_accuracy(X_val, y_val, theta))\n",
        "\n",
        "    train_batch_loss = sum(train_batch_losses) / len(train_batch_losses)\n",
        "    train_batch_acc = sum(train_batch_accs) / len(train_batch_accs)\n",
        "    val_batch_loss = sum(val_batch_losses) / len(val_batch_losses)\n",
        "    val_batch_acc = sum(val_batch_accs) / len(val_batch_accs)\n",
        "\n",
        "    train_losses.append(train_batch_loss)\n",
        "    train_accs.append(train_batch_acc)\n",
        "    val_losses.append(val_batch_loss)\n",
        "    val_accs.append(val_batch_acc)\n",
        "\n",
        "    print(f\"Epoch: {epoch + 1}/{epochs}\", end=\"\\t\")\n",
        "    print(f\"Train Loss: {train_batch_loss:.4f}\", end=\"\\t\")\n",
        "    print(f\"Val Loss: {val_batch_loss:.4f}\", end=\"\\t\\n\")"
      ],
      "metadata": {
        "colab": {
          "base_uri": "https://localhost:8080/"
        },
        "id": "OCcFApkzTyfN",
        "outputId": "a48d5ac6-fc48-4fe3-d75c-1e7990886c23"
      },
      "execution_count": 43,
      "outputs": [
        {
          "output_type": "stream",
          "name": "stdout",
          "text": [
            "Epoch: 1/200\tTrain Loss: 0.7067\tVal Loss: 0.7044\t\n",
            "Epoch: 2/200\tTrain Loss: 0.6611\tVal Loss: 0.6589\t\n",
            "Epoch: 3/200\tTrain Loss: 0.6239\tVal Loss: 0.6218\t\n",
            "Epoch: 4/200\tTrain Loss: 0.5936\tVal Loss: 0.5915\t\n",
            "Epoch: 5/200\tTrain Loss: 0.5686\tVal Loss: 0.5665\t\n",
            "Epoch: 6/200\tTrain Loss: 0.5479\tVal Loss: 0.5457\t\n",
            "Epoch: 7/200\tTrain Loss: 0.5307\tVal Loss: 0.5285\t\n",
            "Epoch: 8/200\tTrain Loss: 0.5163\tVal Loss: 0.5140\t\n",
            "Epoch: 9/200\tTrain Loss: 0.5041\tVal Loss: 0.5018\t\n",
            "Epoch: 10/200\tTrain Loss: 0.4938\tVal Loss: 0.4914\t\n",
            "Epoch: 11/200\tTrain Loss: 0.4850\tVal Loss: 0.4826\t\n",
            "Epoch: 12/200\tTrain Loss: 0.4774\tVal Loss: 0.4749\t\n",
            "Epoch: 13/200\tTrain Loss: 0.4709\tVal Loss: 0.4683\t\n",
            "Epoch: 14/200\tTrain Loss: 0.4652\tVal Loss: 0.4625\t\n",
            "Epoch: 15/200\tTrain Loss: 0.4601\tVal Loss: 0.4575\t\n",
            "Epoch: 16/200\tTrain Loss: 0.4557\tVal Loss: 0.4530\t\n",
            "Epoch: 17/200\tTrain Loss: 0.4518\tVal Loss: 0.4490\t\n",
            "Epoch: 18/200\tTrain Loss: 0.4483\tVal Loss: 0.4455\t\n",
            "Epoch: 19/200\tTrain Loss: 0.4452\tVal Loss: 0.4423\t\n",
            "Epoch: 20/200\tTrain Loss: 0.4423\tVal Loss: 0.4394\t\n",
            "Epoch: 21/200\tTrain Loss: 0.4397\tVal Loss: 0.4367\t\n",
            "Epoch: 22/200\tTrain Loss: 0.4374\tVal Loss: 0.4343\t\n",
            "Epoch: 23/200\tTrain Loss: 0.4352\tVal Loss: 0.4321\t\n",
            "Epoch: 24/200\tTrain Loss: 0.4332\tVal Loss: 0.4301\t\n",
            "Epoch: 25/200\tTrain Loss: 0.4314\tVal Loss: 0.4282\t\n",
            "Epoch: 26/200\tTrain Loss: 0.4297\tVal Loss: 0.4265\t\n",
            "Epoch: 27/200\tTrain Loss: 0.4281\tVal Loss: 0.4248\t\n",
            "Epoch: 28/200\tTrain Loss: 0.4266\tVal Loss: 0.4233\t\n",
            "Epoch: 29/200\tTrain Loss: 0.4252\tVal Loss: 0.4218\t\n",
            "Epoch: 30/200\tTrain Loss: 0.4239\tVal Loss: 0.4205\t\n",
            "Epoch: 31/200\tTrain Loss: 0.4226\tVal Loss: 0.4192\t\n",
            "Epoch: 32/200\tTrain Loss: 0.4214\tVal Loss: 0.4180\t\n",
            "Epoch: 33/200\tTrain Loss: 0.4203\tVal Loss: 0.4168\t\n",
            "Epoch: 34/200\tTrain Loss: 0.4192\tVal Loss: 0.4157\t\n",
            "Epoch: 35/200\tTrain Loss: 0.4182\tVal Loss: 0.4146\t\n",
            "Epoch: 36/200\tTrain Loss: 0.4172\tVal Loss: 0.4136\t\n",
            "Epoch: 37/200\tTrain Loss: 0.4163\tVal Loss: 0.4127\t\n",
            "Epoch: 38/200\tTrain Loss: 0.4154\tVal Loss: 0.4117\t\n",
            "Epoch: 39/200\tTrain Loss: 0.4145\tVal Loss: 0.4108\t\n",
            "Epoch: 40/200\tTrain Loss: 0.4136\tVal Loss: 0.4100\t\n",
            "Epoch: 41/200\tTrain Loss: 0.4128\tVal Loss: 0.4091\t\n",
            "Epoch: 42/200\tTrain Loss: 0.4121\tVal Loss: 0.4083\t\n",
            "Epoch: 43/200\tTrain Loss: 0.4113\tVal Loss: 0.4076\t\n",
            "Epoch: 44/200\tTrain Loss: 0.4106\tVal Loss: 0.4068\t\n",
            "Epoch: 45/200\tTrain Loss: 0.4099\tVal Loss: 0.4061\t\n",
            "Epoch: 46/200\tTrain Loss: 0.4092\tVal Loss: 0.4054\t\n",
            "Epoch: 47/200\tTrain Loss: 0.4085\tVal Loss: 0.4047\t\n",
            "Epoch: 48/200\tTrain Loss: 0.4079\tVal Loss: 0.4040\t\n",
            "Epoch: 49/200\tTrain Loss: 0.4073\tVal Loss: 0.4034\t\n",
            "Epoch: 50/200\tTrain Loss: 0.4067\tVal Loss: 0.4028\t\n",
            "Epoch: 51/200\tTrain Loss: 0.4061\tVal Loss: 0.4022\t\n",
            "Epoch: 52/200\tTrain Loss: 0.4055\tVal Loss: 0.4016\t\n",
            "Epoch: 53/200\tTrain Loss: 0.4050\tVal Loss: 0.4010\t\n",
            "Epoch: 54/200\tTrain Loss: 0.4044\tVal Loss: 0.4005\t\n",
            "Epoch: 55/200\tTrain Loss: 0.4039\tVal Loss: 0.3999\t\n",
            "Epoch: 56/200\tTrain Loss: 0.4034\tVal Loss: 0.3994\t\n",
            "Epoch: 57/200\tTrain Loss: 0.4029\tVal Loss: 0.3989\t\n",
            "Epoch: 58/200\tTrain Loss: 0.4024\tVal Loss: 0.3984\t\n",
            "Epoch: 59/200\tTrain Loss: 0.4019\tVal Loss: 0.3979\t\n",
            "Epoch: 60/200\tTrain Loss: 0.4015\tVal Loss: 0.3974\t\n",
            "Epoch: 61/200\tTrain Loss: 0.4010\tVal Loss: 0.3969\t\n",
            "Epoch: 62/200\tTrain Loss: 0.4006\tVal Loss: 0.3965\t\n",
            "Epoch: 63/200\tTrain Loss: 0.4001\tVal Loss: 0.3960\t\n",
            "Epoch: 64/200\tTrain Loss: 0.3997\tVal Loss: 0.3956\t\n",
            "Epoch: 65/200\tTrain Loss: 0.3993\tVal Loss: 0.3952\t\n",
            "Epoch: 66/200\tTrain Loss: 0.3989\tVal Loss: 0.3947\t\n",
            "Epoch: 67/200\tTrain Loss: 0.3985\tVal Loss: 0.3943\t\n",
            "Epoch: 68/200\tTrain Loss: 0.3981\tVal Loss: 0.3939\t\n",
            "Epoch: 69/200\tTrain Loss: 0.3977\tVal Loss: 0.3935\t\n",
            "Epoch: 70/200\tTrain Loss: 0.3974\tVal Loss: 0.3932\t\n",
            "Epoch: 71/200\tTrain Loss: 0.3970\tVal Loss: 0.3928\t\n",
            "Epoch: 72/200\tTrain Loss: 0.3967\tVal Loss: 0.3924\t\n",
            "Epoch: 73/200\tTrain Loss: 0.3963\tVal Loss: 0.3921\t\n",
            "Epoch: 74/200\tTrain Loss: 0.3960\tVal Loss: 0.3917\t\n",
            "Epoch: 75/200\tTrain Loss: 0.3957\tVal Loss: 0.3914\t\n",
            "Epoch: 76/200\tTrain Loss: 0.3953\tVal Loss: 0.3910\t\n",
            "Epoch: 77/200\tTrain Loss: 0.3950\tVal Loss: 0.3907\t\n",
            "Epoch: 78/200\tTrain Loss: 0.3947\tVal Loss: 0.3904\t\n",
            "Epoch: 79/200\tTrain Loss: 0.3944\tVal Loss: 0.3901\t\n",
            "Epoch: 80/200\tTrain Loss: 0.3941\tVal Loss: 0.3898\t\n",
            "Epoch: 81/200\tTrain Loss: 0.3938\tVal Loss: 0.3895\t\n",
            "Epoch: 82/200\tTrain Loss: 0.3936\tVal Loss: 0.3892\t\n",
            "Epoch: 83/200\tTrain Loss: 0.3933\tVal Loss: 0.3889\t\n",
            "Epoch: 84/200\tTrain Loss: 0.3930\tVal Loss: 0.3886\t\n",
            "Epoch: 85/200\tTrain Loss: 0.3927\tVal Loss: 0.3883\t\n",
            "Epoch: 86/200\tTrain Loss: 0.3925\tVal Loss: 0.3880\t\n",
            "Epoch: 87/200\tTrain Loss: 0.3922\tVal Loss: 0.3878\t\n",
            "Epoch: 88/200\tTrain Loss: 0.3920\tVal Loss: 0.3875\t\n",
            "Epoch: 89/200\tTrain Loss: 0.3917\tVal Loss: 0.3873\t\n",
            "Epoch: 90/200\tTrain Loss: 0.3915\tVal Loss: 0.3870\t\n",
            "Epoch: 91/200\tTrain Loss: 0.3912\tVal Loss: 0.3868\t\n",
            "Epoch: 92/200\tTrain Loss: 0.3910\tVal Loss: 0.3865\t\n",
            "Epoch: 93/200\tTrain Loss: 0.3908\tVal Loss: 0.3863\t\n",
            "Epoch: 94/200\tTrain Loss: 0.3906\tVal Loss: 0.3860\t\n",
            "Epoch: 95/200\tTrain Loss: 0.3903\tVal Loss: 0.3858\t\n",
            "Epoch: 96/200\tTrain Loss: 0.3901\tVal Loss: 0.3856\t\n",
            "Epoch: 97/200\tTrain Loss: 0.3899\tVal Loss: 0.3854\t\n",
            "Epoch: 98/200\tTrain Loss: 0.3897\tVal Loss: 0.3851\t\n",
            "Epoch: 99/200\tTrain Loss: 0.3895\tVal Loss: 0.3849\t\n",
            "Epoch: 100/200\tTrain Loss: 0.3893\tVal Loss: 0.3847\t\n",
            "Epoch: 101/200\tTrain Loss: 0.3891\tVal Loss: 0.3845\t\n",
            "Epoch: 102/200\tTrain Loss: 0.3889\tVal Loss: 0.3843\t\n",
            "Epoch: 103/200\tTrain Loss: 0.3887\tVal Loss: 0.3841\t\n",
            "Epoch: 104/200\tTrain Loss: 0.3886\tVal Loss: 0.3839\t\n",
            "Epoch: 105/200\tTrain Loss: 0.3884\tVal Loss: 0.3837\t\n",
            "Epoch: 106/200\tTrain Loss: 0.3882\tVal Loss: 0.3835\t\n",
            "Epoch: 107/200\tTrain Loss: 0.3880\tVal Loss: 0.3833\t\n",
            "Epoch: 108/200\tTrain Loss: 0.3879\tVal Loss: 0.3832\t\n",
            "Epoch: 109/200\tTrain Loss: 0.3877\tVal Loss: 0.3830\t\n",
            "Epoch: 110/200\tTrain Loss: 0.3875\tVal Loss: 0.3828\t\n",
            "Epoch: 111/200\tTrain Loss: 0.3874\tVal Loss: 0.3826\t\n",
            "Epoch: 112/200\tTrain Loss: 0.3872\tVal Loss: 0.3825\t\n",
            "Epoch: 113/200\tTrain Loss: 0.3871\tVal Loss: 0.3823\t\n",
            "Epoch: 114/200\tTrain Loss: 0.3869\tVal Loss: 0.3821\t\n",
            "Epoch: 115/200\tTrain Loss: 0.3868\tVal Loss: 0.3820\t\n",
            "Epoch: 116/200\tTrain Loss: 0.3866\tVal Loss: 0.3818\t\n",
            "Epoch: 117/200\tTrain Loss: 0.3865\tVal Loss: 0.3817\t\n",
            "Epoch: 118/200\tTrain Loss: 0.3863\tVal Loss: 0.3815\t\n",
            "Epoch: 119/200\tTrain Loss: 0.3862\tVal Loss: 0.3814\t\n",
            "Epoch: 120/200\tTrain Loss: 0.3860\tVal Loss: 0.3812\t\n",
            "Epoch: 121/200\tTrain Loss: 0.3859\tVal Loss: 0.3811\t\n",
            "Epoch: 122/200\tTrain Loss: 0.3858\tVal Loss: 0.3809\t\n",
            "Epoch: 123/200\tTrain Loss: 0.3856\tVal Loss: 0.3808\t\n",
            "Epoch: 124/200\tTrain Loss: 0.3855\tVal Loss: 0.3806\t\n",
            "Epoch: 125/200\tTrain Loss: 0.3854\tVal Loss: 0.3805\t\n",
            "Epoch: 126/200\tTrain Loss: 0.3853\tVal Loss: 0.3804\t\n",
            "Epoch: 127/200\tTrain Loss: 0.3851\tVal Loss: 0.3802\t\n",
            "Epoch: 128/200\tTrain Loss: 0.3850\tVal Loss: 0.3801\t\n",
            "Epoch: 129/200\tTrain Loss: 0.3849\tVal Loss: 0.3800\t\n",
            "Epoch: 130/200\tTrain Loss: 0.3848\tVal Loss: 0.3798\t\n",
            "Epoch: 131/200\tTrain Loss: 0.3847\tVal Loss: 0.3797\t\n",
            "Epoch: 132/200\tTrain Loss: 0.3846\tVal Loss: 0.3796\t\n",
            "Epoch: 133/200\tTrain Loss: 0.3845\tVal Loss: 0.3795\t\n",
            "Epoch: 134/200\tTrain Loss: 0.3843\tVal Loss: 0.3794\t\n",
            "Epoch: 135/200\tTrain Loss: 0.3842\tVal Loss: 0.3792\t\n",
            "Epoch: 136/200\tTrain Loss: 0.3841\tVal Loss: 0.3791\t\n",
            "Epoch: 137/200\tTrain Loss: 0.3840\tVal Loss: 0.3790\t\n",
            "Epoch: 138/200\tTrain Loss: 0.3839\tVal Loss: 0.3789\t\n",
            "Epoch: 139/200\tTrain Loss: 0.3838\tVal Loss: 0.3788\t\n",
            "Epoch: 140/200\tTrain Loss: 0.3837\tVal Loss: 0.3787\t\n",
            "Epoch: 141/200\tTrain Loss: 0.3836\tVal Loss: 0.3786\t\n",
            "Epoch: 142/200\tTrain Loss: 0.3835\tVal Loss: 0.3785\t\n",
            "Epoch: 143/200\tTrain Loss: 0.3835\tVal Loss: 0.3784\t\n",
            "Epoch: 144/200\tTrain Loss: 0.3834\tVal Loss: 0.3783\t\n",
            "Epoch: 145/200\tTrain Loss: 0.3833\tVal Loss: 0.3782\t\n",
            "Epoch: 146/200\tTrain Loss: 0.3832\tVal Loss: 0.3781\t\n",
            "Epoch: 147/200\tTrain Loss: 0.3831\tVal Loss: 0.3780\t\n",
            "Epoch: 148/200\tTrain Loss: 0.3830\tVal Loss: 0.3779\t\n",
            "Epoch: 149/200\tTrain Loss: 0.3829\tVal Loss: 0.3778\t\n",
            "Epoch: 150/200\tTrain Loss: 0.3828\tVal Loss: 0.3777\t\n",
            "Epoch: 151/200\tTrain Loss: 0.3828\tVal Loss: 0.3776\t\n",
            "Epoch: 152/200\tTrain Loss: 0.3827\tVal Loss: 0.3775\t\n",
            "Epoch: 153/200\tTrain Loss: 0.3826\tVal Loss: 0.3774\t\n",
            "Epoch: 154/200\tTrain Loss: 0.3825\tVal Loss: 0.3773\t\n",
            "Epoch: 155/200\tTrain Loss: 0.3824\tVal Loss: 0.3772\t\n",
            "Epoch: 156/200\tTrain Loss: 0.3824\tVal Loss: 0.3772\t\n",
            "Epoch: 157/200\tTrain Loss: 0.3823\tVal Loss: 0.3771\t\n",
            "Epoch: 158/200\tTrain Loss: 0.3822\tVal Loss: 0.3770\t\n",
            "Epoch: 159/200\tTrain Loss: 0.3821\tVal Loss: 0.3769\t\n",
            "Epoch: 160/200\tTrain Loss: 0.3821\tVal Loss: 0.3768\t\n",
            "Epoch: 161/200\tTrain Loss: 0.3820\tVal Loss: 0.3767\t\n",
            "Epoch: 162/200\tTrain Loss: 0.3819\tVal Loss: 0.3767\t\n",
            "Epoch: 163/200\tTrain Loss: 0.3819\tVal Loss: 0.3766\t\n",
            "Epoch: 164/200\tTrain Loss: 0.3818\tVal Loss: 0.3765\t\n",
            "Epoch: 165/200\tTrain Loss: 0.3817\tVal Loss: 0.3764\t\n",
            "Epoch: 166/200\tTrain Loss: 0.3817\tVal Loss: 0.3764\t\n",
            "Epoch: 167/200\tTrain Loss: 0.3816\tVal Loss: 0.3763\t\n",
            "Epoch: 168/200\tTrain Loss: 0.3815\tVal Loss: 0.3762\t\n",
            "Epoch: 169/200\tTrain Loss: 0.3815\tVal Loss: 0.3762\t\n",
            "Epoch: 170/200\tTrain Loss: 0.3814\tVal Loss: 0.3761\t\n",
            "Epoch: 171/200\tTrain Loss: 0.3814\tVal Loss: 0.3760\t\n",
            "Epoch: 172/200\tTrain Loss: 0.3813\tVal Loss: 0.3759\t\n",
            "Epoch: 173/200\tTrain Loss: 0.3812\tVal Loss: 0.3759\t\n",
            "Epoch: 174/200\tTrain Loss: 0.3812\tVal Loss: 0.3758\t\n",
            "Epoch: 175/200\tTrain Loss: 0.3811\tVal Loss: 0.3757\t\n",
            "Epoch: 176/200\tTrain Loss: 0.3811\tVal Loss: 0.3757\t\n",
            "Epoch: 177/200\tTrain Loss: 0.3810\tVal Loss: 0.3756\t\n",
            "Epoch: 178/200\tTrain Loss: 0.3810\tVal Loss: 0.3756\t\n",
            "Epoch: 179/200\tTrain Loss: 0.3809\tVal Loss: 0.3755\t\n",
            "Epoch: 180/200\tTrain Loss: 0.3809\tVal Loss: 0.3754\t\n",
            "Epoch: 181/200\tTrain Loss: 0.3808\tVal Loss: 0.3754\t\n",
            "Epoch: 182/200\tTrain Loss: 0.3808\tVal Loss: 0.3753\t\n",
            "Epoch: 183/200\tTrain Loss: 0.3807\tVal Loss: 0.3753\t\n",
            "Epoch: 184/200\tTrain Loss: 0.3807\tVal Loss: 0.3752\t\n",
            "Epoch: 185/200\tTrain Loss: 0.3806\tVal Loss: 0.3751\t\n",
            "Epoch: 186/200\tTrain Loss: 0.3806\tVal Loss: 0.3751\t\n",
            "Epoch: 187/200\tTrain Loss: 0.3805\tVal Loss: 0.3750\t\n",
            "Epoch: 188/200\tTrain Loss: 0.3805\tVal Loss: 0.3750\t\n",
            "Epoch: 189/200\tTrain Loss: 0.3804\tVal Loss: 0.3749\t\n",
            "Epoch: 190/200\tTrain Loss: 0.3804\tVal Loss: 0.3749\t\n",
            "Epoch: 191/200\tTrain Loss: 0.3803\tVal Loss: 0.3748\t\n",
            "Epoch: 192/200\tTrain Loss: 0.3803\tVal Loss: 0.3748\t\n",
            "Epoch: 193/200\tTrain Loss: 0.3803\tVal Loss: 0.3747\t\n",
            "Epoch: 194/200\tTrain Loss: 0.3802\tVal Loss: 0.3747\t\n",
            "Epoch: 195/200\tTrain Loss: 0.3802\tVal Loss: 0.3746\t\n",
            "Epoch: 196/200\tTrain Loss: 0.3801\tVal Loss: 0.3746\t\n",
            "Epoch: 197/200\tTrain Loss: 0.3801\tVal Loss: 0.3745\t\n",
            "Epoch: 198/200\tTrain Loss: 0.3800\tVal Loss: 0.3745\t\n",
            "Epoch: 199/200\tTrain Loss: 0.3800\tVal Loss: 0.3744\t\n",
            "Epoch: 200/200\tTrain Loss: 0.3800\tVal Loss: 0.3744\t\n"
          ]
        }
      ]
    },
    {
      "cell_type": "markdown",
      "source": [
        "### Evaluate Model"
      ],
      "metadata": {
        "id": "b5mIy1e_UGi6"
      }
    },
    {
      "cell_type": "code",
      "source": [
        "fig, ax = plt.subplots(2, 2, figsize=(12, 10))\n",
        "ax[0, 0].plot(train_losses)\n",
        "ax[0, 0].set(xlabel=\"Epoch\", ylabel=\"Loss\")\n",
        "ax[0, 0].set_title(\"Training Loss\")\n",
        "\n",
        "ax[0, 1].plot(val_losses, \"orange\")\n",
        "ax[0, 1].set(xlabel=\"Epoch\", ylabel=\"Loss\")\n",
        "ax[0, 1].set_title(\"Validation Loss\")\n",
        "\n",
        "ax[1, 0].plot(train_accs)\n",
        "ax[1, 0].set(xlabel=\"Epoch\", ylabel=\"Accuracy\")\n",
        "ax[1, 0].set_title(\"Training Accuracy\")\n",
        "\n",
        "ax[1, 1].plot(val_accs, \"orange\")\n",
        "ax[1, 1].set(xlabel=\"Epoch\", ylabel=\"Accuracy\")\n",
        "ax[1, 1].set_title(\"Validation Accuracy\")"
      ],
      "metadata": {
        "colab": {
          "base_uri": "https://localhost:8080/",
          "height": 567
        },
        "id": "iyonA4EDUPy3",
        "outputId": "8bb53bda-3720-4134-bd67-ec0f09a25603"
      },
      "execution_count": 44,
      "outputs": [
        {
          "output_type": "execute_result",
          "data": {
            "text/plain": [
              "Text(0.5, 1.0, 'Validation Accuracy')"
            ]
          },
          "metadata": {},
          "execution_count": 44
        },
        {
          "output_type": "display_data",
          "data": {
            "text/plain": [
              "<Figure size 1200x1000 with 4 Axes>"
            ],
            "image/png": "[encoded data removed]"
          },
          "metadata": {}
        }
      ]
    },
    {
      "cell_type": "code",
      "source": [
        "val_set_acc = compute_accuracy(X_val, y_val, theta)\n",
        "test_set_acc = compute_accuracy(X_test, y_test, theta)\n",
        "print(\"Evaluation on validation and test set:\")\n",
        "print(f\"Validation Accuracy: {val_set_acc:.4f}\")\n",
        "print(f\"Test Accuracy: {test_set_acc:.4f}\")"
      ],
      "metadata": {
        "colab": {
          "base_uri": "https://localhost:8080/"
        },
        "id": "DP7wN9OxUQoV",
        "outputId": "50f12c07-e1ec-4b1a-b14e-f365142fccc6"
      },
      "execution_count": 45,
      "outputs": [
        {
          "output_type": "stream",
          "name": "stdout",
          "text": [
            "Evaluation on validation and test set:\n",
            "Validation Accuracy: 0.8220\n",
            "Test Accuracy: 0.8434\n"
          ]
        }
      ]
    },
    {
      "cell_type": "markdown",
      "source": [
        "# Question"
      ],
      "metadata": {
        "id": "kzA4KlyXUqBz"
      }
    },
    {
      "cell_type": "markdown",
      "source": [
        "1. (a)\n",
        "2. (a)\n",
        "3. (b)\n",
        "4. (c)\n",
        "5. (b)\n",
        "6. (b)\n",
        "7. (a)\n",
        "8. (b)\n",
        "9. (b)\n",
        "10. (a)\n",
        "11. (a)\n",
        "12. (d)\n",
        "13. (c)\n",
        "14. (a)\n",
        "15. (a)\n",
        "16. (c)\n",
        "17. (d)\n",
        "18. (a)"
      ],
      "metadata": {
        "id": "WzQr3vmqUwcX"
      }
    }
  ]
}