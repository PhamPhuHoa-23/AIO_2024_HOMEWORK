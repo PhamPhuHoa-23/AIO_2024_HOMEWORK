{
  "nbformat": 4,
  "nbformat_minor": 0,
  "metadata": {
    "colab": {
      "provenance": [],
      "machine_shape": "hm",
      "gpuType": "T4"
    },
    "kernelspec": {
      "name": "python3",
      "display_name": "Python 3"
    },
    "language_info": {
      "name": "python"
    },
    "accelerator": "GPU"
  },
  "cells": [
    {
      "cell_type": "markdown",
      "source": [
        "# Programming"
      ],
      "metadata": {
        "id": "D_rZoFb8InXE"
      }
    },
    {
      "cell_type": "markdown",
      "source": [
        "## Credit Card Fraud Detection"
      ],
      "metadata": {
        "id": "QhNWshK-IrZg"
      }
    },
    {
      "cell_type": "markdown",
      "source": [
        "### Installing Dataset"
      ],
      "metadata": {
        "id": "Caku4DUNIvDb"
      }
    },
    {
      "cell_type": "code",
      "execution_count": 4,
      "metadata": {
        "colab": {
          "base_uri": "https://localhost:8080/"
        },
        "id": "duY-ifK1IZs_",
        "outputId": "f22136ab-7368-4c3d-bf1d-46c1dc879ae2"
      },
      "outputs": [
        {
          "output_type": "stream",
          "name": "stdout",
          "text": [
            "Downloading...\n",
            "From (original): https://drive.google.com/uc?id=1NwikiUU_Yzom-l4Kwy24Cn-bG46gMmG4\n",
            "From (redirected): https://drive.google.com/uc?id=1NwikiUU_Yzom-l4Kwy24Cn-bG46gMmG4&confirm=t&uuid=322a0700-cd73-4875-8ed0-b24ab8723ab5\n",
            "To: /content/creditcard.csv\n",
            "100% 151M/151M [00:03<00:00, 47.1MB/s]\n"
          ]
        }
      ],
      "source": [
        "!gdown 1NwikiUU_Yzom-l4Kwy24Cn-bG46gMmG4"
      ]
    },
    {
      "cell_type": "markdown",
      "source": [
        "### Import Libraries"
      ],
      "metadata": {
        "id": "6yq2BmlkJBS9"
      }
    },
    {
      "cell_type": "code",
      "source": [
        "import numpy as np;\n",
        "import pandas as pd\n",
        "import matplotlib.pyplot as plt\n",
        "\n",
        "from sklearn.model_selection import train_test_split\n",
        "from sklearn.preprocessing import StandardScaler"
      ],
      "metadata": {
        "id": "qUMkRZ0TI8Zc"
      },
      "execution_count": 5,
      "outputs": []
    },
    {
      "cell_type": "markdown",
      "source": [
        "### Read Dataset"
      ],
      "metadata": {
        "id": "UzTvORswJy1g"
      }
    },
    {
      "cell_type": "code",
      "source": [
        "dataset_path = \"creditcard.csv\"\n",
        "df = pd.read_csv(dataset_path)"
      ],
      "metadata": {
        "id": "85YTXjsCJQa5"
      },
      "execution_count": 6,
      "outputs": []
    },
    {
      "cell_type": "code",
      "source": [
        "df.head()"
      ],
      "metadata": {
        "colab": {
          "base_uri": "https://localhost:8080/",
          "height": 255
        },
        "id": "esN6AOl3J7PF",
        "outputId": "04f334f1-1454-4fc0-e174-d56d9bbf185f"
      },
      "execution_count": 7,
      "outputs": [
        {
          "output_type": "execute_result",
          "data": {
            "text/plain": [
              "   Time        V1        V2        V3        V4        V5        V6        V7  \\\n",
              "0   0.0 -1.359807 -0.072781  2.536347  1.378155 -0.338321  0.462388  0.239599   \n",
              "1   0.0  1.191857  0.266151  0.166480  0.448154  0.060018 -0.082361 -0.078803   \n",
              "2   1.0 -1.358354 -1.340163  1.773209  0.379780 -0.503198  1.800499  0.791461   \n",
              "3   1.0 -0.966272 -0.185226  1.792993 -0.863291 -0.010309  1.247203  0.237609   \n",
              "4   2.0 -1.158233  0.877737  1.548718  0.403034 -0.407193  0.095921  0.592941   \n",
              "\n",
              "         V8        V9  ...       V21       V22       V23       V24       V25  \\\n",
              "0  0.098698  0.363787  ... -0.018307  0.277838 -0.110474  0.066928  0.128539   \n",
              "1  0.085102 -0.255425  ... -0.225775 -0.638672  0.101288 -0.339846  0.167170   \n",
              "2  0.247676 -1.514654  ...  0.247998  0.771679  0.909412 -0.689281 -0.327642   \n",
              "3  0.377436 -1.387024  ... -0.108300  0.005274 -0.190321 -1.175575  0.647376   \n",
              "4 -0.270533  0.817739  ... -0.009431  0.798278 -0.137458  0.141267 -0.206010   \n",
              "\n",
              "        V26       V27       V28  Amount  Class  \n",
              "0 -0.189115  0.133558 -0.021053  149.62      0  \n",
              "1  0.125895 -0.008983  0.014724    2.69      0  \n",
              "2 -0.139097 -0.055353 -0.059752  378.66      0  \n",
              "3 -0.221929  0.062723  0.061458  123.50      0  \n",
              "4  0.502292  0.219422  0.215153   69.99      0  \n",
              "\n",
              "[5 rows x 31 columns]"
            ],
            "text/html": [
              "\n",
              "  <div id=\"df-4fa1c1f1-d737-48c3-b7d9-9ca299154226\" class=\"colab-df-container\">\n",
              "    <div>\n",
              "<style scoped>\n",
              "    .dataframe tbody tr th:only-of-type {\n",
              "        vertical-align: middle;\n",
              "    }\n",
              "\n",
              "    .dataframe tbody tr th {\n",
              "        vertical-align: top;\n",
              "    }\n",
              "\n",
              "    .dataframe thead th {\n",
              "        text-align: right;\n",
              "    }\n",
              "</style>\n",
              "<table border=\"1\" class=\"dataframe\">\n",
              "  <thead>\n",
              "    <tr style=\"text-align: right;\">\n",
              "      <th></th>\n",
              "      <th>Time</th>\n",
              "      <th>V1</th>\n",
              "      <th>V2</th>\n",
              "      <th>V3</th>\n",
              "      <th>V4</th>\n",
              "      <th>V5</th>\n",
              "      <th>V6</th>\n",
              "      <th>V7</th>\n",
              "      <th>V8</th>\n",
              "      <th>V9</th>\n",
              "      <th>...</th>\n",
              "      <th>V21</th>\n",
              "      <th>V22</th>\n",
              "      <th>V23</th>\n",
              "      <th>V24</th>\n",
              "      <th>V25</th>\n",
              "      <th>V26</th>\n",
              "      <th>V27</th>\n",
              "      <th>V28</th>\n",
              "      <th>Amount</th>\n",
              "      <th>Class</th>\n",
              "    </tr>\n",
              "  </thead>\n",
              "  <tbody>\n",
              "    <tr>\n",
              "      <th>0</th>\n",
              "      <td>0.0</td>\n",
              "      <td>-1.359807</td>\n",
              "      <td>-0.072781</td>\n",
              "      <td>2.536347</td>\n",
              "      <td>1.378155</td>\n",
              "      <td>-0.338321</td>\n",
              "      <td>0.462388</td>\n",
              "      <td>0.239599</td>\n",
              "      <td>0.098698</td>\n",
              "      <td>0.363787</td>\n",
              "      <td>...</td>\n",
              "      <td>-0.018307</td>\n",
              "      <td>0.277838</td>\n",
              "      <td>-0.110474</td>\n",
              "      <td>0.066928</td>\n",
              "      <td>0.128539</td>\n",
              "      <td>-0.189115</td>\n",
              "      <td>0.133558</td>\n",
              "      <td>-0.021053</td>\n",
              "      <td>149.62</td>\n",
              "      <td>0</td>\n",
              "    </tr>\n",
              "    <tr>\n",
              "      <th>1</th>\n",
              "      <td>0.0</td>\n",
              "      <td>1.191857</td>\n",
              "      <td>0.266151</td>\n",
              "      <td>0.166480</td>\n",
              "      <td>0.448154</td>\n",
              "      <td>0.060018</td>\n",
              "      <td>-0.082361</td>\n",
              "      <td>-0.078803</td>\n",
              "      <td>0.085102</td>\n",
              "      <td>-0.255425</td>\n",
              "      <td>...</td>\n",
              "      <td>-0.225775</td>\n",
              "      <td>-0.638672</td>\n",
              "      <td>0.101288</td>\n",
              "      <td>-0.339846</td>\n",
              "      <td>0.167170</td>\n",
              "      <td>0.125895</td>\n",
              "      <td>-0.008983</td>\n",
              "      <td>0.014724</td>\n",
              "      <td>2.69</td>\n",
              "      <td>0</td>\n",
              "    </tr>\n",
              "    <tr>\n",
              "      <th>2</th>\n",
              "      <td>1.0</td>\n",
              "      <td>-1.358354</td>\n",
              "      <td>-1.340163</td>\n",
              "      <td>1.773209</td>\n",
              "      <td>0.379780</td>\n",
              "      <td>-0.503198</td>\n",
              "      <td>1.800499</td>\n",
              "      <td>0.791461</td>\n",
              "      <td>0.247676</td>\n",
              "      <td>-1.514654</td>\n",
              "      <td>...</td>\n",
              "      <td>0.247998</td>\n",
              "      <td>0.771679</td>\n",
              "      <td>0.909412</td>\n",
              "      <td>-0.689281</td>\n",
              "      <td>-0.327642</td>\n",
              "      <td>-0.139097</td>\n",
              "      <td>-0.055353</td>\n",
              "      <td>-0.059752</td>\n",
              "      <td>378.66</td>\n",
              "      <td>0</td>\n",
              "    </tr>\n",
              "    <tr>\n",
              "      <th>3</th>\n",
              "      <td>1.0</td>\n",
              "      <td>-0.966272</td>\n",
              "      <td>-0.185226</td>\n",
              "      <td>1.792993</td>\n",
              "      <td>-0.863291</td>\n",
              "      <td>-0.010309</td>\n",
              "      <td>1.247203</td>\n",
              "      <td>0.237609</td>\n",
              "      <td>0.377436</td>\n",
              "      <td>-1.387024</td>\n",
              "      <td>...</td>\n",
              "      <td>-0.108300</td>\n",
              "      <td>0.005274</td>\n",
              "      <td>-0.190321</td>\n",
              "      <td>-1.175575</td>\n",
              "      <td>0.647376</td>\n",
              "      <td>-0.221929</td>\n",
              "      <td>0.062723</td>\n",
              "      <td>0.061458</td>\n",
              "      <td>123.50</td>\n",
              "      <td>0</td>\n",
              "    </tr>\n",
              "    <tr>\n",
              "      <th>4</th>\n",
              "      <td>2.0</td>\n",
              "      <td>-1.158233</td>\n",
              "      <td>0.877737</td>\n",
              "      <td>1.548718</td>\n",
              "      <td>0.403034</td>\n",
              "      <td>-0.407193</td>\n",
              "      <td>0.095921</td>\n",
              "      <td>0.592941</td>\n",
              "      <td>-0.270533</td>\n",
              "      <td>0.817739</td>\n",
              "      <td>...</td>\n",
              "      <td>-0.009431</td>\n",
              "      <td>0.798278</td>\n",
              "      <td>-0.137458</td>\n",
              "      <td>0.141267</td>\n",
              "      <td>-0.206010</td>\n",
              "      <td>0.502292</td>\n",
              "      <td>0.219422</td>\n",
              "      <td>0.215153</td>\n",
              "      <td>69.99</td>\n",
              "      <td>0</td>\n",
              "    </tr>\n",
              "  </tbody>\n",
              "</table>\n",
              "<p>5 rows × 31 columns</p>\n",
              "</div>\n",
              "    <div class=\"colab-df-buttons\">\n",
              "\n",
              "  <div class=\"colab-df-container\">\n",
              "    <button class=\"colab-df-convert\" onclick=\"convertToInteractive('df-4fa1c1f1-d737-48c3-b7d9-9ca299154226')\"\n",
              "            title=\"Convert this dataframe to an interactive table.\"\n",
              "            style=\"display:none;\">\n",
              "\n",
              "  <svg xmlns=\"http://www.w3.org/2000/svg\" height=\"24px\" viewBox=\"0 -960 960 960\">\n",
              "    <path d=\"M120-120v-720h720v720H120Zm60-500h600v-160H180v160Zm220 220h160v-160H400v160Zm0 220h160v-160H400v160ZM180-400h160v-160H180v160Zm440 0h160v-160H620v160ZM180-180h160v-160H180v160Zm440 0h160v-160H620v160Z\"/>\n",
              "  </svg>\n",
              "    </button>\n",
              "\n",
              "  <style>\n",
              "    .colab-df-container {\n",
              "      display:flex;\n",
              "      gap: 12px;\n",
              "    }\n",
              "\n",
              "    .colab-df-convert {\n",
              "      background-color: #E8F0FE;\n",
              "      border: none;\n",
              "      border-radius: 50%;\n",
              "      cursor: pointer;\n",
              "      display: none;\n",
              "      fill: #1967D2;\n",
              "      height: 32px;\n",
              "      padding: 0 0 0 0;\n",
              "      width: 32px;\n",
              "    }\n",
              "\n",
              "    .colab-df-convert:hover {\n",
              "      background-color: #E2EBFA;\n",
              "      box-shadow: 0px 1px 2px rgba(60, 64, 67, 0.3), 0px 1px 3px 1px rgba(60, 64, 67, 0.15);\n",
              "      fill: #174EA6;\n",
              "    }\n",
              "\n",
              "    .colab-df-buttons div {\n",
              "      margin-bottom: 4px;\n",
              "    }\n",
              "\n",
              "    [theme=dark] .colab-df-convert {\n",
              "      background-color: #3B4455;\n",
              "      fill: #D2E3FC;\n",
              "    }\n",
              "\n",
              "    [theme=dark] .colab-df-convert:hover {\n",
              "      background-color: #434B5C;\n",
              "      box-shadow: 0px 1px 3px 1px rgba(0, 0, 0, 0.15);\n",
              "      filter: drop-shadow(0px 1px 2px rgba(0, 0, 0, 0.3));\n",
              "      fill: #FFFFFF;\n",
              "    }\n",
              "  </style>\n",
              "\n",
              "    <script>\n",
              "      const buttonEl =\n",
              "        document.querySelector('#df-4fa1c1f1-d737-48c3-b7d9-9ca299154226 button.colab-df-convert');\n",
              "      buttonEl.style.display =\n",
              "        google.colab.kernel.accessAllowed ? 'block' : 'none';\n",
              "\n",
              "      async function convertToInteractive(key) {\n",
              "        const element = document.querySelector('#df-4fa1c1f1-d737-48c3-b7d9-9ca299154226');\n",
              "        const dataTable =\n",
              "          await google.colab.kernel.invokeFunction('convertToInteractive',\n",
              "                                                    [key], {});\n",
              "        if (!dataTable) return;\n",
              "\n",
              "        const docLinkHtml = 'Like what you see? Visit the ' +\n",
              "          '<a target=\"_blank\" href=https://colab.research.google.com/notebooks/data_table.ipynb>data table notebook</a>'\n",
              "          + ' to learn more about interactive tables.';\n",
              "        element.innerHTML = '';\n",
              "        dataTable['output_type'] = 'display_data';\n",
              "        await google.colab.output.renderOutput(dataTable, element);\n",
              "        const docLink = document.createElement('div');\n",
              "        docLink.innerHTML = docLinkHtml;\n",
              "        element.appendChild(docLink);\n",
              "      }\n",
              "    </script>\n",
              "  </div>\n",
              "\n",
              "\n",
              "<div id=\"df-79823c2b-49c3-456f-9783-d6f788e5691c\">\n",
              "  <button class=\"colab-df-quickchart\" onclick=\"quickchart('df-79823c2b-49c3-456f-9783-d6f788e5691c')\"\n",
              "            title=\"Suggest charts\"\n",
              "            style=\"display:none;\">\n",
              "\n",
              "<svg xmlns=\"http://www.w3.org/2000/svg\" height=\"24px\"viewBox=\"0 0 24 24\"\n",
              "     width=\"24px\">\n",
              "    <g>\n",
              "        <path d=\"M19 3H5c-1.1 0-2 .9-2 2v14c0 1.1.9 2 2 2h14c1.1 0 2-.9 2-2V5c0-1.1-.9-2-2-2zM9 17H7v-7h2v7zm4 0h-2V7h2v10zm4 0h-2v-4h2v4z\"/>\n",
              "    </g>\n",
              "</svg>\n",
              "  </button>\n",
              "\n",
              "<style>\n",
              "  .colab-df-quickchart {\n",
              "      --bg-color: #E8F0FE;\n",
              "      --fill-color: #1967D2;\n",
              "      --hover-bg-color: #E2EBFA;\n",
              "      --hover-fill-color: #174EA6;\n",
              "      --disabled-fill-color: #AAA;\n",
              "      --disabled-bg-color: #DDD;\n",
              "  }\n",
              "\n",
              "  [theme=dark] .colab-df-quickchart {\n",
              "      --bg-color: #3B4455;\n",
              "      --fill-color: #D2E3FC;\n",
              "      --hover-bg-color: #434B5C;\n",
              "      --hover-fill-color: #FFFFFF;\n",
              "      --disabled-bg-color: #3B4455;\n",
              "      --disabled-fill-color: #666;\n",
              "  }\n",
              "\n",
              "  .colab-df-quickchart {\n",
              "    background-color: var(--bg-color);\n",
              "    border: none;\n",
              "    border-radius: 50%;\n",
              "    cursor: pointer;\n",
              "    display: none;\n",
              "    fill: var(--fill-color);\n",
              "    height: 32px;\n",
              "    padding: 0;\n",
              "    width: 32px;\n",
              "  }\n",
              "\n",
              "  .colab-df-quickchart:hover {\n",
              "    background-color: var(--hover-bg-color);\n",
              "    box-shadow: 0 1px 2px rgba(60, 64, 67, 0.3), 0 1px 3px 1px rgba(60, 64, 67, 0.15);\n",
              "    fill: var(--button-hover-fill-color);\n",
              "  }\n",
              "\n",
              "  .colab-df-quickchart-complete:disabled,\n",
              "  .colab-df-quickchart-complete:disabled:hover {\n",
              "    background-color: var(--disabled-bg-color);\n",
              "    fill: var(--disabled-fill-color);\n",
              "    box-shadow: none;\n",
              "  }\n",
              "\n",
              "  .colab-df-spinner {\n",
              "    border: 2px solid var(--fill-color);\n",
              "    border-color: transparent;\n",
              "    border-bottom-color: var(--fill-color);\n",
              "    animation:\n",
              "      spin 1s steps(1) infinite;\n",
              "  }\n",
              "\n",
              "  @keyframes spin {\n",
              "    0% {\n",
              "      border-color: transparent;\n",
              "      border-bottom-color: var(--fill-color);\n",
              "      border-left-color: var(--fill-color);\n",
              "    }\n",
              "    20% {\n",
              "      border-color: transparent;\n",
              "      border-left-color: var(--fill-color);\n",
              "      border-top-color: var(--fill-color);\n",
              "    }\n",
              "    30% {\n",
              "      border-color: transparent;\n",
              "      border-left-color: var(--fill-color);\n",
              "      border-top-color: var(--fill-color);\n",
              "      border-right-color: var(--fill-color);\n",
              "    }\n",
              "    40% {\n",
              "      border-color: transparent;\n",
              "      border-right-color: var(--fill-color);\n",
              "      border-top-color: var(--fill-color);\n",
              "    }\n",
              "    60% {\n",
              "      border-color: transparent;\n",
              "      border-right-color: var(--fill-color);\n",
              "    }\n",
              "    80% {\n",
              "      border-color: transparent;\n",
              "      border-right-color: var(--fill-color);\n",
              "      border-bottom-color: var(--fill-color);\n",
              "    }\n",
              "    90% {\n",
              "      border-color: transparent;\n",
              "      border-bottom-color: var(--fill-color);\n",
              "    }\n",
              "  }\n",
              "</style>\n",
              "\n",
              "  <script>\n",
              "    async function quickchart(key) {\n",
              "      const quickchartButtonEl =\n",
              "        document.querySelector('#' + key + ' button');\n",
              "      quickchartButtonEl.disabled = true;  // To prevent multiple clicks.\n",
              "      quickchartButtonEl.classList.add('colab-df-spinner');\n",
              "      try {\n",
              "        const charts = await google.colab.kernel.invokeFunction(\n",
              "            'suggestCharts', [key], {});\n",
              "      } catch (error) {\n",
              "        console.error('Error during call to suggestCharts:', error);\n",
              "      }\n",
              "      quickchartButtonEl.classList.remove('colab-df-spinner');\n",
              "      quickchartButtonEl.classList.add('colab-df-quickchart-complete');\n",
              "    }\n",
              "    (() => {\n",
              "      let quickchartButtonEl =\n",
              "        document.querySelector('#df-79823c2b-49c3-456f-9783-d6f788e5691c button');\n",
              "      quickchartButtonEl.style.display =\n",
              "        google.colab.kernel.accessAllowed ? 'block' : 'none';\n",
              "    })();\n",
              "  </script>\n",
              "</div>\n",
              "\n",
              "    </div>\n",
              "  </div>\n"
            ],
            "application/vnd.google.colaboratory.intrinsic+json": {
              "type": "dataframe",
              "variable_name": "df"
            }
          },
          "metadata": {},
          "execution_count": 7
        }
      ]
    },
    {
      "cell_type": "markdown",
      "source": [
        "### Split Data and Label"
      ],
      "metadata": {
        "id": "a9OrhCo2KAMb"
      }
    },
    {
      "cell_type": "code",
      "source": [
        "dataset_arr = df.to_numpy()\n",
        "X, y = dataset_arr[:, :-1].astype(np.float64), dataset_arr[:, -1].astype(np.uint8)"
      ],
      "metadata": {
        "id": "L6y6RFk_KXFW"
      },
      "execution_count": 8,
      "outputs": []
    },
    {
      "cell_type": "markdown",
      "source": [
        "### Add intercept"
      ],
      "metadata": {
        "id": "fZLmtiVRKm2x"
      }
    },
    {
      "cell_type": "code",
      "source": [
        "intercept = np.ones((X.shape[0], 1))\n",
        "X = np.concatenate((intercept, X), axis=1)"
      ],
      "metadata": {
        "id": "pUMBM6KLJ8Iw"
      },
      "execution_count": 9,
      "outputs": []
    },
    {
      "cell_type": "markdown",
      "source": [
        "### One-hot encoding label"
      ],
      "metadata": {
        "id": "dRz1DreCKsa5"
      }
    },
    {
      "cell_type": "code",
      "source": [
        "n_classes = np.unique(y, axis=0).shape[0]\n",
        "n_samples = y.shape[0]\n",
        "\n",
        "y_encoded = np.array(\n",
        "    [np.zeros(n_classes) for _ in range(n_samples)]\n",
        ")\n",
        "\n",
        "y_encoded[np.arange(n_samples), y] = 1"
      ],
      "metadata": {
        "id": "KGx_xv6cKvEr"
      },
      "execution_count": 10,
      "outputs": []
    },
    {
      "cell_type": "markdown",
      "source": [
        "### Train - Val - Test Split"
      ],
      "metadata": {
        "id": "ALp0OUSrP3_n"
      }
    },
    {
      "cell_type": "code",
      "source": [
        "val_size = 0.2\n",
        "test_size = 0.125\n",
        "random_state = 2\n",
        "is_shuffle = True\n",
        "\n",
        "X_train, X_val, y_train, y_val = train_test_split(\n",
        "    X, y_encoded, test_size=val_size, random_state=random_state\n",
        ")\n",
        "\n",
        "X_val, X_test, y_val, y_test = train_test_split(\n",
        "    X_train, y_train, test_size=test_size, random_state=random_state\n",
        ")"
      ],
      "metadata": {
        "id": "Nk3epZ4PP2up"
      },
      "execution_count": 11,
      "outputs": []
    },
    {
      "cell_type": "markdown",
      "source": [
        "### Normalize Data"
      ],
      "metadata": {
        "id": "k2ksWuz6WD0g"
      }
    },
    {
      "cell_type": "code",
      "source": [
        "normalizer = StandardScaler()\n",
        "X_train = normalizer.fit_transform(X_train[:, 1:])\n",
        "X_val = normalizer.transform(X_val[:, 1:])\n",
        "X_test = normalizer.transform(X_test[:, 1:])"
      ],
      "metadata": {
        "id": "DhmBvfqqV4Uj"
      },
      "execution_count": 12,
      "outputs": []
    },
    {
      "cell_type": "markdown",
      "source": [
        "### Functionality"
      ],
      "metadata": {
        "id": "ICVjgesjQR4M"
      }
    },
    {
      "cell_type": "code",
      "source": [
        "def softmax(z):\n",
        "    shifted_z = z - np.max(z, axis=1, keepdims=True)\n",
        "    exp_z = np.exp(shifted_z)\n",
        "    return exp_z / np.sum(exp_z, axis=1, keepdims=True)"
      ],
      "metadata": {
        "id": "NZ_G7yFPQTVY"
      },
      "execution_count": 13,
      "outputs": []
    },
    {
      "cell_type": "code",
      "source": [
        "def predict(X, theta):\n",
        "    return softmax(X.dot(theta))"
      ],
      "metadata": {
        "id": "HbdpLOV4QbaW"
      },
      "execution_count": 14,
      "outputs": []
    },
    {
      "cell_type": "code",
      "source": [
        "def compute_loss(y_hat, y):\n",
        "    eps = 1e-15\n",
        "    y_hat = np.clip(y_hat, eps, 1 - eps)\n",
        "    return -np.mean(y * np.log(y_hat))"
      ],
      "metadata": {
        "id": "m6vq3BcSVpI1"
      },
      "execution_count": 15,
      "outputs": []
    },
    {
      "cell_type": "code",
      "source": [
        "def compute_gradient(X, y, y_hat):\n",
        "    return X.T.dot(y_hat - y) / X.shape[0]"
      ],
      "metadata": {
        "id": "CzDgwjHQQpUe"
      },
      "execution_count": 16,
      "outputs": []
    },
    {
      "cell_type": "code",
      "source": [
        "def update_theta(theta, gradient, learning_rate):\n",
        "    return theta - learning_rate * gradient"
      ],
      "metadata": {
        "id": "j8KbJqh_Qx5w"
      },
      "execution_count": 17,
      "outputs": []
    },
    {
      "cell_type": "code",
      "source": [
        "def compute_accuracy(X, y, theta):\n",
        "    y_hat = predict(X, theta)\n",
        "    y_pred = np.argmax(y_hat, axis=1)\n",
        "    y_true = np.argmax(y, axis=1)\n",
        "\n",
        "    return np.mean(y_pred == y_true)"
      ],
      "metadata": {
        "id": "ji2WPB18Q1KU"
      },
      "execution_count": 18,
      "outputs": []
    },
    {
      "cell_type": "markdown",
      "source": [
        "### Initialize Hyper-Parameter"
      ],
      "metadata": {
        "id": "91UNU1nxQ7l3"
      }
    },
    {
      "cell_type": "code",
      "source": [
        "lr = 0.01\n",
        "epochs = 30\n",
        "batch_size = 1024\n",
        "n_features = X_train.shape[1]\n",
        "\n",
        "np.random.seed(random_state)\n",
        "theta = np.random.uniform(size=(n_features, n_classes))"
      ],
      "metadata": {
        "id": "205zXp3FQ22t"
      },
      "execution_count": 19,
      "outputs": []
    },
    {
      "cell_type": "markdown",
      "source": [
        "### Trainning Progress"
      ],
      "metadata": {
        "id": "gL9WyV7aRPKD"
      }
    },
    {
      "cell_type": "code",
      "source": [
        "train_accs = []\n",
        "train_losses = []\n",
        "val_accs = []\n",
        "val_losses = []\n",
        "\n",
        "for epoch in range(epochs):\n",
        "    train_batch_losses = []\n",
        "    train_batch_accs = []\n",
        "    val_batch_losses = []\n",
        "    val_batch_accs = []\n",
        "\n",
        "    for i in range(0, X_train.shape[0], batch_size):\n",
        "        X_batch = X_train[i:i+batch_size]\n",
        "        y_batch = y_train[i:i+batch_size]\n",
        "\n",
        "        y_hat = predict(X_batch, theta)\n",
        "        train_loss = compute_loss(y_hat, y_batch)\n",
        "        gradient = compute_gradient(X_batch, y_batch, y_hat)\n",
        "        theta = update_theta(theta, gradient, lr)\n",
        "\n",
        "        train_batch_losses.append(train_loss)\n",
        "        train_acc = compute_accuracy(X_train, y_train, theta)\n",
        "\n",
        "        y_val_hat = predict(X_val, theta)\n",
        "        val_loss = compute_loss(y_val_hat, y_val)\n",
        "        val_batch_losses.append(val_loss)\n",
        "\n",
        "        val_acc = compute_accuracy(X_val, y_val, theta)\n",
        "        val_batch_accs.append(val_acc)\n",
        "\n",
        "    train_losses.append(np.mean(np.asarray(train_batch_losses)))\n",
        "    val_losses.append(np.mean(np.asarray(val_batch_losses)))\n",
        "    train_accs.append(np.mean(np.asarray(train_batch_accs)))\n",
        "    val_accs.append(np.mean(np.asarray(val_batch_accs)))\n",
        "\n",
        "    print(f\"EPOCH: {epoch + 1} - Training Loss: {train_losses[-1]} - Validation Loss: {val_losses[-1]}\")"
      ],
      "metadata": {
        "colab": {
          "base_uri": "https://localhost:8080/"
        },
        "id": "F_Z3OlMpRMkO",
        "outputId": "fb07a9b7-4ec1-4646-8f59-61fe4bc34803"
      },
      "execution_count": 20,
      "outputs": [
        {
          "output_type": "stream",
          "name": "stderr",
          "text": [
            "/usr/local/lib/python3.10/dist-packages/numpy/core/fromnumeric.py:3504: RuntimeWarning: Mean of empty slice.\n",
            "  return _methods._mean(a, axis=axis, dtype=dtype,\n",
            "/usr/local/lib/python3.10/dist-packages/numpy/core/_methods.py:129: RuntimeWarning: invalid value encountered in scalar divide\n",
            "  ret = ret.dtype.type(ret / rcount)\n"
          ]
        },
        {
          "output_type": "stream",
          "name": "stdout",
          "text": [
            "EPOCH: 1 - Training Loss: 0.44366009100385256 - Validation Loss: 0.44346228849788816\n",
            "EPOCH: 2 - Training Loss: 0.3752687783490512 - Validation Loss: 0.3751516830752189\n",
            "EPOCH: 3 - Training Loss: 0.353410176295026 - Validation Loss: 0.3533336361770557\n",
            "EPOCH: 4 - Training Loss: 0.3468213320030513 - Validation Loss: 0.34676519609091155\n",
            "EPOCH: 5 - Training Loss: 0.3450469624601142 - Validation Loss: 0.34500286499635985\n",
            "EPOCH: 6 - Training Loss: 0.3444198784398811 - Validation Loss: 0.3443817226898034\n",
            "EPOCH: 7 - Training Loss: 0.3440057641802485 - Validation Loss: 0.34397033001485666\n",
            "EPOCH: 8 - Training Loss: 0.3436406173644955 - Validation Loss: 0.3436066325165787\n",
            "EPOCH: 9 - Training Loss: 0.34329389281290035 - Validation Loss: 0.34326089181325753\n",
            "EPOCH: 10 - Training Loss: 0.34295646806428787 - Validation Loss: 0.3429242807598821\n",
            "EPOCH: 11 - Training Loss: 0.342624368819003 - Validation Loss: 0.34259293220664866\n",
            "EPOCH: 12 - Training Loss: 0.34229560864954306 - Validation Loss: 0.34226489947619043\n",
            "EPOCH: 13 - Training Loss: 0.34196914883129076 - Validation Loss: 0.34193915926849006\n",
            "EPOCH: 14 - Training Loss: 0.34164443281102397 - Validation Loss: 0.34161516155155325\n",
            "EPOCH: 15 - Training Loss: 0.341321155280928 - Validation Loss: 0.3412926041239659\n",
            "EPOCH: 16 - Training Loss: 0.3409991439111432 - Validation Loss: 0.34097131631836153\n",
            "EPOCH: 17 - Training Loss: 0.3406782978616712 - Validation Loss: 0.34065119825104684\n",
            "EPOCH: 18 - Training Loss: 0.3403585554174714 - Validation Loss: 0.34033218876025173\n",
            "EPOCH: 19 - Training Loss: 0.3400175574726916 - Validation Loss: 0.33999716571720084\n",
            "EPOCH: 20 - Training Loss: 0.33961592343570146 - Validation Loss: 0.33959819568830235\n",
            "EPOCH: 21 - Training Loss: 0.3392097280750557 - Validation Loss: 0.33919371434830564\n",
            "EPOCH: 22 - Training Loss: 0.3388046607328623 - Validation Loss: 0.33879036472846463\n",
            "EPOCH: 23 - Training Loss: 0.3384007084254176 - Validation Loss: 0.33838813370945736\n",
            "EPOCH: 24 - Training Loss: 0.3379978601663735 - Validation Loss: 0.33798701013053006\n",
            "EPOCH: 25 - Training Loss: 0.3375961063426637 - Validation Loss: 0.33758698417949895\n",
            "EPOCH: 26 - Training Loss: 0.33719543832874843 - Validation Loss: 0.33718804701724175\n",
            "EPOCH: 27 - Training Loss: 0.3367958482413421 - Validation Loss: 0.33679019053979364\n",
            "EPOCH: 28 - Training Loss: 0.33639732877861633 - Validation Loss: 0.336393407222771\n",
            "EPOCH: 29 - Training Loss: 0.33599987311123936 - Validation Loss: 0.335997690016052\n",
            "EPOCH: 30 - Training Loss: 0.335603474805884 - Validation Loss: 0.3356030322697696\n"
          ]
        }
      ]
    },
    {
      "cell_type": "code",
      "source": [
        "# Plotting\n",
        "plt.figure(figsize=(12, 4))\n",
        "\n",
        "plt.subplot(121)\n",
        "plt.plot(train_losses, label='Train')\n",
        "plt.plot(val_losses, label='Validation')\n",
        "plt.title('Loss vs Epoch')\n",
        "plt.xlabel('Epoch')\n",
        "plt.ylabel('Loss')\n",
        "plt.legend()\n",
        "\n",
        "plt.subplot(122)\n",
        "plt.plot(train_accs, label='Train')\n",
        "plt.plot(val_accs, label='Validation')\n",
        "plt.title('Accuracy vs Epoch')\n",
        "plt.xlabel('Epoch')\n",
        "plt.ylabel('Accuracy')\n",
        "plt.legend()\n",
        "\n",
        "plt.tight_layout()\n",
        "plt.show()\n",
        "\n",
        "# Final evaluation\n",
        "test_acc = compute_accuracy(X_test, y_test, theta)\n",
        "print(f'Test Accuracy: {test_acc:.4f}')"
      ],
      "metadata": {
        "id": "r6Zqb_OQUGT_",
        "colab": {
          "base_uri": "https://localhost:8080/",
          "height": 300
        },
        "outputId": "c3c81b1d-a230-4539-a3b6-f58d8fc6e58d"
      },
      "execution_count": 21,
      "outputs": [
        {
          "output_type": "display_data",
          "data": {
            "text/plain": [
              "<Figure size 1200x400 with 2 Axes>"
            ],
            "image/png": "[encoded data removed]"
          },
          "metadata": {}
        },
        {
          "output_type": "stream",
          "name": "stdout",
          "text": [
            "Test Accuracy: 0.9938\n"
          ]
        }
      ]
    },
    {
      "cell_type": "markdown",
      "source": [
        "## Twitter"
      ],
      "metadata": {
        "id": "_X95Bg0ZCgOz"
      }
    },
    {
      "cell_type": "markdown",
      "source": [
        "### Install Dataset"
      ],
      "metadata": {
        "id": "8vNiSFbWETD8"
      }
    },
    {
      "cell_type": "code",
      "source": [
        "!gdown 1GR3IwbvKNuiVXN5E5eMGyEQtT4pP7kCt"
      ],
      "metadata": {
        "colab": {
          "base_uri": "https://localhost:8080/"
        },
        "id": "nR_01ng2EZMH",
        "outputId": "0feda105-368a-4881-e404-b698a0ee048e"
      },
      "execution_count": 22,
      "outputs": [
        {
          "output_type": "stream",
          "name": "stdout",
          "text": [
            "Downloading...\n",
            "From: https://drive.google.com/uc?id=1GR3IwbvKNuiVXN5E5eMGyEQtT4pP7kCt\n",
            "To: /content/Twitter_Data.csv\n",
            "100% 20.9M/20.9M [00:00<00:00, 55.0MB/s]\n"
          ]
        }
      ]
    },
    {
      "cell_type": "markdown",
      "source": [
        "### Import Libraries"
      ],
      "metadata": {
        "id": "FC0O5j-8EczW"
      }
    },
    {
      "cell_type": "code",
      "source": [
        "import numpy as np\n",
        "import pandas as pd\n",
        "import matplotlib.pyplot as plt\n",
        "import re\n",
        "import nltk\n",
        "nltk.download('stopwords')\n",
        "\n",
        "from sklearn.model_selection import train_test_split\n",
        "from sklearn.feature_extraction.text import TfidfVectorizer\n",
        "from nltk.corpus import stopwords\n",
        "from nltk.stem import SnowballStemmer"
      ],
      "metadata": {
        "colab": {
          "base_uri": "https://localhost:8080/"
        },
        "id": "gYGGUHNzBsiD",
        "outputId": "26238ba7-1132-400d-a86f-b51ccf48e730"
      },
      "execution_count": 23,
      "outputs": [
        {
          "output_type": "stream",
          "name": "stderr",
          "text": [
            "[nltk_data] Downloading package stopwords to /root/nltk_data...\n",
            "[nltk_data]   Unzipping corpora/stopwords.zip.\n"
          ]
        }
      ]
    },
    {
      "cell_type": "markdown",
      "source": [
        "### Read Dataset"
      ],
      "metadata": {
        "id": "0o_k6umQB30H"
      }
    },
    {
      "cell_type": "code",
      "source": [
        "dataset_path = \"Twitter_Data.csv\"\n",
        "df = pd.read_csv(dataset_path)\n",
        "\n",
        "df = df.dropna()"
      ],
      "metadata": {
        "id": "IOqfgjQYB2-_"
      },
      "execution_count": 24,
      "outputs": []
    },
    {
      "cell_type": "code",
      "source": [
        "def text_normalize(text):\n",
        "    # Lowercasing\n",
        "    text = text.lower()\n",
        "\n",
        "    # Retweet old acronym \"RT\" removal\n",
        "    text = re.sub(r'^rt[\\s]+', '', text)\n",
        "\n",
        "    # Hyperlinks removal\n",
        "    text = re.sub(r'https?:\\/\\/.*[\\r\\n]*', '', text)\n",
        "\n",
        "    # Punctuation removal\n",
        "    text = re.sub(r'[^\\w\\s]', '', text)\n",
        "\n",
        "    # Remove stopwords\n",
        "    stop_words = set(stopwords.words('english'))\n",
        "    words = text.split()\n",
        "    words = [word for word in words if word not in stop_words]\n",
        "    text = ' '.join(words)\n",
        "\n",
        "    # Stemming\n",
        "    stemmer = SnowballStemmer('english')\n",
        "    words = text.split()\n",
        "    words = [stemmer.stem(word) for word in words]\n",
        "    text = ' '.join(words)\n",
        "\n",
        "    return text"
      ],
      "metadata": {
        "id": "oDQu_FcQB8rv"
      },
      "execution_count": 25,
      "outputs": []
    },
    {
      "cell_type": "markdown",
      "source": [
        "### Apply text normalization\n"
      ],
      "metadata": {
        "id": "-UyVJ0X4B-8B"
      }
    },
    {
      "cell_type": "code",
      "source": [
        "df.columns"
      ],
      "metadata": {
        "colab": {
          "base_uri": "https://localhost:8080/"
        },
        "id": "E-R9YaARMv7C",
        "outputId": "fed93ddd-498b-4b26-f5fd-3bdfdfab9ea0"
      },
      "execution_count": 27,
      "outputs": [
        {
          "output_type": "execute_result",
          "data": {
            "text/plain": [
              "Index(['clean_text', 'category'], dtype='object')"
            ]
          },
          "metadata": {},
          "execution_count": 27
        }
      ]
    },
    {
      "cell_type": "code",
      "source": [
        "df['clean_text'] = df['clean_text'].apply(text_normalize)"
      ],
      "metadata": {
        "id": "n4VdlPmGB97q"
      },
      "execution_count": 29,
      "outputs": []
    },
    {
      "cell_type": "markdown",
      "source": [],
      "metadata": {
        "id": "TNgbVpbpCBSP"
      }
    },
    {
      "cell_type": "markdown",
      "source": [
        "### TF-IDF Vectorization\n"
      ],
      "metadata": {
        "id": "Z4IJ2yQjCC_m"
      }
    },
    {
      "cell_type": "code",
      "source": [
        "vectorizer = TfidfVectorizer(max_features=2000)\n",
        "X = vectorizer.fit_transform(df['clean_text']).toarray()"
      ],
      "metadata": {
        "id": "bI1Vch_hCFqI"
      },
      "execution_count": 30,
      "outputs": []
    },
    {
      "cell_type": "markdown",
      "source": [
        "### Add bias term"
      ],
      "metadata": {
        "id": "S4Iqm0CDCIad"
      }
    },
    {
      "cell_type": "code",
      "source": [
        "intercept = np.ones((X.shape[0], 1))\n",
        "X_b = np.concatenate((intercept, X), axis=1)"
      ],
      "metadata": {
        "id": "o6eFcPW2CMaK"
      },
      "execution_count": 31,
      "outputs": []
    },
    {
      "cell_type": "markdown",
      "source": [
        "### One-hot Encoding Labels"
      ],
      "metadata": {
        "id": "7EbAv_wrCPak"
      }
    },
    {
      "cell_type": "code",
      "source": [
        "n_classes = df['category'].nunique()\n",
        "n_samples = df['category'].size\n",
        "\n",
        "y = df['category'].to_numpy() + 1\n",
        "y = y.astype(np.uint8)\n",
        "y_encoded = np.array([np.zeros(n_classes) for _ in range(n_samples)])\n",
        "y_encoded[np.arange(n_samples), y] = 1"
      ],
      "metadata": {
        "id": "2DAC9168CRm8"
      },
      "execution_count": 32,
      "outputs": []
    },
    {
      "cell_type": "markdown",
      "source": [
        "### Train-Val-Test Split\n"
      ],
      "metadata": {
        "id": "t6qf3zAlCSv2"
      }
    },
    {
      "cell_type": "code",
      "source": [
        "val_size = 0.2\n",
        "test_size = 0.125\n",
        "random_state = 2\n",
        "is_shuffle = True\n",
        "\n",
        "X_train, X_val, y_train, y_val = train_test_split(\n",
        "    X_b, y_encoded,\n",
        "    test_size=val_size,\n",
        "    random_state=random_state,\n",
        "    shuffle=is_shuffle\n",
        ")\n",
        "\n",
        "X_train, X_test, y_train, y_test = train_test_split(\n",
        "    X_train, y_train,\n",
        "    test_size=test_size,\n",
        "    random_state=random_state,\n",
        "    shuffle=is_shuffle\n",
        ")"
      ],
      "metadata": {
        "id": "VQF-FT_7CYt1"
      },
      "execution_count": 33,
      "outputs": []
    },
    {
      "cell_type": "markdown",
      "source": [
        "### Model Functions\n"
      ],
      "metadata": {
        "id": "eDvIi6wQCZrj"
      }
    },
    {
      "cell_type": "code",
      "source": [
        "def softmax(z):\n",
        "    exp_z = np.exp(z - np.max(z, axis=1, keepdims=True))\n",
        "    return exp_z / np.sum(exp_z, axis=1, keepdims=True)\n",
        "\n",
        "def predict(X, theta):\n",
        "    z = np.dot(X, theta)\n",
        "    return softmax(z)\n",
        "\n",
        "def compute_loss(y_hat, y):\n",
        "    epsilon = 1e-15\n",
        "    y_hat = np.clip(y_hat, epsilon, 1 - epsilon)\n",
        "    return -np.mean(np.sum(y * np.log(y_hat), axis=1))\n",
        "\n",
        "def compute_gradient(X, y, y_hat):\n",
        "    return np.dot(X.T, (y_hat - y)) / X.shape[0]\n",
        "\n",
        "def update_theta(theta, gradient, learning_rate):\n",
        "    return theta - learning_rate * gradient\n",
        "\n",
        "def compute_accuracy(X, y, theta):\n",
        "    y_hat = predict(X, theta)\n",
        "    return np.mean(np.argmax(y_hat, axis=1) == np.argmax(y, axis=1))"
      ],
      "metadata": {
        "id": "ir6l2X3aCkf8"
      },
      "execution_count": 34,
      "outputs": []
    },
    {
      "cell_type": "markdown",
      "source": [
        "### Initialize Parameters"
      ],
      "metadata": {
        "id": "ZrX_FEYuCl5z"
      }
    },
    {
      "cell_type": "code",
      "source": [
        "lr = 0.1\n",
        "epochs = 200\n",
        "batch_size = X_train.shape[0]  # Full batch gradient descent\n",
        "n_features = X_train.shape[1]\n",
        "\n",
        "np.random.seed(random_state)\n",
        "theta = np.random.uniform(low=-0.1, high=0.1, size=(n_features, n_classes))"
      ],
      "metadata": {
        "id": "jdWFrDNzCpIy"
      },
      "execution_count": 35,
      "outputs": []
    },
    {
      "cell_type": "markdown",
      "source": [
        "### Training Loop\n"
      ],
      "metadata": {
        "id": "zFoJSM8XCrex"
      }
    },
    {
      "cell_type": "code",
      "source": [
        "train_accs = []\n",
        "train_losses = []\n",
        "val_accs = []\n",
        "val_losses = []\n",
        "\n",
        "for epoch in range(epochs):\n",
        "    # Training\n",
        "    y_hat = predict(X_train, theta)\n",
        "    train_loss = compute_loss(y_hat, y_train)\n",
        "    gradient = compute_gradient(X_train, y_train, y_hat)\n",
        "    theta = update_theta(theta, gradient, lr)\n",
        "\n",
        "    # Calculate metrics\n",
        "    train_acc = compute_accuracy(X_train, y_train, theta)\n",
        "\n",
        "    val_y_hat = predict(X_val, theta)\n",
        "    val_loss = compute_loss(val_y_hat, y_val)\n",
        "    val_acc = compute_accuracy(X_val, y_val, theta)\n",
        "\n",
        "    # Store metrics\n",
        "    train_losses.append(train_loss)\n",
        "    train_accs.append(train_acc)\n",
        "    val_losses.append(val_loss)\n",
        "    val_accs.append(val_acc)\n",
        "\n",
        "    if (epoch + 1) % 10 == 0:\n",
        "        print(f'Epoch {epoch + 1}/{epochs}:')\n",
        "        print(f'Train Loss: {train_loss:.4f}, Train Acc: {train_acc:.4f}')\n",
        "        print(f'Val Loss: {val_loss:.4f}, Val Acc: {val_acc:.4f}\\n')"
      ],
      "metadata": {
        "colab": {
          "base_uri": "https://localhost:8080/"
        },
        "id": "6GAmT_AOBlVD",
        "outputId": "458441fc-e417-402e-c2be-6fb7c0857db7"
      },
      "execution_count": 36,
      "outputs": [
        {
          "output_type": "stream",
          "name": "stdout",
          "text": [
            "Epoch 10/200:\n",
            "Train Loss: 1.0840, Train Acc: 0.4383\n",
            "Val Loss: 1.0823, Val Acc: 0.4417\n",
            "\n",
            "Epoch 20/200:\n",
            "Train Loss: 1.0737, Train Acc: 0.4413\n",
            "Val Loss: 1.0723, Val Acc: 0.4451\n",
            "\n",
            "Epoch 30/200:\n",
            "Train Loss: 1.0682, Train Acc: 0.4420\n",
            "Val Loss: 1.0668, Val Acc: 0.4460\n",
            "\n",
            "Epoch 40/200:\n",
            "Train Loss: 1.0650, Train Acc: 0.4421\n",
            "Val Loss: 1.0636, Val Acc: 0.4462\n",
            "\n",
            "Epoch 50/200:\n",
            "Train Loss: 1.0631, Train Acc: 0.4421\n",
            "Val Loss: 1.0616, Val Acc: 0.4462\n",
            "\n",
            "Epoch 60/200:\n",
            "Train Loss: 1.0618, Train Acc: 0.4422\n",
            "Val Loss: 1.0603, Val Acc: 0.4461\n",
            "\n",
            "Epoch 70/200:\n",
            "Train Loss: 1.0609, Train Acc: 0.4422\n",
            "Val Loss: 1.0594, Val Acc: 0.4461\n",
            "\n",
            "Epoch 80/200:\n",
            "Train Loss: 1.0602, Train Acc: 0.4422\n",
            "Val Loss: 1.0586, Val Acc: 0.4461\n",
            "\n",
            "Epoch 90/200:\n",
            "Train Loss: 1.0596, Train Acc: 0.4422\n",
            "Val Loss: 1.0580, Val Acc: 0.4461\n",
            "\n",
            "Epoch 100/200:\n",
            "Train Loss: 1.0591, Train Acc: 0.4422\n",
            "Val Loss: 1.0575, Val Acc: 0.4461\n",
            "\n",
            "Epoch 110/200:\n",
            "Train Loss: 1.0586, Train Acc: 0.4422\n",
            "Val Loss: 1.0570, Val Acc: 0.4462\n",
            "\n",
            "Epoch 120/200:\n",
            "Train Loss: 1.0581, Train Acc: 0.4422\n",
            "Val Loss: 1.0565, Val Acc: 0.4462\n",
            "\n",
            "Epoch 130/200:\n",
            "Train Loss: 1.0577, Train Acc: 0.4422\n",
            "Val Loss: 1.0560, Val Acc: 0.4462\n",
            "\n",
            "Epoch 140/200:\n",
            "Train Loss: 1.0572, Train Acc: 0.4422\n",
            "Val Loss: 1.0556, Val Acc: 0.4462\n",
            "\n",
            "Epoch 150/200:\n",
            "Train Loss: 1.0568, Train Acc: 0.4422\n",
            "Val Loss: 1.0551, Val Acc: 0.4462\n",
            "\n",
            "Epoch 160/200:\n",
            "Train Loss: 1.0563, Train Acc: 0.4423\n",
            "Val Loss: 1.0547, Val Acc: 0.4462\n",
            "\n",
            "Epoch 170/200:\n",
            "Train Loss: 1.0559, Train Acc: 0.4423\n",
            "Val Loss: 1.0542, Val Acc: 0.4462\n",
            "\n",
            "Epoch 180/200:\n",
            "Train Loss: 1.0554, Train Acc: 0.4423\n",
            "Val Loss: 1.0538, Val Acc: 0.4462\n",
            "\n",
            "Epoch 190/200:\n",
            "Train Loss: 1.0550, Train Acc: 0.4423\n",
            "Val Loss: 1.0533, Val Acc: 0.4462\n",
            "\n",
            "Epoch 200/200:\n",
            "Train Loss: 1.0546, Train Acc: 0.4423\n",
            "Val Loss: 1.0529, Val Acc: 0.4462\n",
            "\n"
          ]
        }
      ]
    },
    {
      "cell_type": "markdown",
      "source": [
        "### Visualization\n"
      ],
      "metadata": {
        "id": "wcZT-kudCzPG"
      }
    },
    {
      "cell_type": "code",
      "source": [
        "plt.figure(figsize=(12, 4))\n",
        "\n",
        "plt.subplot(121)\n",
        "plt.plot(train_losses, label='Train')\n",
        "plt.plot(val_losses, label='Validation')\n",
        "plt.title('Loss vs Epoch')\n",
        "plt.xlabel('Epoch')\n",
        "plt.ylabel('Loss')\n",
        "plt.legend()\n",
        "\n",
        "plt.subplot(122)\n",
        "plt.plot(train_accs, label='Train')\n",
        "plt.plot(val_accs, label='Validation')\n",
        "plt.title('Accuracy vs Epoch')\n",
        "plt.xlabel('Epoch')\n",
        "plt.ylabel('Accuracy')\n",
        "plt.legend()\n",
        "\n",
        "plt.tight_layout()\n",
        "plt.show()\n",
        "\n",
        "# Final Evaluation\n",
        "test_acc = compute_accuracy(X_test, y_test, theta)\n",
        "print(f'Test Accuracy: {test_acc:.4f}')"
      ],
      "metadata": {
        "colab": {
          "base_uri": "https://localhost:8080/",
          "height": 300
        },
        "id": "12VvloP-CyLr",
        "outputId": "c6d6bbe6-5c16-4aa6-b745-183b8515ad68"
      },
      "execution_count": 37,
      "outputs": [
        {
          "output_type": "display_data",
          "data": {
            "text/plain": [
              "<Figure size 1200x400 with 2 Axes>"
            ],
            "image/png": "[encoded data removed]"
          },
          "metadata": {}
        },
        {
          "output_type": "stream",
          "name": "stdout",
          "text": [
            "Test Accuracy: 0.4452\n"
          ]
        }
      ]
    }
  ]
}